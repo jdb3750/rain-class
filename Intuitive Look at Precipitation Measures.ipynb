{
 "cells": [
  {
   "cell_type": "markdown",
   "metadata": {},
   "source": [
    "_After inspecting the total rainfall and the variability between both Spurs1 and Spurs2, we decided that the predetermined measure of a \"rain event\" (2 mm over 3 hrs) may not be a good general measure._"
   ]
  },
  {
   "cell_type": "code",
   "execution_count": 1,
   "metadata": {
    "ExecuteTime": {
     "end_time": "2019-03-05T16:30:15.259272Z",
     "start_time": "2019-03-05T16:29:33.313157Z"
    }
   },
   "outputs": [],
   "source": [
    "import numpy as np\n",
    "import pandas as pd\n",
    "import matplotlib.pyplot as plt\n",
    "import tensorflow as tf\n",
    "import scipy.io as sio\n",
    "import seaborn as sns\n",
    "%matplotlib inline"
   ]
  },
  {
   "cell_type": "code",
   "execution_count": 2,
   "metadata": {
    "ExecuteTime": {
     "end_time": "2019-03-05T16:34:56.083406Z",
     "start_time": "2019-03-05T16:34:55.848969Z"
    }
   },
   "outputs": [
    {
     "data": {
      "text/html": [
       "<div>\n",
       "<style scoped>\n",
       "    .dataframe tbody tr th:only-of-type {\n",
       "        vertical-align: middle;\n",
       "    }\n",
       "\n",
       "    .dataframe tbody tr th {\n",
       "        vertical-align: top;\n",
       "    }\n",
       "\n",
       "    .dataframe thead th {\n",
       "        text-align: right;\n",
       "    }\n",
       "</style>\n",
       "<table border=\"1\" class=\"dataframe\">\n",
       "  <thead>\n",
       "    <tr style=\"text-align: right;\">\n",
       "      <th></th>\n",
       "      <th>time</th>\n",
       "      <th>sss</th>\n",
       "      <th>sst</th>\n",
       "      <th>wind_spd</th>\n",
       "      <th>wind_dir</th>\n",
       "      <th>precip</th>\n",
       "      <th>cum_precip3</th>\n",
       "      <th>cum_precip6</th>\n",
       "      <th>year</th>\n",
       "      <th>month</th>\n",
       "      <th>...</th>\n",
       "      <th>scaled_sss</th>\n",
       "      <th>scaled_dir</th>\n",
       "      <th>scaled_spd</th>\n",
       "      <th>scaled_sst</th>\n",
       "      <th>pct_change</th>\n",
       "      <th>pct_c_scaled</th>\n",
       "      <th>set</th>\n",
       "      <th>sst_pct_change</th>\n",
       "      <th>dir_pct_change</th>\n",
       "      <th>spd_pct_change</th>\n",
       "    </tr>\n",
       "    <tr>\n",
       "      <th>new_time</th>\n",
       "      <th></th>\n",
       "      <th></th>\n",
       "      <th></th>\n",
       "      <th></th>\n",
       "      <th></th>\n",
       "      <th></th>\n",
       "      <th></th>\n",
       "      <th></th>\n",
       "      <th></th>\n",
       "      <th></th>\n",
       "      <th></th>\n",
       "      <th></th>\n",
       "      <th></th>\n",
       "      <th></th>\n",
       "      <th></th>\n",
       "      <th></th>\n",
       "      <th></th>\n",
       "      <th></th>\n",
       "      <th></th>\n",
       "      <th></th>\n",
       "      <th></th>\n",
       "    </tr>\n",
       "  </thead>\n",
       "  <tbody>\n",
       "    <tr>\n",
       "      <th>2016-08-24 02:30:00.000028800</th>\n",
       "      <td>736566.104167</td>\n",
       "      <td>32.785813</td>\n",
       "      <td>29.972728</td>\n",
       "      <td>1.499305</td>\n",
       "      <td>-35.279577</td>\n",
       "      <td>0.000000</td>\n",
       "      <td>0.000000</td>\n",
       "      <td>0.0</td>\n",
       "      <td>2016</td>\n",
       "      <td>8</td>\n",
       "      <td>...</td>\n",
       "      <td>-0.949913</td>\n",
       "      <td>0.090521</td>\n",
       "      <td>-1.915939</td>\n",
       "      <td>3.406521</td>\n",
       "      <td>0.000000</td>\n",
       "      <td>0.000000</td>\n",
       "      <td>Spurs2</td>\n",
       "      <td>0.000000</td>\n",
       "      <td>0.000000</td>\n",
       "      <td>0.000000</td>\n",
       "    </tr>\n",
       "    <tr>\n",
       "      <th>2016-08-24 03:29:59.999971200</th>\n",
       "      <td>736566.145833</td>\n",
       "      <td>32.789527</td>\n",
       "      <td>30.088739</td>\n",
       "      <td>2.201161</td>\n",
       "      <td>-44.300444</td>\n",
       "      <td>0.000000</td>\n",
       "      <td>0.000000</td>\n",
       "      <td>0.0</td>\n",
       "      <td>2016</td>\n",
       "      <td>8</td>\n",
       "      <td>...</td>\n",
       "      <td>-0.944399</td>\n",
       "      <td>0.006298</td>\n",
       "      <td>-1.601975</td>\n",
       "      <td>3.593902</td>\n",
       "      <td>0.000113</td>\n",
       "      <td>0.071216</td>\n",
       "      <td>Spurs2</td>\n",
       "      <td>2.067004</td>\n",
       "      <td>0.111099</td>\n",
       "      <td>0.366879</td>\n",
       "    </tr>\n",
       "    <tr>\n",
       "      <th>2016-08-24 04:30:00.000000000</th>\n",
       "      <td>736566.187500</td>\n",
       "      <td>32.627960</td>\n",
       "      <td>29.630041</td>\n",
       "      <td>4.694584</td>\n",
       "      <td>-80.636065</td>\n",
       "      <td>10.613047</td>\n",
       "      <td>10.613047</td>\n",
       "      <td>0.0</td>\n",
       "      <td>2016</td>\n",
       "      <td>8</td>\n",
       "      <td>...</td>\n",
       "      <td>-1.184285</td>\n",
       "      <td>-0.332949</td>\n",
       "      <td>-0.486581</td>\n",
       "      <td>2.853013</td>\n",
       "      <td>-0.004927</td>\n",
       "      <td>-3.166366</td>\n",
       "      <td>Spurs2</td>\n",
       "      <td>-8.128834</td>\n",
       "      <td>0.285528</td>\n",
       "      <td>0.962475</td>\n",
       "    </tr>\n",
       "    <tr>\n",
       "      <th>2016-08-24 05:30:00.000028800</th>\n",
       "      <td>736566.229167</td>\n",
       "      <td>32.606144</td>\n",
       "      <td>29.366735</td>\n",
       "      <td>1.339539</td>\n",
       "      <td>141.605791</td>\n",
       "      <td>1.210007</td>\n",
       "      <td>11.823053</td>\n",
       "      <td>0.0</td>\n",
       "      <td>2016</td>\n",
       "      <td>8</td>\n",
       "      <td>...</td>\n",
       "      <td>-1.216677</td>\n",
       "      <td>1.742009</td>\n",
       "      <td>-1.987408</td>\n",
       "      <td>2.427721</td>\n",
       "      <td>-0.000669</td>\n",
       "      <td>-0.431001</td>\n",
       "      <td>Spurs2</td>\n",
       "      <td>-4.737377</td>\n",
       "      <td>-0.819523</td>\n",
       "      <td>-0.693011</td>\n",
       "    </tr>\n",
       "    <tr>\n",
       "      <th>2016-08-24 06:29:59.999971200</th>\n",
       "      <td>736566.270833</td>\n",
       "      <td>32.606789</td>\n",
       "      <td>29.310380</td>\n",
       "      <td>1.805641</td>\n",
       "      <td>100.847879</td>\n",
       "      <td>0.000000</td>\n",
       "      <td>11.823053</td>\n",
       "      <td>0.0</td>\n",
       "      <td>2016</td>\n",
       "      <td>8</td>\n",
       "      <td>...</td>\n",
       "      <td>-1.215719</td>\n",
       "      <td>1.361473</td>\n",
       "      <td>-1.778904</td>\n",
       "      <td>2.336697</td>\n",
       "      <td>0.000020</td>\n",
       "      <td>0.011158</td>\n",
       "      <td>Spurs2</td>\n",
       "      <td>-1.021055</td>\n",
       "      <td>-0.056845</td>\n",
       "      <td>0.259200</td>\n",
       "    </tr>\n",
       "  </tbody>\n",
       "</table>\n",
       "<p>5 rows × 22 columns</p>\n",
       "</div>"
      ],
      "text/plain": [
       "                                        time        sss        sst  wind_spd  \\\n",
       "new_time                                                                       \n",
       "2016-08-24 02:30:00.000028800  736566.104167  32.785813  29.972728  1.499305   \n",
       "2016-08-24 03:29:59.999971200  736566.145833  32.789527  30.088739  2.201161   \n",
       "2016-08-24 04:30:00.000000000  736566.187500  32.627960  29.630041  4.694584   \n",
       "2016-08-24 05:30:00.000028800  736566.229167  32.606144  29.366735  1.339539   \n",
       "2016-08-24 06:29:59.999971200  736566.270833  32.606789  29.310380  1.805641   \n",
       "\n",
       "                                 wind_dir     precip  cum_precip3  \\\n",
       "new_time                                                            \n",
       "2016-08-24 02:30:00.000028800  -35.279577   0.000000     0.000000   \n",
       "2016-08-24 03:29:59.999971200  -44.300444   0.000000     0.000000   \n",
       "2016-08-24 04:30:00.000000000  -80.636065  10.613047    10.613047   \n",
       "2016-08-24 05:30:00.000028800  141.605791   1.210007    11.823053   \n",
       "2016-08-24 06:29:59.999971200  100.847879   0.000000    11.823053   \n",
       "\n",
       "                               cum_precip6  year  month  ...  scaled_sss  \\\n",
       "new_time                                                 ...               \n",
       "2016-08-24 02:30:00.000028800          0.0  2016      8  ...   -0.949913   \n",
       "2016-08-24 03:29:59.999971200          0.0  2016      8  ...   -0.944399   \n",
       "2016-08-24 04:30:00.000000000          0.0  2016      8  ...   -1.184285   \n",
       "2016-08-24 05:30:00.000028800          0.0  2016      8  ...   -1.216677   \n",
       "2016-08-24 06:29:59.999971200          0.0  2016      8  ...   -1.215719   \n",
       "\n",
       "                               scaled_dir  scaled_spd  scaled_sst  pct_change  \\\n",
       "new_time                                                                        \n",
       "2016-08-24 02:30:00.000028800    0.090521   -1.915939    3.406521    0.000000   \n",
       "2016-08-24 03:29:59.999971200    0.006298   -1.601975    3.593902    0.000113   \n",
       "2016-08-24 04:30:00.000000000   -0.332949   -0.486581    2.853013   -0.004927   \n",
       "2016-08-24 05:30:00.000028800    1.742009   -1.987408    2.427721   -0.000669   \n",
       "2016-08-24 06:29:59.999971200    1.361473   -1.778904    2.336697    0.000020   \n",
       "\n",
       "                               pct_c_scaled     set  sst_pct_change  \\\n",
       "new_time                                                              \n",
       "2016-08-24 02:30:00.000028800      0.000000  Spurs2        0.000000   \n",
       "2016-08-24 03:29:59.999971200      0.071216  Spurs2        2.067004   \n",
       "2016-08-24 04:30:00.000000000     -3.166366  Spurs2       -8.128834   \n",
       "2016-08-24 05:30:00.000028800     -0.431001  Spurs2       -4.737377   \n",
       "2016-08-24 06:29:59.999971200      0.011158  Spurs2       -1.021055   \n",
       "\n",
       "                              dir_pct_change  spd_pct_change  \n",
       "new_time                                                      \n",
       "2016-08-24 02:30:00.000028800       0.000000        0.000000  \n",
       "2016-08-24 03:29:59.999971200       0.111099        0.366879  \n",
       "2016-08-24 04:30:00.000000000       0.285528        0.962475  \n",
       "2016-08-24 05:30:00.000028800      -0.819523       -0.693011  \n",
       "2016-08-24 06:29:59.999971200      -0.056845        0.259200  \n",
       "\n",
       "[5 rows x 22 columns]"
      ]
     },
     "execution_count": 2,
     "metadata": {},
     "output_type": "execute_result"
    }
   ],
   "source": [
    "data = pd.read_csv('data.csv')\n",
    "data2 = pd.read_csv('data2.csv')\n",
    "data = data.set_index('new_time')\n",
    "data2 = data2.set_index('new_time')\n",
    "data2.head()"
   ]
  },
  {
   "cell_type": "markdown",
   "metadata": {},
   "source": [
    "# Looking at Spurs1"
   ]
  },
  {
   "cell_type": "code",
   "execution_count": 3,
   "metadata": {
    "ExecuteTime": {
     "end_time": "2019-03-05T16:34:59.974579Z",
     "start_time": "2019-03-05T16:34:59.552482Z"
    }
   },
   "outputs": [
    {
     "name": "stdout",
     "output_type": "stream",
     "text": [
      "711.9206638361812\n"
     ]
    },
    {
     "data": {
      "text/plain": [
       "count    9133.000000\n",
       "mean        0.077950\n",
       "std         0.889278\n",
       "min         0.000000\n",
       "25%         0.000000\n",
       "50%         0.000000\n",
       "75%         0.000000\n",
       "max        35.374674\n",
       "Name: precip, dtype: float64"
      ]
     },
     "execution_count": 3,
     "metadata": {},
     "output_type": "execute_result"
    }
   ],
   "source": [
    "print(data['precip'].sum())\n",
    "data['precip'].describe()"
   ]
  },
  {
   "cell_type": "markdown",
   "metadata": {},
   "source": [
    "So we can see that though the maximum rainfall in one hour is over 35 millimeters, the mean rainfall is only 0.078 millimeters with a variance of 0.79081536 millimeters. Also, for such a small mean and variance it is curious that there were over 700 millimeters of rainfall in the year span of the data."
   ]
  },
  {
   "cell_type": "code",
   "execution_count": 4,
   "metadata": {
    "ExecuteTime": {
     "end_time": "2019-03-05T16:35:02.021518Z",
     "start_time": "2019-03-05T16:35:01.990488Z"
    }
   },
   "outputs": [
    {
     "name": "stdout",
     "output_type": "stream",
     "text": [
      "7\n"
     ]
    },
    {
     "data": {
      "text/plain": [
       "166.33233761510294"
      ]
     },
     "execution_count": 4,
     "metadata": {},
     "output_type": "execute_result"
    }
   ],
   "source": [
    "large = data[data['precip'] > 15]\n",
    "print(large['precip'].count())\n",
    "large['precip'].sum()"
   ]
  },
  {
   "cell_type": "markdown",
   "metadata": {},
   "source": [
    "So we see above that there are only 7 instances of rainfall greater than 15 mm/hr for Spurs1, but they account for about 24% of the data. On the other end of the scale..."
   ]
  },
  {
   "cell_type": "code",
   "execution_count": 5,
   "metadata": {
    "ExecuteTime": {
     "end_time": "2019-03-05T16:35:03.162237Z",
     "start_time": "2019-03-05T16:35:03.146684Z"
    }
   },
   "outputs": [
    {
     "name": "stdout",
     "output_type": "stream",
     "text": [
      "192\n"
     ]
    },
    {
     "data": {
      "text/plain": [
       "16.707725507309327"
      ]
     },
     "execution_count": 5,
     "metadata": {},
     "output_type": "execute_result"
    }
   ],
   "source": [
    "other = data[(data['precip'] > 0) & (data['precip'] < .21)]\n",
    "print(other['precip'].count())\n",
    "other['precip'].sum()"
   ]
  },
  {
   "cell_type": "markdown",
   "metadata": {
    "ExecuteTime": {
     "end_time": "2019-02-22T20:02:21.451297Z",
     "start_time": "2019-02-22T20:02:21.436223Z"
    }
   },
   "source": [
    "Very small amounts of rainfall account for about 43% of the data points we have, but only 2.3% of the rainfall."
   ]
  },
  {
   "cell_type": "code",
   "execution_count": 225,
   "metadata": {
    "ExecuteTime": {
     "end_time": "2019-03-05T17:19:59.131609Z",
     "start_time": "2019-03-05T17:19:58.694309Z"
    }
   },
   "outputs": [
    {
     "data": {
      "image/png": "[encoded data removed]",
      "text/plain": [
       "<Figure size 432x288 with 1 Axes>"
      ]
     },
     "metadata": {
      "needs_background": "light"
     },
     "output_type": "display_data"
    }
   ],
   "source": [
    "(n, bins, patches) = plt.hist(\n",
    "    data['precip'], bins=np.arange(min(data[data['precip'] > 0]['precip']), \n",
    "    max(data[data['precip'] > 0]['precip']) + 0.5, 0.5))\n",
    "\n",
    "plt.xlim([min(data[data['precip'] > 0]['precip']),max(data[data['precip'] > 0]['precip'])])\n",
    "plt.xscale('log')\n",
    "plt.show()\n",
    "bin_centers = bins[0:71] + 0.25"
   ]
  },
  {
   "cell_type": "code",
   "execution_count": 255,
   "metadata": {
    "ExecuteTime": {
     "end_time": "2019-03-05T17:27:09.625732Z",
     "start_time": "2019-03-05T17:27:09.610104Z"
    }
   },
   "outputs": [
    {
     "data": {
      "text/plain": [
       "array([63.25, 47.25, 30.  , 33.25, 36.  , 22.  , 19.5 , 15.  , 42.5 ,\n",
       "       19.  , 15.75, 28.75, 18.75, 20.25,  0.  , 15.5 ,  0.  , 26.25,\n",
       "        0.  ,  9.75,  0.  ,  0.  , 11.25, 23.5 , 24.5 , 12.75, 13.25,\n",
       "       13.75, 14.25,  0.  ,  0.  ,  0.  ,  0.  ,  0.  , 17.25,  0.  ,\n",
       "       18.25, 18.75,  0.  ,  0.  ,  0.  ,  0.  ,  0.  , 21.75,  0.  ,\n",
       "        0.  , 23.25,  0.  ,  0.  ,  0.  ,  0.  ,  0.  ,  0.  ,  0.  ,\n",
       "        0.  ,  0.  ,  0.  ,  0.  ,  0.  ,  0.  ,  0.  ,  0.  , 31.25,\n",
       "        0.  ,  0.  ,  0.  ,  0.  ,  0.  ,  0.  ,  0.  , 35.25])"
      ]
     },
     "execution_count": 255,
     "metadata": {},
     "output_type": "execute_result"
    }
   ],
   "source": [
    "sums = n*bin_centers\n",
    "sums"
   ]
  },
  {
   "cell_type": "code",
   "execution_count": 256,
   "metadata": {
    "ExecuteTime": {
     "end_time": "2019-03-05T17:27:10.188327Z",
     "start_time": "2019-03-05T17:27:10.157297Z"
    }
   },
   "outputs": [
    {
     "data": {
      "text/plain": [
       "array([ 63.25, 110.5 , 140.5 , 173.75, 209.75, 231.75, 251.25, 266.25,\n",
       "       308.75, 327.75, 343.5 , 372.25, 391.  , 411.25, 411.25, 426.75,\n",
       "       426.75, 453.  , 453.  , 462.75, 462.75, 462.75, 474.  , 497.5 ,\n",
       "       522.  , 534.75, 548.  , 561.75, 576.  , 576.  , 576.  , 576.  ,\n",
       "       576.  , 576.  , 593.25, 593.25, 611.5 , 630.25, 630.25, 630.25,\n",
       "       630.25, 630.25, 630.25, 652.  , 652.  , 652.  , 675.25, 675.25,\n",
       "       675.25, 675.25, 675.25, 675.25, 675.25, 675.25, 675.25, 675.25,\n",
       "       675.25, 675.25, 675.25, 675.25, 675.25, 675.25, 706.5 , 706.5 ,\n",
       "       706.5 , 706.5 , 706.5 , 706.5 , 706.5 , 706.5 , 741.75])"
      ]
     },
     "execution_count": 256,
     "metadata": {},
     "output_type": "execute_result"
    }
   ],
   "source": [
    "sums.cumsum()"
   ]
  },
  {
   "cell_type": "code",
   "execution_count": 257,
   "metadata": {
    "ExecuteTime": {
     "end_time": "2019-03-05T17:27:10.876008Z",
     "start_time": "2019-03-05T17:27:10.750881Z"
    }
   },
   "outputs": [
    {
     "data": {
      "text/plain": [
       "<matplotlib.collections.PathCollection at 0x207c5d63278>"
      ]
     },
     "execution_count": 257,
     "metadata": {},
     "output_type": "execute_result"
    },
    {
     "data": {
      "image/png": "[encoded data removed]",
      "text/plain": [
       "<Figure size 432x288 with 1 Axes>"
      ]
     },
     "metadata": {
      "needs_background": "light"
     },
     "output_type": "display_data"
    }
   ],
   "source": [
    "plt.scatter(x=bin_centers, y=sums)"
   ]
  },
  {
   "cell_type": "code",
   "execution_count": 258,
   "metadata": {
    "ExecuteTime": {
     "end_time": "2019-03-05T17:27:12.126268Z",
     "start_time": "2019-03-05T17:27:11.798149Z"
    }
   },
   "outputs": [
    {
     "data": {
      "image/png": "[encoded data removed]",
      "text/plain": [
       "<Figure size 1080x432 with 1 Axes>"
      ]
     },
     "metadata": {
      "needs_background": "light"
     },
     "output_type": "display_data"
    }
   ],
   "source": [
    "_, ax = plt.subplots(figsize=(15,6))\n",
    "plt.bar(x=bin_centers, height=sums, width=0.3)\n",
    "plt.xlabel('Rain rate (mm/hr)')\n",
    "plt.ylabel('Total rainfall (mm)')\n",
    "plt.title('Spurs1 Total Rainfall')\n",
    "plt.xticks(np.arange(0,36,1));"
   ]
  },
  {
   "cell_type": "code",
   "execution_count": 259,
   "metadata": {
    "ExecuteTime": {
     "end_time": "2019-03-05T17:27:14.173386Z",
     "start_time": "2019-03-05T17:27:14.032977Z"
    }
   },
   "outputs": [
    {
     "data": {
      "image/png": "[encoded data removed]",
      "text/plain": [
       "<Figure size 432x288 with 1 Axes>"
      ]
     },
     "metadata": {
      "needs_background": "light"
     },
     "output_type": "display_data"
    }
   ],
   "source": [
    "fullsum = sums.cumsum()/sums.sum()\n",
    "halfsum = (sums.cumsum()/sums.sum())[:36]\n",
    "plt.plot(fullsum)\n",
    "plt.axhline(y=.5, color='r')\n",
    "plt.xlabel('Rain rate (mm/hr)')\n",
    "plt.ylabel('Total rainfall (mm)')\n",
    "plt.title('Spurs1 Cumulative Rainfall');"
   ]
  },
  {
   "cell_type": "code",
   "execution_count": 260,
   "metadata": {
    "ExecuteTime": {
     "end_time": "2019-03-05T17:27:17.769244Z",
     "start_time": "2019-03-05T17:27:17.628605Z"
    }
   },
   "outputs": [
    {
     "data": {
      "image/png": "[encoded data removed]",
      "text/plain": [
       "<Figure size 432x288 with 1 Axes>"
      ]
     },
     "metadata": {
      "needs_background": "light"
     },
     "output_type": "display_data"
    }
   ],
   "source": [
    "plt.plot(halfsum)\n",
    "plt.axhline(y=.5, color='r')\n",
    "plt.axvline(x=11, color='r')\n",
    "plt.xlabel('Rain rate (mm/hr) -- by 1/2 hr')\n",
    "plt.ylabel('Total rainfall (mm)')\n",
    "plt.title('Spurs1 Cumulative Rainfall');"
   ]
  },
  {
   "cell_type": "markdown",
   "metadata": {},
   "source": [
    "So we can see that the 50/50 split of rainfall occurs around to 5.5 millimeters/hr; half of all rainfall occurs below that margin."
   ]
  },
  {
   "cell_type": "code",
   "execution_count": 261,
   "metadata": {
    "ExecuteTime": {
     "end_time": "2019-03-05T17:27:28.506982Z",
     "start_time": "2019-03-05T17:27:28.147571Z"
    }
   },
   "outputs": [
    {
     "data": {
      "image/png": "[encoded data removed]",
      "text/plain": [
       "<Figure size 432x288 with 1 Axes>"
      ]
     },
     "metadata": {
      "needs_background": "light"
     },
     "output_type": "display_data"
    }
   ],
   "source": [
    "rainlag = data['precip'].reset_index().drop('new_time', axis=1)\n",
    "pct_lag = data['pct_change'].reset_index().drop('new_time', axis=1).shift(1).fillna(0)\n",
    "#lagged = pd.DataFrame(rainlag, pct_lag)\n",
    "#pct_lag\n",
    "plt.scatter(x=rainlag, y=pct_lag, label='Lagged')\n",
    "plt.scatter(x=data['precip'], y=data['pct_change'], label='Original Time')\n",
    "plt.title('Lagged Salinity Based on Rainfall')\n",
    "plt.ylabel('Pct. Salinity Change')\n",
    "plt.xlabel('Rainfall (mm/hr)')\n",
    "plt.legend()\n",
    "plt.show()"
   ]
  },
  {
   "cell_type": "code",
   "execution_count": 262,
   "metadata": {
    "ExecuteTime": {
     "end_time": "2019-03-05T17:27:29.350847Z",
     "start_time": "2019-03-05T17:27:28.975782Z"
    }
   },
   "outputs": [
    {
     "data": {
      "image/png": "[encoded data removed]",
      "text/plain": [
       "<Figure size 432x288 with 1 Axes>"
      ]
     },
     "metadata": {
      "needs_background": "light"
     },
     "output_type": "display_data"
    }
   ],
   "source": [
    "rainlag = pd.DataFrame(data['precip'].reset_index().drop('new_time', axis=1).shift(1).fillna(0))\n",
    "pct_lag = pd.DataFrame(data['pct_change'].reset_index().drop('new_time', axis=1))\n",
    "newlagged = pd.concat([rainlag, pct_lag], axis=1, join='outer')\n",
    "#pct_lag\n",
    "plt.scatter(x=rainlag, y=pct_lag, label='Lagged')\n",
    "plt.scatter(x=data['precip'], y=data['pct_change'], label='Original Time')\n",
    "plt.title('Lagged Rainfall Based on Salinity Change')\n",
    "plt.ylabel('Pct. Salinity Change')\n",
    "plt.xlabel('Rainfall (mm/hr)')\n",
    "plt.legend()\n",
    "plt.show()"
   ]
  },
  {
   "cell_type": "code",
   "execution_count": 263,
   "metadata": {
    "ExecuteTime": {
     "end_time": "2019-03-05T17:27:29.772775Z",
     "start_time": "2019-03-05T17:27:29.757116Z"
    }
   },
   "outputs": [
    {
     "data": {
      "text/html": [
       "<div>\n",
       "<style scoped>\n",
       "    .dataframe tbody tr th:only-of-type {\n",
       "        vertical-align: middle;\n",
       "    }\n",
       "\n",
       "    .dataframe tbody tr th {\n",
       "        vertical-align: top;\n",
       "    }\n",
       "\n",
       "    .dataframe thead th {\n",
       "        text-align: right;\n",
       "    }\n",
       "</style>\n",
       "<table border=\"1\" class=\"dataframe\">\n",
       "  <thead>\n",
       "    <tr style=\"text-align: right;\">\n",
       "      <th></th>\n",
       "      <th>precip</th>\n",
       "      <th>pct_change</th>\n",
       "    </tr>\n",
       "  </thead>\n",
       "  <tbody>\n",
       "    <tr>\n",
       "      <th>precip</th>\n",
       "      <td>1.00000</td>\n",
       "      <td>-0.03958</td>\n",
       "    </tr>\n",
       "    <tr>\n",
       "      <th>pct_change</th>\n",
       "      <td>-0.03958</td>\n",
       "      <td>1.00000</td>\n",
       "    </tr>\n",
       "  </tbody>\n",
       "</table>\n",
       "</div>"
      ],
      "text/plain": [
       "             precip  pct_change\n",
       "precip      1.00000    -0.03958\n",
       "pct_change -0.03958     1.00000"
      ]
     },
     "execution_count": 263,
     "metadata": {},
     "output_type": "execute_result"
    }
   ],
   "source": [
    "#The lagged on salinity set -- did rain cause change\n",
    "lagged = pd.concat([rainlag, pct_lag], axis=1, join='outer')\n",
    "lagged.corr()"
   ]
  },
  {
   "cell_type": "code",
   "execution_count": 264,
   "metadata": {
    "ExecuteTime": {
     "end_time": "2019-03-05T17:27:30.367765Z",
     "start_time": "2019-03-05T17:27:30.352104Z"
    },
    "scrolled": true
   },
   "outputs": [
    {
     "data": {
      "text/html": [
       "<div>\n",
       "<style scoped>\n",
       "    .dataframe tbody tr th:only-of-type {\n",
       "        vertical-align: middle;\n",
       "    }\n",
       "\n",
       "    .dataframe tbody tr th {\n",
       "        vertical-align: top;\n",
       "    }\n",
       "\n",
       "    .dataframe thead th {\n",
       "        text-align: right;\n",
       "    }\n",
       "</style>\n",
       "<table border=\"1\" class=\"dataframe\">\n",
       "  <thead>\n",
       "    <tr style=\"text-align: right;\">\n",
       "      <th></th>\n",
       "      <th>precip</th>\n",
       "      <th>pct_change</th>\n",
       "    </tr>\n",
       "  </thead>\n",
       "  <tbody>\n",
       "    <tr>\n",
       "      <th>precip</th>\n",
       "      <td>1.00000</td>\n",
       "      <td>-0.03958</td>\n",
       "    </tr>\n",
       "    <tr>\n",
       "      <th>pct_change</th>\n",
       "      <td>-0.03958</td>\n",
       "      <td>1.00000</td>\n",
       "    </tr>\n",
       "  </tbody>\n",
       "</table>\n",
       "</div>"
      ],
      "text/plain": [
       "             precip  pct_change\n",
       "precip      1.00000    -0.03958\n",
       "pct_change -0.03958     1.00000"
      ]
     },
     "execution_count": 264,
     "metadata": {},
     "output_type": "execute_result"
    }
   ],
   "source": [
    "## Lagged on Rainfall-- did salinity cause precip\n",
    "newlagged.corr()"
   ]
  },
  {
   "cell_type": "code",
   "execution_count": 265,
   "metadata": {
    "ExecuteTime": {
     "end_time": "2019-03-05T17:27:30.867817Z",
     "start_time": "2019-03-05T17:27:30.836732Z"
    }
   },
   "outputs": [
    {
     "data": {
      "text/html": [
       "<div>\n",
       "<style scoped>\n",
       "    .dataframe tbody tr th:only-of-type {\n",
       "        vertical-align: middle;\n",
       "    }\n",
       "\n",
       "    .dataframe tbody tr th {\n",
       "        vertical-align: top;\n",
       "    }\n",
       "\n",
       "    .dataframe thead th {\n",
       "        text-align: right;\n",
       "    }\n",
       "</style>\n",
       "<table border=\"1\" class=\"dataframe\">\n",
       "  <thead>\n",
       "    <tr style=\"text-align: right;\">\n",
       "      <th></th>\n",
       "      <th>precip</th>\n",
       "      <th>pct_change</th>\n",
       "    </tr>\n",
       "  </thead>\n",
       "  <tbody>\n",
       "    <tr>\n",
       "      <th>precip</th>\n",
       "      <td>1.00000</td>\n",
       "      <td>-0.49476</td>\n",
       "    </tr>\n",
       "    <tr>\n",
       "      <th>pct_change</th>\n",
       "      <td>-0.49476</td>\n",
       "      <td>1.00000</td>\n",
       "    </tr>\n",
       "  </tbody>\n",
       "</table>\n",
       "</div>"
      ],
      "text/plain": [
       "             precip  pct_change\n",
       "precip      1.00000    -0.49476\n",
       "pct_change -0.49476     1.00000"
      ]
     },
     "execution_count": 265,
     "metadata": {},
     "output_type": "execute_result"
    }
   ],
   "source": [
    "## The unaltered original set\n",
    "data[['precip', 'pct_change']].corr()"
   ]
  },
  {
   "cell_type": "code",
   "execution_count": 266,
   "metadata": {
    "ExecuteTime": {
     "end_time": "2019-03-05T17:27:31.461597Z",
     "start_time": "2019-03-05T17:27:31.445971Z"
    }
   },
   "outputs": [
    {
     "data": {
      "text/html": [
       "<div>\n",
       "<style scoped>\n",
       "    .dataframe tbody tr th:only-of-type {\n",
       "        vertical-align: middle;\n",
       "    }\n",
       "\n",
       "    .dataframe tbody tr th {\n",
       "        vertical-align: top;\n",
       "    }\n",
       "\n",
       "    .dataframe thead th {\n",
       "        text-align: right;\n",
       "    }\n",
       "</style>\n",
       "<table border=\"1\" class=\"dataframe\">\n",
       "  <thead>\n",
       "    <tr style=\"text-align: right;\">\n",
       "      <th></th>\n",
       "      <th>precip</th>\n",
       "      <th>pct_change</th>\n",
       "    </tr>\n",
       "  </thead>\n",
       "  <tbody>\n",
       "    <tr>\n",
       "      <th>precip</th>\n",
       "      <td>1.000000</td>\n",
       "      <td>-0.585121</td>\n",
       "    </tr>\n",
       "    <tr>\n",
       "      <th>pct_change</th>\n",
       "      <td>-0.585121</td>\n",
       "      <td>1.000000</td>\n",
       "    </tr>\n",
       "  </tbody>\n",
       "</table>\n",
       "</div>"
      ],
      "text/plain": [
       "              precip  pct_change\n",
       "precip      1.000000   -0.585121\n",
       "pct_change -0.585121    1.000000"
      ]
     },
     "execution_count": 266,
     "metadata": {},
     "output_type": "execute_result"
    }
   ],
   "source": [
    "## Only when rain occurred...\n",
    "rain = data[data['precip'] > 0]\n",
    "\n",
    "rain[['precip', 'pct_change']].corr()"
   ]
  },
  {
   "cell_type": "markdown",
   "metadata": {},
   "source": [
    "So for Spurs1, we can conclude that the greatest effect that occurs with percent change in salinity and rainfall is \n",
    "\n",
    "a) when rainfall is present, and \n",
    "\n",
    "b)within the same hour that it occurs"
   ]
  },
  {
   "cell_type": "markdown",
   "metadata": {},
   "source": [
    "# Spurs2"
   ]
  },
  {
   "cell_type": "code",
   "execution_count": 267,
   "metadata": {
    "ExecuteTime": {
     "end_time": "2019-03-05T17:27:33.072556Z",
     "start_time": "2019-03-05T17:27:33.041470Z"
    }
   },
   "outputs": [
    {
     "name": "stdout",
     "output_type": "stream",
     "text": [
      "3927.2051423026883\n"
     ]
    },
    {
     "data": {
      "text/plain": [
       "count    10459.000000\n",
       "mean         0.375486\n",
       "std          1.927136\n",
       "min          0.000000\n",
       "25%          0.000000\n",
       "50%          0.000000\n",
       "75%          0.000000\n",
       "max         45.403696\n",
       "Name: precip, dtype: float64"
      ]
     },
     "execution_count": 267,
     "metadata": {},
     "output_type": "execute_result"
    }
   ],
   "source": [
    "print(data2['precip'].sum())\n",
    "data2['precip'].describe()"
   ]
  },
  {
   "cell_type": "code",
   "execution_count": 268,
   "metadata": {
    "ExecuteTime": {
     "end_time": "2019-03-05T17:27:33.510102Z",
     "start_time": "2019-03-05T17:27:33.478814Z"
    }
   },
   "outputs": [
    {
     "name": "stdout",
     "output_type": "stream",
     "text": [
      "Substantive rainfall: 953.5881939600546 mm over 43 events\n",
      "Marginal rainfall: 58.33822054609101 mm over 656 events\n",
      "Rainfall: 546.759144875758 mm over 651 events\n"
     ]
    }
   ],
   "source": [
    "large = data2[data2['precip'] > 15]\n",
    "print('Substantive rainfall:', large['precip'].sum(), 'mm over', large['precip'].count(), 'events')\n",
    "small = data2[(data2['precip'] > 0) & (data2['precip'] < .21)]\n",
    "print('Marginal rainfall:', small['precip'].sum(), 'mm over', small['precip'].count(), 'events')\n",
    "other = data2[(data2['precip'] > 0.21) & (data2['precip'] <= 2)]\n",
    "print('Rainfall:', other['precip'].sum(), 'mm over', other['precip'].count(), 'events')"
   ]
  },
  {
   "cell_type": "code",
   "execution_count": 269,
   "metadata": {
    "ExecuteTime": {
     "end_time": "2019-03-05T17:27:34.072659Z",
     "start_time": "2019-03-05T17:27:34.057253Z"
    }
   },
   "outputs": [
    {
     "data": {
      "text/plain": [
       "3927.2051423026883"
      ]
     },
     "execution_count": 269,
     "metadata": {},
     "output_type": "execute_result"
    }
   ],
   "source": [
    "data2['precip'].sum()"
   ]
  },
  {
   "cell_type": "code",
   "execution_count": 270,
   "metadata": {
    "ExecuteTime": {
     "end_time": "2019-03-05T17:27:34.963379Z",
     "start_time": "2019-03-05T17:27:34.369534Z"
    }
   },
   "outputs": [
    {
     "data": {
      "image/png": "[encoded data removed]",
      "text/plain": [
       "<Figure size 432x288 with 1 Axes>"
      ]
     },
     "metadata": {
      "needs_background": "light"
     },
     "output_type": "display_data"
    }
   ],
   "source": [
    "(n, bins, patches) = plt.hist(\n",
    "    data2['precip'], bins=np.arange(min(data2[data2['precip'] > 0]['precip']), \n",
    "    max(data2[data2['precip'] > 0]['precip']) + 0.5, 0.5))\n",
    "\n",
    "plt.xlim([min(data2[data2['precip'] > 0]['precip']),max(data2[data2['precip'] > 0]['precip'])])\n",
    "plt.xscale('log')\n",
    "plt.show()\n",
    "bin_centers = bins[0:91] + 0.25"
   ]
  },
  {
   "cell_type": "code",
   "execution_count": 271,
   "metadata": {
    "ExecuteTime": {
     "end_time": "2019-03-05T17:27:36.057244Z",
     "start_time": "2019-03-05T17:27:36.041587Z"
    }
   },
   "outputs": [
    {
     "data": {
      "text/plain": [
       "array([221.09165564, 155.38885796, 150.08049737, 171.56573952,\n",
       "       168.80031085, 129.28152813, 117.02414921, 127.52280759,\n",
       "       174.27750327, 156.77213678, 141.76811191, 126.51475785,\n",
       "        81.25872055,  67.50670811,  87.00804974, 100.75872055,\n",
       "        66.00536649,  87.50670811,  74.00536649,  68.25469568,\n",
       "        41.00268325, 118.25737893,  67.50402487,  58.75335406,\n",
       "        85.75469568, 127.50670811,  26.50134162,  13.75067081,\n",
       "        28.50134162,  29.50134162,  30.50134162,  31.50134162,\n",
       "        32.50134162,  33.50134162,  86.25335406,  53.25201243,\n",
       "        18.25067081,  18.75067081,  38.50134162,  19.75067081,\n",
       "        40.50134162,  20.75067081,  21.25067081,  21.75067081,\n",
       "         0.        ,   0.        ,  23.25067081,   0.        ,\n",
       "        72.75201243,   0.        ,  25.25067081,  25.75067081,\n",
       "        78.75201243,   0.        ,   0.        ,  55.50134162,\n",
       "         0.        ,   0.        ,   0.        ,   0.        ,\n",
       "         0.        ,  61.50134162,   0.        ,  31.75067081,\n",
       "         0.        ,  32.75067081,  33.25067081,   0.        ,\n",
       "         0.        ,   0.        ,   0.        ,   0.        ,\n",
       "         0.        ,   0.        ,   0.        ,   0.        ,\n",
       "         0.        ,   0.        ,   0.        ,   0.        ,\n",
       "         0.        ,   0.        ,   0.        ,   0.        ,\n",
       "         0.        ,   0.        ,   0.        ,   0.        ,\n",
       "         0.        ,   0.        ,  45.25067081])"
      ]
     },
     "execution_count": 271,
     "metadata": {},
     "output_type": "execute_result"
    }
   ],
   "source": [
    "sums = n*bin_centers\n",
    "sums"
   ]
  },
  {
   "cell_type": "code",
   "execution_count": 272,
   "metadata": {
    "ExecuteTime": {
     "end_time": "2019-03-05T17:27:36.744818Z",
     "start_time": "2019-03-05T17:27:36.729158Z"
    },
    "scrolled": true
   },
   "outputs": [
    {
     "data": {
      "text/plain": [
       "array([ 0.25067081,  0.75067081,  1.25067081,  1.75067081,  2.25067081,\n",
       "        2.75067081,  3.25067081,  3.75067081,  4.25067081,  4.75067081,\n",
       "        5.25067081,  5.75067081,  6.25067081,  6.75067081,  7.25067081,\n",
       "        7.75067081,  8.25067081,  8.75067081,  9.25067081,  9.75067081,\n",
       "       10.25067081, 10.75067081, 11.25067081, 11.75067081, 12.25067081,\n",
       "       12.75067081, 13.25067081, 13.75067081, 14.25067081, 14.75067081,\n",
       "       15.25067081, 15.75067081, 16.25067081, 16.75067081, 17.25067081,\n",
       "       17.75067081, 18.25067081, 18.75067081, 19.25067081, 19.75067081,\n",
       "       20.25067081, 20.75067081, 21.25067081, 21.75067081, 22.25067081,\n",
       "       22.75067081, 23.25067081, 23.75067081, 24.25067081, 24.75067081,\n",
       "       25.25067081, 25.75067081, 26.25067081, 26.75067081, 27.25067081,\n",
       "       27.75067081, 28.25067081, 28.75067081, 29.25067081, 29.75067081,\n",
       "       30.25067081, 30.75067081, 31.25067081, 31.75067081, 32.25067081,\n",
       "       32.75067081, 33.25067081, 33.75067081, 34.25067081, 34.75067081,\n",
       "       35.25067081, 35.75067081, 36.25067081, 36.75067081, 37.25067081,\n",
       "       37.75067081, 38.25067081, 38.75067081, 39.25067081, 39.75067081,\n",
       "       40.25067081, 40.75067081, 41.25067081, 41.75067081, 42.25067081,\n",
       "       42.75067081, 43.25067081, 43.75067081, 44.25067081, 44.75067081,\n",
       "       45.25067081])"
      ]
     },
     "execution_count": 272,
     "metadata": {},
     "output_type": "execute_result"
    }
   ],
   "source": [
    "bin_centers"
   ]
  },
  {
   "cell_type": "code",
   "execution_count": 273,
   "metadata": {
    "ExecuteTime": {
     "end_time": "2019-03-05T17:27:37.604392Z",
     "start_time": "2019-03-05T17:27:37.479271Z"
    }
   },
   "outputs": [
    {
     "data": {
      "text/plain": [
       "<matplotlib.collections.PathCollection at 0x207c6a7c978>"
      ]
     },
     "execution_count": 273,
     "metadata": {},
     "output_type": "execute_result"
    },
    {
     "data": {
      "image/png": "[encoded data removed]",
      "text/plain": [
       "<Figure size 432x288 with 1 Axes>"
      ]
     },
     "metadata": {
      "needs_background": "light"
     },
     "output_type": "display_data"
    }
   ],
   "source": [
    "plt.scatter(x=bin_centers, y=sums)"
   ]
  },
  {
   "cell_type": "code",
   "execution_count": 274,
   "metadata": {
    "ExecuteTime": {
     "end_time": "2019-03-05T17:27:38.916885Z",
     "start_time": "2019-03-05T17:27:38.448111Z"
    }
   },
   "outputs": [
    {
     "data": {
      "image/png": "[encoded data removed]",
      "text/plain": [
       "<Figure size 1080x432 with 1 Axes>"
      ]
     },
     "metadata": {
      "needs_background": "light"
     },
     "output_type": "display_data"
    }
   ],
   "source": [
    "_, ax = plt.subplots(figsize=(15,6))\n",
    "plt.bar(x=bin_centers, height=sums, width=0.3)\n",
    "plt.xlabel('Rain rate (mm/hr)')\n",
    "plt.ylabel('Total rainfall (mm)')\n",
    "plt.title('Spurs2 Total Rainfall')\n",
    "plt.xticks(np.arange(0,46,1));"
   ]
  },
  {
   "cell_type": "code",
   "execution_count": 275,
   "metadata": {
    "ExecuteTime": {
     "end_time": "2019-03-05T17:27:42.309328Z",
     "start_time": "2019-03-05T17:27:42.184283Z"
    }
   },
   "outputs": [
    {
     "data": {
      "image/png": "[encoded data removed]",
      "text/plain": [
       "<Figure size 432x288 with 1 Axes>"
      ]
     },
     "metadata": {
      "needs_background": "light"
     },
     "output_type": "display_data"
    }
   ],
   "source": [
    "fullsum = sums.cumsum()/sums.sum()\n",
    "halfsum = (sums.cumsum()/sums.sum())[:46]\n",
    "plt.plot(fullsum)\n",
    "plt.axhline(y=.5, color='r')\n",
    "plt.xlabel('Rain rate (mm/hr)')\n",
    "plt.ylabel('Total rainfall (mm)')\n",
    "plt.title('Spurs2 Cumulative Rainfall');"
   ]
  },
  {
   "cell_type": "code",
   "execution_count": 288,
   "metadata": {
    "ExecuteTime": {
     "end_time": "2019-03-05T17:28:36.362976Z",
     "start_time": "2019-03-05T17:28:36.237963Z"
    }
   },
   "outputs": [
    {
     "data": {
      "image/png": "[encoded data removed]",
      "text/plain": [
       "<Figure size 432x288 with 1 Axes>"
      ]
     },
     "metadata": {
      "needs_background": "light"
     },
     "output_type": "display_data"
    }
   ],
   "source": [
    "plt.plot(halfsum)\n",
    "plt.axhline(y=.5, color='r')\n",
    "plt.axvline(x=13.4, color='r')\n",
    "plt.xlabel('Rain rate (mm/hr) -- by 1/2 hr')\n",
    "plt.ylabel('Total rainfall (mm)')\n",
    "plt.title('Spurs2 Cumulative Rainfall');"
   ]
  },
  {
   "cell_type": "markdown",
   "metadata": {},
   "source": [
    "In this spurs2 set, we know there are far more rain events, especially larger ones. Thus, it is not surprising that 50% of our rainfall occurs at a much higher threshold than Spurs1, at about 6.75 mm/ hr"
   ]
  },
  {
   "cell_type": "code",
   "execution_count": 292,
   "metadata": {
    "ExecuteTime": {
     "end_time": "2019-03-05T17:30:36.368666Z",
     "start_time": "2019-03-05T17:30:36.179938Z"
    }
   },
   "outputs": [
    {
     "data": {
      "image/png": "[encoded data removed]",
      "text/plain": [
       "<Figure size 432x288 with 1 Axes>"
      ]
     },
     "metadata": {
      "needs_background": "light"
     },
     "output_type": "display_data"
    }
   ],
   "source": [
    "rain_lag2 = pd.DataFrame(rain2['precip'].reset_index().drop('new_time', axis=1))\n",
    "pct_rain_lag2 = pd.DataFrame(rain2['pct_change'].reset_index().drop('new_time', axis=1).shift(1).fillna(0))\n",
    "rainlagged = pd.concat([rain_lag2, pct_rain_lag2], axis=1, join='outer')\n",
    "#pct_lag\n",
    "plt.scatter(x=rain_lag2, y=pct_rain_lag2, label='Lagged')\n",
    "plt.scatter(x=rain2['precip'], y=rain2['pct_change'], label='Original Time')\n",
    "plt.xlabel('Rainfall (mm/hr)')\n",
    "plt.ylabel('Pct. Salinity Change')\n",
    "plt.title('Spurs2 Lagged Salinity Based on Rainfall')\n",
    "plt.legend()\n",
    "plt.show()"
   ]
  },
  {
   "cell_type": "code",
   "execution_count": 293,
   "metadata": {
    "ExecuteTime": {
     "end_time": "2019-03-05T17:30:38.025048Z",
     "start_time": "2019-03-05T17:30:37.728176Z"
    }
   },
   "outputs": [
    {
     "data": {
      "image/png": "[encoded data removed]",
      "text/plain": [
       "<Figure size 432x288 with 1 Axes>"
      ]
     },
     "metadata": {
      "needs_background": "light"
     },
     "output_type": "display_data"
    }
   ],
   "source": [
    "rainlag2 = pd.DataFrame(data2['precip'].reset_index().drop('new_time', axis=1).shift(1).fillna(0))\n",
    "pct_lag2 = pd.DataFrame(data2['pct_change'].reset_index().drop('new_time', axis=1))\n",
    "lagged2 = pd.concat([rainlag2, pct_lag2], axis=1, join='outer')\n",
    "#pct_lag\n",
    "plt.scatter(x=rainlag2, y=pct_lag2, label='Lagged')\n",
    "plt.scatter(x=data2['precip'], y=data2['pct_change'], label='Original Time')\n",
    "plt.xlabel('Rainfall (mm/hr)')\n",
    "plt.ylabel('Pct. Salinity Change')\n",
    "plt.title('Spurs2 Lagged Rain Based on Salinity')\n",
    "plt.show()"
   ]
  },
  {
   "cell_type": "code",
   "execution_count": 294,
   "metadata": {
    "ExecuteTime": {
     "end_time": "2019-03-05T17:30:39.087660Z",
     "start_time": "2019-03-05T17:30:39.072033Z"
    }
   },
   "outputs": [
    {
     "data": {
      "text/html": [
       "<div>\n",
       "<style scoped>\n",
       "    .dataframe tbody tr th:only-of-type {\n",
       "        vertical-align: middle;\n",
       "    }\n",
       "\n",
       "    .dataframe tbody tr th {\n",
       "        vertical-align: top;\n",
       "    }\n",
       "\n",
       "    .dataframe thead th {\n",
       "        text-align: right;\n",
       "    }\n",
       "</style>\n",
       "<table border=\"1\" class=\"dataframe\">\n",
       "  <thead>\n",
       "    <tr style=\"text-align: right;\">\n",
       "      <th></th>\n",
       "      <th>precip</th>\n",
       "      <th>pct_change</th>\n",
       "    </tr>\n",
       "  </thead>\n",
       "  <tbody>\n",
       "    <tr>\n",
       "      <th>precip</th>\n",
       "      <td>1.000000</td>\n",
       "      <td>-0.118177</td>\n",
       "    </tr>\n",
       "    <tr>\n",
       "      <th>pct_change</th>\n",
       "      <td>-0.118177</td>\n",
       "      <td>1.000000</td>\n",
       "    </tr>\n",
       "  </tbody>\n",
       "</table>\n",
       "</div>"
      ],
      "text/plain": [
       "              precip  pct_change\n",
       "precip      1.000000   -0.118177\n",
       "pct_change -0.118177    1.000000"
      ]
     },
     "execution_count": 294,
     "metadata": {},
     "output_type": "execute_result"
    }
   ],
   "source": [
    "## Lagged on Salinity Change-- did rain cause?\n",
    "rainlagged.corr()"
   ]
  },
  {
   "cell_type": "code",
   "execution_count": 295,
   "metadata": {
    "ExecuteTime": {
     "end_time": "2019-03-05T17:30:39.259586Z",
     "start_time": "2019-03-05T17:30:39.243927Z"
    }
   },
   "outputs": [
    {
     "data": {
      "text/html": [
       "<div>\n",
       "<style scoped>\n",
       "    .dataframe tbody tr th:only-of-type {\n",
       "        vertical-align: middle;\n",
       "    }\n",
       "\n",
       "    .dataframe tbody tr th {\n",
       "        vertical-align: top;\n",
       "    }\n",
       "\n",
       "    .dataframe thead th {\n",
       "        text-align: right;\n",
       "    }\n",
       "</style>\n",
       "<table border=\"1\" class=\"dataframe\">\n",
       "  <thead>\n",
       "    <tr style=\"text-align: right;\">\n",
       "      <th></th>\n",
       "      <th>precip</th>\n",
       "      <th>pct_change</th>\n",
       "    </tr>\n",
       "  </thead>\n",
       "  <tbody>\n",
       "    <tr>\n",
       "      <th>precip</th>\n",
       "      <td>1.000000</td>\n",
       "      <td>-0.216265</td>\n",
       "    </tr>\n",
       "    <tr>\n",
       "      <th>pct_change</th>\n",
       "      <td>-0.216265</td>\n",
       "      <td>1.000000</td>\n",
       "    </tr>\n",
       "  </tbody>\n",
       "</table>\n",
       "</div>"
      ],
      "text/plain": [
       "              precip  pct_change\n",
       "precip      1.000000   -0.216265\n",
       "pct_change -0.216265    1.000000"
      ]
     },
     "execution_count": 295,
     "metadata": {},
     "output_type": "execute_result"
    }
   ],
   "source": [
    "# Lagged on rainfall-- did a salinity change cause?\n",
    "lagged2.corr()"
   ]
  },
  {
   "cell_type": "code",
   "execution_count": 296,
   "metadata": {
    "ExecuteTime": {
     "end_time": "2019-03-05T17:30:39.525238Z",
     "start_time": "2019-03-05T17:30:39.494150Z"
    }
   },
   "outputs": [
    {
     "data": {
      "text/html": [
       "<div>\n",
       "<style scoped>\n",
       "    .dataframe tbody tr th:only-of-type {\n",
       "        vertical-align: middle;\n",
       "    }\n",
       "\n",
       "    .dataframe tbody tr th {\n",
       "        vertical-align: top;\n",
       "    }\n",
       "\n",
       "    .dataframe thead th {\n",
       "        text-align: right;\n",
       "    }\n",
       "</style>\n",
       "<table border=\"1\" class=\"dataframe\">\n",
       "  <thead>\n",
       "    <tr style=\"text-align: right;\">\n",
       "      <th></th>\n",
       "      <th>precip</th>\n",
       "      <th>pct_change</th>\n",
       "    </tr>\n",
       "  </thead>\n",
       "  <tbody>\n",
       "    <tr>\n",
       "      <th>precip</th>\n",
       "      <td>1.000000</td>\n",
       "      <td>-0.508551</td>\n",
       "    </tr>\n",
       "    <tr>\n",
       "      <th>pct_change</th>\n",
       "      <td>-0.508551</td>\n",
       "      <td>1.000000</td>\n",
       "    </tr>\n",
       "  </tbody>\n",
       "</table>\n",
       "</div>"
      ],
      "text/plain": [
       "              precip  pct_change\n",
       "precip      1.000000   -0.508551\n",
       "pct_change -0.508551    1.000000"
      ]
     },
     "execution_count": 296,
     "metadata": {},
     "output_type": "execute_result"
    }
   ],
   "source": [
    "## Same hour, when rain occurred\n",
    "rain2 = data2[data2['precip'] > 0]\n",
    "rain2[['precip', 'pct_change']].corr()"
   ]
  },
  {
   "cell_type": "code",
   "execution_count": 297,
   "metadata": {
    "ExecuteTime": {
     "end_time": "2019-03-05T17:30:39.900252Z",
     "start_time": "2019-03-05T17:30:39.884620Z"
    }
   },
   "outputs": [
    {
     "data": {
      "text/html": [
       "<div>\n",
       "<style scoped>\n",
       "    .dataframe tbody tr th:only-of-type {\n",
       "        vertical-align: middle;\n",
       "    }\n",
       "\n",
       "    .dataframe tbody tr th {\n",
       "        vertical-align: top;\n",
       "    }\n",
       "\n",
       "    .dataframe thead th {\n",
       "        text-align: right;\n",
       "    }\n",
       "</style>\n",
       "<table border=\"1\" class=\"dataframe\">\n",
       "  <thead>\n",
       "    <tr style=\"text-align: right;\">\n",
       "      <th></th>\n",
       "      <th>precip</th>\n",
       "      <th>pct_change</th>\n",
       "    </tr>\n",
       "  </thead>\n",
       "  <tbody>\n",
       "    <tr>\n",
       "      <th>precip</th>\n",
       "      <td>1.000000</td>\n",
       "      <td>-0.429775</td>\n",
       "    </tr>\n",
       "    <tr>\n",
       "      <th>pct_change</th>\n",
       "      <td>-0.429775</td>\n",
       "      <td>1.000000</td>\n",
       "    </tr>\n",
       "  </tbody>\n",
       "</table>\n",
       "</div>"
      ],
      "text/plain": [
       "              precip  pct_change\n",
       "precip      1.000000   -0.429775\n",
       "pct_change -0.429775    1.000000"
      ]
     },
     "execution_count": 297,
     "metadata": {},
     "output_type": "execute_result"
    }
   ],
   "source": [
    "# The unaltered data set\n",
    "data2[['precip', 'pct_change']].corr()"
   ]
  },
  {
   "cell_type": "markdown",
   "metadata": {},
   "source": [
    "So again, we can conclude that there is no greater effect of salinity on rainfall (and vice versa) than when any rain actually occurs, and within the same hour."
   ]
  },
  {
   "cell_type": "markdown",
   "metadata": {},
   "source": [
    "# Other Data Sets"
   ]
  },
  {
   "cell_type": "markdown",
   "metadata": {},
   "source": [
    "## NTAS Set"
   ]
  },
  {
   "cell_type": "code",
   "execution_count": 298,
   "metadata": {
    "ExecuteTime": {
     "end_time": "2019-03-05T17:30:42.445716Z",
     "start_time": "2019-03-05T17:30:42.383253Z"
    }
   },
   "outputs": [
    {
     "name": "stdout",
     "output_type": "stream",
     "text": [
      "365.16062089206594\n"
     ]
    },
    {
     "data": {
      "text/html": [
       "<div>\n",
       "<style scoped>\n",
       "    .dataframe tbody tr th:only-of-type {\n",
       "        vertical-align: middle;\n",
       "    }\n",
       "\n",
       "    .dataframe tbody tr th {\n",
       "        vertical-align: top;\n",
       "    }\n",
       "\n",
       "    .dataframe thead th {\n",
       "        text-align: right;\n",
       "    }\n",
       "</style>\n",
       "<table border=\"1\" class=\"dataframe\">\n",
       "  <thead>\n",
       "    <tr style=\"text-align: right;\">\n",
       "      <th></th>\n",
       "      <th>time</th>\n",
       "      <th>sss</th>\n",
       "      <th>sst</th>\n",
       "      <th>wind_spd</th>\n",
       "      <th>mld</th>\n",
       "      <th>precip</th>\n",
       "      <th>cum_precip6</th>\n",
       "      <th>cum_precip3</th>\n",
       "    </tr>\n",
       "    <tr>\n",
       "      <th>new_time</th>\n",
       "      <th></th>\n",
       "      <th></th>\n",
       "      <th></th>\n",
       "      <th></th>\n",
       "      <th></th>\n",
       "      <th></th>\n",
       "      <th></th>\n",
       "      <th></th>\n",
       "    </tr>\n",
       "  </thead>\n",
       "  <tbody>\n",
       "    <tr>\n",
       "      <th>2001-03-31 01:00:00.000028800</th>\n",
       "      <td>730941.041667</td>\n",
       "      <td>36.224918</td>\n",
       "      <td>25.322590</td>\n",
       "      <td>7.257993</td>\n",
       "      <td>42.888125</td>\n",
       "      <td>0.0</td>\n",
       "      <td>0.0</td>\n",
       "      <td>0.0</td>\n",
       "    </tr>\n",
       "    <tr>\n",
       "      <th>2001-03-31 01:59:59.999971200</th>\n",
       "      <td>730941.083333</td>\n",
       "      <td>36.225780</td>\n",
       "      <td>25.307935</td>\n",
       "      <td>7.517357</td>\n",
       "      <td>42.881045</td>\n",
       "      <td>0.0</td>\n",
       "      <td>0.0</td>\n",
       "      <td>0.0</td>\n",
       "    </tr>\n",
       "    <tr>\n",
       "      <th>2001-03-31 03:00:00.000000000</th>\n",
       "      <td>730941.125000</td>\n",
       "      <td>36.227262</td>\n",
       "      <td>25.307050</td>\n",
       "      <td>7.063114</td>\n",
       "      <td>42.873965</td>\n",
       "      <td>0.0</td>\n",
       "      <td>0.0</td>\n",
       "      <td>0.0</td>\n",
       "    </tr>\n",
       "    <tr>\n",
       "      <th>2001-03-31 04:00:00.000028800</th>\n",
       "      <td>730941.166667</td>\n",
       "      <td>36.227101</td>\n",
       "      <td>25.300624</td>\n",
       "      <td>6.655590</td>\n",
       "      <td>42.866885</td>\n",
       "      <td>0.0</td>\n",
       "      <td>0.0</td>\n",
       "      <td>0.0</td>\n",
       "    </tr>\n",
       "    <tr>\n",
       "      <th>2001-03-31 04:59:59.999971200</th>\n",
       "      <td>730941.208333</td>\n",
       "      <td>36.227896</td>\n",
       "      <td>25.291787</td>\n",
       "      <td>7.105266</td>\n",
       "      <td>42.859806</td>\n",
       "      <td>0.0</td>\n",
       "      <td>0.0</td>\n",
       "      <td>0.0</td>\n",
       "    </tr>\n",
       "  </tbody>\n",
       "</table>\n",
       "</div>"
      ],
      "text/plain": [
       "                                        time        sss        sst  wind_spd  \\\n",
       "new_time                                                                       \n",
       "2001-03-31 01:00:00.000028800  730941.041667  36.224918  25.322590  7.257993   \n",
       "2001-03-31 01:59:59.999971200  730941.083333  36.225780  25.307935  7.517357   \n",
       "2001-03-31 03:00:00.000000000  730941.125000  36.227262  25.307050  7.063114   \n",
       "2001-03-31 04:00:00.000028800  730941.166667  36.227101  25.300624  6.655590   \n",
       "2001-03-31 04:59:59.999971200  730941.208333  36.227896  25.291787  7.105266   \n",
       "\n",
       "                                     mld  precip  cum_precip6  cum_precip3  \n",
       "new_time                                                                    \n",
       "2001-03-31 01:00:00.000028800  42.888125     0.0          0.0          0.0  \n",
       "2001-03-31 01:59:59.999971200  42.881045     0.0          0.0          0.0  \n",
       "2001-03-31 03:00:00.000000000  42.873965     0.0          0.0          0.0  \n",
       "2001-03-31 04:00:00.000028800  42.866885     0.0          0.0          0.0  \n",
       "2001-03-31 04:59:59.999971200  42.859806     0.0          0.0          0.0  "
      ]
     },
     "execution_count": 298,
     "metadata": {},
     "output_type": "execute_result"
    }
   ],
   "source": [
    "ntas = pd.read_csv('ntas.csv')\n",
    "ntas = ntas.set_index('new_time')\n",
    "print(ntas['precip'].sum())\n",
    "ntas.head()"
   ]
  },
  {
   "cell_type": "code",
   "execution_count": 299,
   "metadata": {
    "ExecuteTime": {
     "end_time": "2019-03-05T17:30:42.867632Z",
     "start_time": "2019-03-05T17:30:42.836379Z"
    }
   },
   "outputs": [
    {
     "data": {
      "text/html": [
       "<div>\n",
       "<style scoped>\n",
       "    .dataframe tbody tr th:only-of-type {\n",
       "        vertical-align: middle;\n",
       "    }\n",
       "\n",
       "    .dataframe tbody tr th {\n",
       "        vertical-align: top;\n",
       "    }\n",
       "\n",
       "    .dataframe thead th {\n",
       "        text-align: right;\n",
       "    }\n",
       "</style>\n",
       "<table border=\"1\" class=\"dataframe\">\n",
       "  <thead>\n",
       "    <tr style=\"text-align: right;\">\n",
       "      <th></th>\n",
       "      <th>precip</th>\n",
       "      <th>cum_precip3</th>\n",
       "    </tr>\n",
       "  </thead>\n",
       "  <tbody>\n",
       "    <tr>\n",
       "      <th>count</th>\n",
       "      <td>8169.000000</td>\n",
       "      <td>8169.000000</td>\n",
       "    </tr>\n",
       "    <tr>\n",
       "      <th>mean</th>\n",
       "      <td>0.044701</td>\n",
       "      <td>0.134102</td>\n",
       "    </tr>\n",
       "    <tr>\n",
       "      <th>std</th>\n",
       "      <td>0.430652</td>\n",
       "      <td>0.872563</td>\n",
       "    </tr>\n",
       "    <tr>\n",
       "      <th>min</th>\n",
       "      <td>0.000000</td>\n",
       "      <td>0.000000</td>\n",
       "    </tr>\n",
       "    <tr>\n",
       "      <th>25%</th>\n",
       "      <td>0.000000</td>\n",
       "      <td>0.000000</td>\n",
       "    </tr>\n",
       "    <tr>\n",
       "      <th>50%</th>\n",
       "      <td>0.000000</td>\n",
       "      <td>0.000000</td>\n",
       "    </tr>\n",
       "    <tr>\n",
       "      <th>75%</th>\n",
       "      <td>0.000000</td>\n",
       "      <td>0.000000</td>\n",
       "    </tr>\n",
       "    <tr>\n",
       "      <th>max</th>\n",
       "      <td>15.928774</td>\n",
       "      <td>18.802948</td>\n",
       "    </tr>\n",
       "  </tbody>\n",
       "</table>\n",
       "</div>"
      ],
      "text/plain": [
       "            precip  cum_precip3\n",
       "count  8169.000000  8169.000000\n",
       "mean      0.044701     0.134102\n",
       "std       0.430652     0.872563\n",
       "min       0.000000     0.000000\n",
       "25%       0.000000     0.000000\n",
       "50%       0.000000     0.000000\n",
       "75%       0.000000     0.000000\n",
       "max      15.928774    18.802948"
      ]
     },
     "execution_count": 299,
     "metadata": {},
     "output_type": "execute_result"
    }
   ],
   "source": [
    "ntas[['precip', 'cum_precip3']].describe()"
   ]
  },
  {
   "cell_type": "code",
   "execution_count": 300,
   "metadata": {
    "ExecuteTime": {
     "end_time": "2019-03-05T17:30:43.680255Z",
     "start_time": "2019-03-05T17:30:43.664594Z"
    }
   },
   "outputs": [
    {
     "name": "stdout",
     "output_type": "stream",
     "text": [
      "Substantive rainfall: 15.928773879325464 mm over 1 events\n",
      "Marginal rainfall: 21.84174295095084 mm over 358 events\n",
      "Rainfall: 118.08693571022722 mm over 183 events\n"
     ]
    }
   ],
   "source": [
    "large = ntas[ntas['precip'] > 15]\n",
    "print('Substantive rainfall:', large['precip'].sum(), 'mm over', large['precip'].count(), 'events')\n",
    "small = ntas[(ntas['precip'] > 0) & (ntas['precip'] < .21)]\n",
    "print('Marginal rainfall:', small['precip'].sum(), 'mm over', small['precip'].count(), 'events')\n",
    "other = ntas[(ntas['precip'] > .21) & (ntas['precip'] <= 2)]\n",
    "print('Rainfall:', other['precip'].sum(), 'mm over', other['precip'].count(), 'events')"
   ]
  },
  {
   "cell_type": "code",
   "execution_count": 301,
   "metadata": {
    "ExecuteTime": {
     "end_time": "2019-03-05T17:30:44.266674Z",
     "start_time": "2019-03-05T17:30:44.055259Z"
    }
   },
   "outputs": [
    {
     "data": {
      "text/plain": [
       "<matplotlib.collections.PathCollection at 0x207c8c7e588>"
      ]
     },
     "execution_count": 301,
     "metadata": {},
     "output_type": "execute_result"
    },
    {
     "data": {
      "image/png": "[encoded data removed]",
      "text/plain": [
       "<Figure size 432x288 with 1 Axes>"
      ]
     },
     "metadata": {
      "needs_background": "light"
     },
     "output_type": "display_data"
    }
   ],
   "source": [
    "plt.scatter(x=ntas['sss'], y=ntas['precip'])"
   ]
  },
  {
   "cell_type": "markdown",
   "metadata": {},
   "source": [
    "So here, there are very few instances of any rainfall over 8 mm in an hour."
   ]
  },
  {
   "cell_type": "code",
   "execution_count": 302,
   "metadata": {
    "ExecuteTime": {
     "end_time": "2019-03-05T17:30:46.956286Z",
     "start_time": "2019-03-05T17:30:46.644005Z"
    }
   },
   "outputs": [
    {
     "data": {
      "image/png": "[encoded data removed]",
      "text/plain": [
       "<Figure size 432x288 with 1 Axes>"
      ]
     },
     "metadata": {
      "needs_background": "light"
     },
     "output_type": "display_data"
    }
   ],
   "source": [
    "(n, bins, patches) = plt.hist(\n",
    "    ntas['precip'], bins=np.arange(min(ntas[ntas['precip'] > 0]['precip']), \n",
    "    max(ntas[ntas['precip'] > 0]['precip']) + 0.25, 0.25))\n",
    "\n",
    "plt.xlim([min(ntas[ntas['precip'] > 0]['precip']),max(ntas[ntas['precip'] > 0]['precip'])])\n",
    "plt.xscale('log')\n",
    "plt.show()\n",
    "bin_centers = bins[0:64] + 0.125"
   ]
  },
  {
   "cell_type": "code",
   "execution_count": 303,
   "metadata": {
    "ExecuteTime": {
     "end_time": "2019-03-05T17:30:47.839043Z",
     "start_time": "2019-03-05T17:30:47.808021Z"
    }
   },
   "outputs": [
    {
     "data": {
      "text/plain": [
       "(64,)"
      ]
     },
     "execution_count": 303,
     "metadata": {},
     "output_type": "execute_result"
    }
   ],
   "source": [
    "n.shape"
   ]
  },
  {
   "cell_type": "code",
   "execution_count": 304,
   "metadata": {
    "ExecuteTime": {
     "end_time": "2019-03-05T17:30:48.547065Z",
     "start_time": "2019-03-05T17:30:48.296891Z"
    }
   },
   "outputs": [
    {
     "name": "stdout",
     "output_type": "stream",
     "text": [
      "[48.25000012 24.37500002 16.25000001 23.62500001 19.12500001 12.375\n",
      "  8.125      11.25        8.5        14.25       13.125       2.875\n",
      "  0.         10.125       7.25        3.875       4.125       4.375\n",
      " 18.5         9.75        0.          5.375       5.625      11.75\n",
      "  0.          6.375      13.25        0.         14.25       22.125\n",
      " 22.875       0.          0.          0.          0.          0.\n",
      "  0.          0.          0.          0.          0.          0.\n",
      "  0.          0.          0.          0.         11.625       0.\n",
      "  0.          0.          0.          0.          0.          0.\n",
      "  0.          0.          0.          0.          0.          0.\n",
      "  0.          0.          0.         15.875     ]\n"
     ]
    },
    {
     "data": {
      "text/plain": [
       "<matplotlib.collections.PathCollection at 0x207c8b7abe0>"
      ]
     },
     "execution_count": 304,
     "metadata": {},
     "output_type": "execute_result"
    },
    {
     "data": {
      "image/png": "[encoded data removed]",
      "text/plain": [
       "<Figure size 432x288 with 1 Axes>"
      ]
     },
     "metadata": {
      "needs_background": "light"
     },
     "output_type": "display_data"
    }
   ],
   "source": [
    "sums = n*bin_centers\n",
    "print(sums)\n",
    "plt.scatter(x=bin_centers, y=sums)"
   ]
  },
  {
   "cell_type": "markdown",
   "metadata": {},
   "source": [
    "So here, there are very few large values that occur just once."
   ]
  },
  {
   "cell_type": "code",
   "execution_count": 305,
   "metadata": {
    "ExecuteTime": {
     "end_time": "2019-03-05T17:30:50.517677Z",
     "start_time": "2019-03-05T17:30:50.502039Z"
    }
   },
   "outputs": [
    {
     "data": {
      "text/plain": [
       "array([ 48.25000012,  72.62500013,  88.87500014, 112.50000015,\n",
       "       131.62500016, 144.00000016, 152.12500016, 163.37500016,\n",
       "       171.87500016, 186.12500016, 199.25000017, 202.12500017,\n",
       "       202.12500017, 212.25000017, 219.50000017, 223.37500017,\n",
       "       227.50000017, 231.87500017, 250.37500017, 260.12500017,\n",
       "       260.12500017, 265.50000017, 271.12500017, 282.87500017,\n",
       "       282.87500017, 289.25000017, 302.50000017, 302.50000017,\n",
       "       316.75000017, 338.87500017, 361.75000017, 361.75000017,\n",
       "       361.75000017, 361.75000017, 361.75000017, 361.75000017,\n",
       "       361.75000017, 361.75000017, 361.75000017, 361.75000017,\n",
       "       361.75000017, 361.75000017, 361.75000017, 361.75000017,\n",
       "       361.75000017, 361.75000017, 373.37500017, 373.37500017,\n",
       "       373.37500017, 373.37500017, 373.37500017, 373.37500017,\n",
       "       373.37500017, 373.37500017, 373.37500017, 373.37500017,\n",
       "       373.37500017, 373.37500017, 373.37500017, 373.37500017,\n",
       "       373.37500017, 373.37500017, 373.37500017, 389.25000018])"
      ]
     },
     "execution_count": 305,
     "metadata": {},
     "output_type": "execute_result"
    }
   ],
   "source": [
    "sums.cumsum()"
   ]
  },
  {
   "cell_type": "markdown",
   "metadata": {},
   "source": [
    "And again, we see that this is a valid reflection of the actual summed rainfall for the NTAS buoy"
   ]
  },
  {
   "cell_type": "code",
   "execution_count": 306,
   "metadata": {
    "ExecuteTime": {
     "end_time": "2019-03-05T17:30:51.940186Z",
     "start_time": "2019-03-05T17:30:51.674379Z"
    }
   },
   "outputs": [
    {
     "data": {
      "image/png": "[encoded data removed]",
      "text/plain": [
       "<Figure size 1080x432 with 1 Axes>"
      ]
     },
     "metadata": {
      "needs_background": "light"
     },
     "output_type": "display_data"
    }
   ],
   "source": [
    "_, ax = plt.subplots(figsize=(15,6))\n",
    "plt.bar(x=bin_centers, height=sums, width=0.2)\n",
    "plt.xlabel('Rain rate (mm/hr)')\n",
    "plt.ylabel('Total rainfall (mm)')\n",
    "plt.title('NTAS Total Rainfall')\n",
    "plt.xticks(np.arange(0,17,1));"
   ]
  },
  {
   "cell_type": "code",
   "execution_count": 307,
   "metadata": {
    "ExecuteTime": {
     "end_time": "2019-03-05T17:30:58.519708Z",
     "start_time": "2019-03-05T17:30:58.379066Z"
    }
   },
   "outputs": [
    {
     "data": {
      "image/png": "[encoded data removed]",
      "text/plain": [
       "<Figure size 432x288 with 1 Axes>"
      ]
     },
     "metadata": {
      "needs_background": "light"
     },
     "output_type": "display_data"
    }
   ],
   "source": [
    "fullsum = sums.cumsum()/sums.sum()\n",
    "halfsum = (sums.cumsum()/sums.sum())[:33]\n",
    "plt.plot(fullsum)\n",
    "plt.axhline(y=.5, color='r')\n",
    "plt.xlabel('Rain rate (mm/hr)')\n",
    "plt.ylabel('Total rainfall (mm)')\n",
    "plt.title('NTAS Cumulative Rainfall');"
   ]
  },
  {
   "cell_type": "code",
   "execution_count": 313,
   "metadata": {
    "ExecuteTime": {
     "end_time": "2019-03-05T17:31:18.462676Z",
     "start_time": "2019-03-05T17:31:18.306257Z"
    }
   },
   "outputs": [
    {
     "data": {
      "image/png": "[encoded data removed]",
      "text/plain": [
       "<Figure size 432x288 with 1 Axes>"
      ]
     },
     "metadata": {
      "needs_background": "light"
     },
     "output_type": "display_data"
    }
   ],
   "source": [
    "plt.plot(halfsum)\n",
    "plt.axhline(y=.5, color='r')\n",
    "plt.axvline(x=9.6, color='r')\n",
    "plt.xlabel('Rain rate (mm/hr) -- 1/2 hr')\n",
    "plt.ylabel('Total rainfall (mm)')\n",
    "plt.title('NTAS Cumulative Rainfall');"
   ]
  },
  {
   "cell_type": "markdown",
   "metadata": {},
   "source": [
    "In this set, about half of all rainfall occurs below 5.5 millimeters, which we could probably have assumed by the small amount of larger rain events."
   ]
  },
  {
   "cell_type": "code",
   "execution_count": 314,
   "metadata": {
    "ExecuteTime": {
     "end_time": "2019-03-05T17:31:25.174152Z",
     "start_time": "2019-03-05T17:31:24.939803Z"
    }
   },
   "outputs": [],
   "source": [
    "ntas['pct_change'] = ntas['sss'].pct_change().fillna(0)"
   ]
  },
  {
   "cell_type": "code",
   "execution_count": 315,
   "metadata": {
    "ExecuteTime": {
     "end_time": "2019-03-05T17:31:25.722414Z",
     "start_time": "2019-03-05T17:31:25.347374Z"
    }
   },
   "outputs": [
    {
     "data": {
      "image/png": "[encoded data removed]",
      "text/plain": [
       "<Figure size 432x288 with 1 Axes>"
      ]
     },
     "metadata": {
      "needs_background": "light"
     },
     "output_type": "display_data"
    }
   ],
   "source": [
    "ntaslag2 = pd.DataFrame(ntas['precip'].reset_index().drop('new_time', axis=1))\n",
    "npct_lag2 = pd.DataFrame(ntas['pct_change'].reset_index().drop('new_time', axis=1).shift(1).fillna(0))\n",
    "nlag1 = pd.concat([ntaslag2, npct_lag2], axis=1, join='outer')\n",
    "#pct_lag\n",
    "plt.scatter(x=ntaslag2, y=npct_lag2, label='Lagged')\n",
    "plt.scatter(x=ntas['precip'], y=ntas['pct_change'], label='Original Time')\n",
    "plt.xlabel('Rainfall (mm/hr)')\n",
    "plt.ylabel('Pct. Salinity Change')\n",
    "plt.title('NTAS Lagged Salinity Based on Rain')\n",
    "plt.legend()\n",
    "plt.show()"
   ]
  },
  {
   "cell_type": "code",
   "execution_count": 316,
   "metadata": {
    "ExecuteTime": {
     "end_time": "2019-03-05T17:31:26.597470Z",
     "start_time": "2019-03-05T17:31:26.347445Z"
    }
   },
   "outputs": [
    {
     "data": {
      "image/png": "[encoded data removed]",
      "text/plain": [
       "<Figure size 432x288 with 1 Axes>"
      ]
     },
     "metadata": {
      "needs_background": "light"
     },
     "output_type": "display_data"
    }
   ],
   "source": [
    "ntaslag2 = pd.DataFrame(ntas['precip'].reset_index().drop('new_time', axis=1).shift(1).fillna(0))\n",
    "npct_lag2 = pd.DataFrame(ntas['pct_change'].reset_index().drop('new_time', axis=1))\n",
    "nlag2 = pd.concat([ntaslag2, npct_lag2], axis=1, join='outer')\n",
    "#pct_lag\n",
    "plt.scatter(x=ntaslag2, y=npct_lag2)\n",
    "plt.scatter(x=ntas['precip'], y=ntas['pct_change'])\n",
    "plt.show()"
   ]
  },
  {
   "cell_type": "code",
   "execution_count": 317,
   "metadata": {
    "ExecuteTime": {
     "end_time": "2019-03-05T17:31:27.160063Z",
     "start_time": "2019-03-05T17:31:27.129030Z"
    }
   },
   "outputs": [
    {
     "data": {
      "text/html": [
       "<div>\n",
       "<style scoped>\n",
       "    .dataframe tbody tr th:only-of-type {\n",
       "        vertical-align: middle;\n",
       "    }\n",
       "\n",
       "    .dataframe tbody tr th {\n",
       "        vertical-align: top;\n",
       "    }\n",
       "\n",
       "    .dataframe thead th {\n",
       "        text-align: right;\n",
       "    }\n",
       "</style>\n",
       "<table border=\"1\" class=\"dataframe\">\n",
       "  <thead>\n",
       "    <tr style=\"text-align: right;\">\n",
       "      <th></th>\n",
       "      <th>precip</th>\n",
       "      <th>pct_change</th>\n",
       "    </tr>\n",
       "  </thead>\n",
       "  <tbody>\n",
       "    <tr>\n",
       "      <th>precip</th>\n",
       "      <td>1.000000</td>\n",
       "      <td>-0.037957</td>\n",
       "    </tr>\n",
       "    <tr>\n",
       "      <th>pct_change</th>\n",
       "      <td>-0.037957</td>\n",
       "      <td>1.000000</td>\n",
       "    </tr>\n",
       "  </tbody>\n",
       "</table>\n",
       "</div>"
      ],
      "text/plain": [
       "              precip  pct_change\n",
       "precip      1.000000   -0.037957\n",
       "pct_change -0.037957    1.000000"
      ]
     },
     "execution_count": 317,
     "metadata": {},
     "output_type": "execute_result"
    }
   ],
   "source": [
    "## Correlation between lagged salinity and rainfall-- does salinity change cause rainfall here?\n",
    "nlag1.corr()"
   ]
  },
  {
   "cell_type": "code",
   "execution_count": 318,
   "metadata": {
    "ExecuteTime": {
     "end_time": "2019-03-05T17:31:27.754251Z",
     "start_time": "2019-03-05T17:31:27.738662Z"
    }
   },
   "outputs": [
    {
     "data": {
      "text/html": [
       "<div>\n",
       "<style scoped>\n",
       "    .dataframe tbody tr th:only-of-type {\n",
       "        vertical-align: middle;\n",
       "    }\n",
       "\n",
       "    .dataframe tbody tr th {\n",
       "        vertical-align: top;\n",
       "    }\n",
       "\n",
       "    .dataframe thead th {\n",
       "        text-align: right;\n",
       "    }\n",
       "</style>\n",
       "<table border=\"1\" class=\"dataframe\">\n",
       "  <thead>\n",
       "    <tr style=\"text-align: right;\">\n",
       "      <th></th>\n",
       "      <th>precip</th>\n",
       "      <th>pct_change</th>\n",
       "    </tr>\n",
       "  </thead>\n",
       "  <tbody>\n",
       "    <tr>\n",
       "      <th>precip</th>\n",
       "      <td>1.000000</td>\n",
       "      <td>-0.094261</td>\n",
       "    </tr>\n",
       "    <tr>\n",
       "      <th>pct_change</th>\n",
       "      <td>-0.094261</td>\n",
       "      <td>1.000000</td>\n",
       "    </tr>\n",
       "  </tbody>\n",
       "</table>\n",
       "</div>"
      ],
      "text/plain": [
       "              precip  pct_change\n",
       "precip      1.000000   -0.094261\n",
       "pct_change -0.094261    1.000000"
      ]
     },
     "execution_count": 318,
     "metadata": {},
     "output_type": "execute_result"
    }
   ],
   "source": [
    "nlag2.corr()"
   ]
  },
  {
   "cell_type": "code",
   "execution_count": 320,
   "metadata": {
    "ExecuteTime": {
     "end_time": "2019-03-05T17:32:22.429996Z",
     "start_time": "2019-03-05T17:32:22.398915Z"
    },
    "scrolled": false
   },
   "outputs": [
    {
     "data": {
      "text/html": [
       "<div>\n",
       "<style scoped>\n",
       "    .dataframe tbody tr th:only-of-type {\n",
       "        vertical-align: middle;\n",
       "    }\n",
       "\n",
       "    .dataframe tbody tr th {\n",
       "        vertical-align: top;\n",
       "    }\n",
       "\n",
       "    .dataframe thead th {\n",
       "        text-align: right;\n",
       "    }\n",
       "</style>\n",
       "<table border=\"1\" class=\"dataframe\">\n",
       "  <thead>\n",
       "    <tr style=\"text-align: right;\">\n",
       "      <th></th>\n",
       "      <th>precip</th>\n",
       "      <th>pct_change</th>\n",
       "    </tr>\n",
       "  </thead>\n",
       "  <tbody>\n",
       "    <tr>\n",
       "      <th>precip</th>\n",
       "      <td>1.000000</td>\n",
       "      <td>-0.558027</td>\n",
       "    </tr>\n",
       "    <tr>\n",
       "      <th>pct_change</th>\n",
       "      <td>-0.558027</td>\n",
       "      <td>1.000000</td>\n",
       "    </tr>\n",
       "  </tbody>\n",
       "</table>\n",
       "</div>"
      ],
      "text/plain": [
       "              precip  pct_change\n",
       "precip      1.000000   -0.558027\n",
       "pct_change -0.558027    1.000000"
      ]
     },
     "execution_count": 320,
     "metadata": {},
     "output_type": "execute_result"
    }
   ],
   "source": [
    "## For just rain events, at \n",
    "ntas_rain = ntas[ntas['precip']>0]\n",
    "ntas_rain[['precip', 'pct_change']].corr()"
   ]
  },
  {
   "cell_type": "code",
   "execution_count": 321,
   "metadata": {
    "ExecuteTime": {
     "end_time": "2019-03-05T17:32:23.930143Z",
     "start_time": "2019-03-05T17:32:23.914492Z"
    }
   },
   "outputs": [
    {
     "data": {
      "text/html": [
       "<div>\n",
       "<style scoped>\n",
       "    .dataframe tbody tr th:only-of-type {\n",
       "        vertical-align: middle;\n",
       "    }\n",
       "\n",
       "    .dataframe tbody tr th {\n",
       "        vertical-align: top;\n",
       "    }\n",
       "\n",
       "    .dataframe thead th {\n",
       "        text-align: right;\n",
       "    }\n",
       "</style>\n",
       "<table border=\"1\" class=\"dataframe\">\n",
       "  <thead>\n",
       "    <tr style=\"text-align: right;\">\n",
       "      <th></th>\n",
       "      <th>precip</th>\n",
       "      <th>pct_change</th>\n",
       "    </tr>\n",
       "  </thead>\n",
       "  <tbody>\n",
       "    <tr>\n",
       "      <th>precip</th>\n",
       "      <td>1.000000</td>\n",
       "      <td>-0.223184</td>\n",
       "    </tr>\n",
       "    <tr>\n",
       "      <th>pct_change</th>\n",
       "      <td>-0.223184</td>\n",
       "      <td>1.000000</td>\n",
       "    </tr>\n",
       "  </tbody>\n",
       "</table>\n",
       "</div>"
      ],
      "text/plain": [
       "              precip  pct_change\n",
       "precip      1.000000   -0.223184\n",
       "pct_change -0.223184    1.000000"
      ]
     },
     "execution_count": 321,
     "metadata": {},
     "output_type": "execute_result"
    }
   ],
   "source": [
    "ntas[['precip', 'pct_change']].corr()"
   ]
  },
  {
   "cell_type": "markdown",
   "metadata": {},
   "source": [
    "This is an interesting set of correlations, as once again the strongest is when rain occurs and within the same hour. However, it is remarkable to note how low the correlation with a lagged time frame is here, with -0.04 and -0.09 lagged on salinity and rain, respectively."
   ]
  },
  {
   "cell_type": "markdown",
   "metadata": {},
   "source": [
    "## WHOTS Set"
   ]
  },
  {
   "cell_type": "code",
   "execution_count": 322,
   "metadata": {
    "ExecuteTime": {
     "end_time": "2019-03-05T17:32:27.088489Z",
     "start_time": "2019-03-05T17:32:27.041638Z"
    }
   },
   "outputs": [
    {
     "name": "stdout",
     "output_type": "stream",
     "text": [
      "899.9853937686307\n"
     ]
    },
    {
     "data": {
      "text/html": [
       "<div>\n",
       "<style scoped>\n",
       "    .dataframe tbody tr th:only-of-type {\n",
       "        vertical-align: middle;\n",
       "    }\n",
       "\n",
       "    .dataframe tbody tr th {\n",
       "        vertical-align: top;\n",
       "    }\n",
       "\n",
       "    .dataframe thead th {\n",
       "        text-align: right;\n",
       "    }\n",
       "</style>\n",
       "<table border=\"1\" class=\"dataframe\">\n",
       "  <thead>\n",
       "    <tr style=\"text-align: right;\">\n",
       "      <th></th>\n",
       "      <th>time</th>\n",
       "      <th>sss</th>\n",
       "      <th>sst</th>\n",
       "      <th>wind_spd</th>\n",
       "      <th>mld</th>\n",
       "      <th>precip</th>\n",
       "      <th>cum_precip6</th>\n",
       "      <th>cum_precip3</th>\n",
       "    </tr>\n",
       "    <tr>\n",
       "      <th>new_time</th>\n",
       "      <th></th>\n",
       "      <th></th>\n",
       "      <th></th>\n",
       "      <th></th>\n",
       "      <th></th>\n",
       "      <th></th>\n",
       "      <th></th>\n",
       "      <th></th>\n",
       "    </tr>\n",
       "  </thead>\n",
       "  <tbody>\n",
       "    <tr>\n",
       "      <th>2004-08-13 04:00:00.000028800</th>\n",
       "      <td>732172.166667</td>\n",
       "      <td>34.825873</td>\n",
       "      <td>26.888086</td>\n",
       "      <td>7.918918</td>\n",
       "      <td>38.233802</td>\n",
       "      <td>0.000000</td>\n",
       "      <td>0.0</td>\n",
       "      <td>0.000000</td>\n",
       "    </tr>\n",
       "    <tr>\n",
       "      <th>2004-08-13 04:59:59.999971200</th>\n",
       "      <td>732172.208333</td>\n",
       "      <td>34.824762</td>\n",
       "      <td>26.865158</td>\n",
       "      <td>7.506199</td>\n",
       "      <td>38.236220</td>\n",
       "      <td>0.000000</td>\n",
       "      <td>0.0</td>\n",
       "      <td>0.000000</td>\n",
       "    </tr>\n",
       "    <tr>\n",
       "      <th>2004-08-13 06:00:00.000000000</th>\n",
       "      <td>732172.250000</td>\n",
       "      <td>34.825625</td>\n",
       "      <td>26.856876</td>\n",
       "      <td>8.299770</td>\n",
       "      <td>38.238638</td>\n",
       "      <td>0.000000</td>\n",
       "      <td>0.0</td>\n",
       "      <td>0.000000</td>\n",
       "    </tr>\n",
       "    <tr>\n",
       "      <th>2004-08-13 07:00:00.000028800</th>\n",
       "      <td>732172.291667</td>\n",
       "      <td>34.826258</td>\n",
       "      <td>26.842372</td>\n",
       "      <td>8.377580</td>\n",
       "      <td>38.241056</td>\n",
       "      <td>0.000000</td>\n",
       "      <td>0.0</td>\n",
       "      <td>0.000000</td>\n",
       "    </tr>\n",
       "    <tr>\n",
       "      <th>2004-08-13 07:59:59.999971200</th>\n",
       "      <td>732172.333333</td>\n",
       "      <td>34.825453</td>\n",
       "      <td>26.828082</td>\n",
       "      <td>8.759666</td>\n",
       "      <td>38.243474</td>\n",
       "      <td>0.350616</td>\n",
       "      <td>0.0</td>\n",
       "      <td>0.350616</td>\n",
       "    </tr>\n",
       "  </tbody>\n",
       "</table>\n",
       "</div>"
      ],
      "text/plain": [
       "                                        time        sss        sst  wind_spd  \\\n",
       "new_time                                                                       \n",
       "2004-08-13 04:00:00.000028800  732172.166667  34.825873  26.888086  7.918918   \n",
       "2004-08-13 04:59:59.999971200  732172.208333  34.824762  26.865158  7.506199   \n",
       "2004-08-13 06:00:00.000000000  732172.250000  34.825625  26.856876  8.299770   \n",
       "2004-08-13 07:00:00.000028800  732172.291667  34.826258  26.842372  8.377580   \n",
       "2004-08-13 07:59:59.999971200  732172.333333  34.825453  26.828082  8.759666   \n",
       "\n",
       "                                     mld    precip  cum_precip6  cum_precip3  \n",
       "new_time                                                                      \n",
       "2004-08-13 04:00:00.000028800  38.233802  0.000000          0.0     0.000000  \n",
       "2004-08-13 04:59:59.999971200  38.236220  0.000000          0.0     0.000000  \n",
       "2004-08-13 06:00:00.000000000  38.238638  0.000000          0.0     0.000000  \n",
       "2004-08-13 07:00:00.000028800  38.241056  0.000000          0.0     0.000000  \n",
       "2004-08-13 07:59:59.999971200  38.243474  0.350616          0.0     0.350616  "
      ]
     },
     "execution_count": 322,
     "metadata": {},
     "output_type": "execute_result"
    }
   ],
   "source": [
    "whots = pd.read_csv('whots.csv')\n",
    "whots = whots.set_index('new_time')\n",
    "print(whots['precip'].sum())\n",
    "whots.head()"
   ]
  },
  {
   "cell_type": "code",
   "execution_count": 323,
   "metadata": {
    "ExecuteTime": {
     "end_time": "2019-03-05T17:32:28.010495Z",
     "start_time": "2019-03-05T17:32:27.979257Z"
    }
   },
   "outputs": [
    {
     "data": {
      "text/plain": [
       "count    8317.000000\n",
       "mean        0.108210\n",
       "std         1.288135\n",
       "min         0.000000\n",
       "25%         0.000000\n",
       "50%         0.000000\n",
       "75%         0.000000\n",
       "max        58.250181\n",
       "Name: precip, dtype: float64"
      ]
     },
     "execution_count": 323,
     "metadata": {},
     "output_type": "execute_result"
    }
   ],
   "source": [
    "whots['precip'].describe()"
   ]
  },
  {
   "cell_type": "code",
   "execution_count": 324,
   "metadata": {
    "ExecuteTime": {
     "end_time": "2019-03-05T17:32:28.760539Z",
     "start_time": "2019-03-05T17:32:28.744913Z"
    }
   },
   "outputs": [
    {
     "name": "stdout",
     "output_type": "stream",
     "text": [
      "Substantive rainfall: 329.8583652542303 mm over 12 events\n",
      "Marginal rainfall: 30.75673068121871 mm over 324 events\n",
      "Normal rainfall: 188.21578865681337 mm over 307 events\n"
     ]
    }
   ],
   "source": [
    "large = whots[whots['precip'] > 15]\n",
    "print('Substantive rainfall:', large['precip'].sum(), 'mm over' ,large['precip'].count(), 'events')\n",
    "small = whots[(whots['precip'] > 0) & (whots['precip'] < .21)]\n",
    "print('Marginal rainfall:', small['precip'].sum(), 'mm over', small['precip'].count(), 'events')\n",
    "other = whots[(whots['precip'] > .21) & (whots['precip'] < 2)]\n",
    "print('Normal rainfall:', other['precip'].sum(), 'mm over', other['precip'].count(), 'events')\n"
   ]
  },
  {
   "cell_type": "markdown",
   "metadata": {},
   "source": [
    "So here we see that there are a whopping 12 rain events greater than 15 mm per hour, and that they make up almost 330 millimeters. This is a giant gap compared to the very small rain events."
   ]
  },
  {
   "cell_type": "code",
   "execution_count": 325,
   "metadata": {
    "ExecuteTime": {
     "end_time": "2019-03-05T17:32:29.893538Z",
     "start_time": "2019-03-05T17:32:29.681193Z"
    }
   },
   "outputs": [
    {
     "data": {
      "text/plain": [
       "<matplotlib.collections.PathCollection at 0x207c89f7128>"
      ]
     },
     "execution_count": 325,
     "metadata": {},
     "output_type": "execute_result"
    },
    {
     "data": {
      "image/png": "[encoded data removed]",
      "text/plain": [
       "<Figure size 432x288 with 1 Axes>"
      ]
     },
     "metadata": {
      "needs_background": "light"
     },
     "output_type": "display_data"
    }
   ],
   "source": [
    "plt.scatter(x=whots['sss'], y=whots['precip'])"
   ]
  },
  {
   "cell_type": "markdown",
   "metadata": {},
   "source": [
    "This is an interesting plot; we see that there is not much variability in salinity for most of the set, but where there is noticeable difference there is always a rain event."
   ]
  },
  {
   "cell_type": "code",
   "execution_count": 326,
   "metadata": {
    "ExecuteTime": {
     "end_time": "2019-03-05T17:32:31.706321Z",
     "start_time": "2019-03-05T17:32:31.268899Z"
    }
   },
   "outputs": [
    {
     "data": {
      "image/png": "[encoded data removed]",
      "text/plain": [
       "<Figure size 432x288 with 1 Axes>"
      ]
     },
     "metadata": {
      "needs_background": "light"
     },
     "output_type": "display_data"
    }
   ],
   "source": [
    "(n, bins, patches) = plt.hist(\n",
    "    whots['precip'], bins=np.arange(min(whots[whots['precip'] > 0]['precip']), \n",
    "    max(whots[whots['precip'] > 0]['precip']) + 0.6, 0.6))\n",
    "\n",
    "plt.xlim([min(whots[whots['precip'] > 0]['precip']),max(whots[whots['precip'] > 0]['precip'])])\n",
    "plt.xscale('log')\n",
    "plt.show()\n",
    "bin_centers = bins[0:98] + 0.3"
   ]
  },
  {
   "cell_type": "code",
   "execution_count": 327,
   "metadata": {
    "ExecuteTime": {
     "end_time": "2019-03-05T17:32:32.815686Z",
     "start_time": "2019-03-05T17:32:32.675077Z"
    }
   },
   "outputs": [
    {
     "name": "stdout",
     "output_type": "stream",
     "text": [
      "[158.36343783  65.16949426  49.66935154  33.68210984  43.28210984\n",
      "  13.22052746  15.62052746  13.51539559  35.73592305  17.11539559\n",
      "   0.           0.          30.02052746  32.42052746   0.\n",
      "  18.61026373  49.52565932  10.50513186  11.10513186   0.\n",
      "   0.           0.           0.          14.10513186  29.41026373\n",
      "  15.30513186  15.90513186   0.          17.10513186  17.70513186\n",
      "  18.30513186   0.           0.          20.10513186   0.\n",
      "  21.30513186   0.           0.           0.           0.\n",
      "   0.           0.           0.           0.           0.\n",
      "   0.           0.           0.           0.           0.\n",
      "  30.30513186   0.           0.           0.          32.70513186\n",
      "   0.           0.           0.           0.           0.\n",
      "   0.           0.          37.50513186   0.           0.\n",
      "   0.           0.           0.           0.           0.\n",
      "   0.           0.           0.           0.           0.\n",
      "   0.          45.90513186   0.           0.           0.\n",
      "   0.           0.           0.           0.           0.\n",
      "   0.           0.           0.           0.           0.\n",
      "   0.           0.           0.           0.           0.\n",
      "   0.           0.          58.50513186]\n"
     ]
    },
    {
     "data": {
      "text/plain": [
       "<matplotlib.collections.PathCollection at 0x207c73562b0>"
      ]
     },
     "execution_count": 327,
     "metadata": {},
     "output_type": "execute_result"
    },
    {
     "data": {
      "image/png": "[encoded data removed]",
      "text/plain": [
       "<Figure size 432x288 with 1 Axes>"
      ]
     },
     "metadata": {
      "needs_background": "light"
     },
     "output_type": "display_data"
    }
   ],
   "source": [
    "sums = n*bin_centers\n",
    "print(sums)\n",
    "plt.scatter(x=bin_centers, y=sums)"
   ]
  },
  {
   "cell_type": "code",
   "execution_count": 328,
   "metadata": {
    "ExecuteTime": {
     "end_time": "2019-03-05T17:32:33.597047Z",
     "start_time": "2019-03-05T17:32:33.581420Z"
    }
   },
   "outputs": [
    {
     "data": {
      "text/plain": [
       "array([158.36343783, 223.53293209, 273.20228363, 306.88439346,\n",
       "       350.1665033 , 363.38703076, 379.00755822, 392.52295381,\n",
       "       428.25887687, 445.37427246, 445.37427246, 445.37427246,\n",
       "       475.39479992, 507.81532738, 507.81532738, 526.42559111,\n",
       "       575.95125043, 586.4563823 , 597.56151416, 597.56151416,\n",
       "       597.56151416, 597.56151416, 597.56151416, 611.66664603,\n",
       "       641.07690976, 656.38204162, 672.28717349, 672.28717349,\n",
       "       689.39230535, 707.09743722, 725.40256908, 725.40256908,\n",
       "       725.40256908, 745.50770095, 745.50770095, 766.81283281,\n",
       "       766.81283281, 766.81283281, 766.81283281, 766.81283281,\n",
       "       766.81283281, 766.81283281, 766.81283281, 766.81283281,\n",
       "       766.81283281, 766.81283281, 766.81283281, 766.81283281,\n",
       "       766.81283281, 766.81283281, 797.11796468, 797.11796468,\n",
       "       797.11796468, 797.11796468, 829.82309654, 829.82309654,\n",
       "       829.82309654, 829.82309654, 829.82309654, 829.82309654,\n",
       "       829.82309654, 829.82309654, 867.32822841, 867.32822841,\n",
       "       867.32822841, 867.32822841, 867.32822841, 867.32822841,\n",
       "       867.32822841, 867.32822841, 867.32822841, 867.32822841,\n",
       "       867.32822841, 867.32822841, 867.32822841, 867.32822841,\n",
       "       913.23336027, 913.23336027, 913.23336027, 913.23336027,\n",
       "       913.23336027, 913.23336027, 913.23336027, 913.23336027,\n",
       "       913.23336027, 913.23336027, 913.23336027, 913.23336027,\n",
       "       913.23336027, 913.23336027, 913.23336027, 913.23336027,\n",
       "       913.23336027, 913.23336027, 913.23336027, 913.23336027,\n",
       "       913.23336027, 971.73849213])"
      ]
     },
     "execution_count": 328,
     "metadata": {},
     "output_type": "execute_result"
    }
   ],
   "source": [
    "sums.cumsum()"
   ]
  },
  {
   "cell_type": "code",
   "execution_count": 329,
   "metadata": {
    "ExecuteTime": {
     "end_time": "2019-03-05T17:32:34.878401Z",
     "start_time": "2019-03-05T17:32:34.519021Z"
    }
   },
   "outputs": [
    {
     "data": {
      "image/png": "[encoded data removed]",
      "text/plain": [
       "<Figure size 1080x432 with 1 Axes>"
      ]
     },
     "metadata": {
      "needs_background": "light"
     },
     "output_type": "display_data"
    }
   ],
   "source": [
    "_, ax = plt.subplots(figsize=(15,6))\n",
    "plt.bar(x=bin_centers, height=sums, width=0.3)\n",
    "plt.xlabel('Rain rate (mm/hr)')\n",
    "plt.ylabel('Total rainfall (mm)')\n",
    "plt.title('WHOTS Total Rainfall')\n",
    "plt.xticks(np.arange(0,60,2));"
   ]
  },
  {
   "cell_type": "code",
   "execution_count": 330,
   "metadata": {
    "ExecuteTime": {
     "end_time": "2019-03-05T17:32:36.175410Z",
     "start_time": "2019-03-05T17:32:36.034772Z"
    }
   },
   "outputs": [
    {
     "data": {
      "image/png": "[encoded data removed]",
      "text/plain": [
       "<Figure size 432x288 with 1 Axes>"
      ]
     },
     "metadata": {
      "needs_background": "light"
     },
     "output_type": "display_data"
    }
   ],
   "source": [
    "fullsum = sums.cumsum()/sums.sum()\n",
    "halfsum = (sums.cumsum()/sums.sum())[:50]\n",
    "plt.plot(fullsum)\n",
    "plt.axhline(y=.5, color='r')\n",
    "plt.xlabel('Rain rate (mm/hr)')\n",
    "plt.ylabel('Total rainfall (mm)')\n",
    "plt.title('WHOTS Cumulative Rainfall');"
   ]
  },
  {
   "cell_type": "code",
   "execution_count": 337,
   "metadata": {
    "ExecuteTime": {
     "end_time": "2019-03-05T17:33:02.678773Z",
     "start_time": "2019-03-05T17:33:02.538387Z"
    }
   },
   "outputs": [
    {
     "data": {
      "image/png": "[encoded data removed]",
      "text/plain": [
       "<Figure size 432x288 with 1 Axes>"
      ]
     },
     "metadata": {
      "needs_background": "light"
     },
     "output_type": "display_data"
    }
   ],
   "source": [
    "plt.plot(halfsum)\n",
    "plt.axhline(y=.5, color='r')\n",
    "plt.axvline(x=12.3, color='r')\n",
    "plt.xlabel('Rain rate (mm/hr -- 1/2 hr)')\n",
    "plt.ylabel('Total rainfall (mm)')\n",
    "plt.title('WHOTS Cumulative Rainfall');"
   ]
  },
  {
   "cell_type": "code",
   "execution_count": 338,
   "metadata": {
    "ExecuteTime": {
     "end_time": "2019-03-05T17:33:08.789479Z",
     "start_time": "2019-03-05T17:33:08.773849Z"
    }
   },
   "outputs": [
    {
     "data": {
      "text/plain": [
       "array([0.16296919, 0.23003404, 0.28114795, 0.31580965, 0.36035055,\n",
       "       0.37395558, 0.39003041, 0.40393888, 0.44071412, 0.45832729,\n",
       "       0.45832729, 0.45832729, 0.48922092, 0.52258435, 0.52258435,\n",
       "       0.54173586, 0.5927019 , 0.60351256, 0.61494066, 0.61494066,\n",
       "       0.61494066, 0.61494066, 0.61494066, 0.62945602, 0.65972164,\n",
       "       0.6754719 , 0.6918396 , 0.6918396 , 0.70944221, 0.72766227,\n",
       "       0.74649978, 0.74649978, 0.74649978, 0.76718964, 0.76718964,\n",
       "       0.7891144 , 0.7891144 , 0.7891144 , 0.7891144 , 0.7891144 ,\n",
       "       0.7891144 , 0.7891144 , 0.7891144 , 0.7891144 , 0.7891144 ,\n",
       "       0.7891144 , 0.7891144 , 0.7891144 , 0.7891144 , 0.7891144 ,\n",
       "       0.82030091, 0.82030091, 0.82030091, 0.82030091, 0.85395722,\n",
       "       0.85395722, 0.85395722, 0.85395722, 0.85395722, 0.85395722,\n",
       "       0.85395722, 0.85395722, 0.89255313, 0.89255313, 0.89255313,\n",
       "       0.89255313, 0.89255313, 0.89255313, 0.89255313, 0.89255313,\n",
       "       0.89255313, 0.89255313, 0.89255313, 0.89255313, 0.89255313,\n",
       "       0.89255313, 0.93979334, 0.93979334, 0.93979334, 0.93979334,\n",
       "       0.93979334, 0.93979334, 0.93979334, 0.93979334, 0.93979334,\n",
       "       0.93979334, 0.93979334, 0.93979334, 0.93979334, 0.93979334,\n",
       "       0.93979334, 0.93979334, 0.93979334, 0.93979334, 0.93979334,\n",
       "       0.93979334, 0.93979334, 1.        ])"
      ]
     },
     "execution_count": 338,
     "metadata": {},
     "output_type": "execute_result"
    }
   ],
   "source": [
    "fullsum"
   ]
  },
  {
   "cell_type": "markdown",
   "metadata": {},
   "source": [
    "Surprisingly enough, even with the huge variability and amount of large rain events, the 50% mark of total cumulative rainfall still lies around 6.15 millimeters/hr, which is similar to everything else we've seen."
   ]
  },
  {
   "cell_type": "code",
   "execution_count": 339,
   "metadata": {
    "ExecuteTime": {
     "end_time": "2019-03-05T17:33:10.305226Z",
     "start_time": "2019-03-05T17:33:10.289858Z"
    }
   },
   "outputs": [
    {
     "name": "stdout",
     "output_type": "stream",
     "text": [
      "First cumulative third of rainfall: (4,)\n",
      "From the first to the second cumul. third: (21,)\n",
      "Significant rain events: (73,)\n"
     ]
    }
   ],
   "source": [
    "## One thought\n",
    "print('First cumulative third of rainfall:', fullsum[fullsum<0.33].shape)\n",
    "print('From the first to the second cumul. third:', fullsum[(fullsum >0.33) & (fullsum < .66)].shape)\n",
    "print('Significant rain events:', fullsum[fullsum > 0.66].shape)"
   ]
  },
  {
   "cell_type": "code",
   "execution_count": 340,
   "metadata": {
    "ExecuteTime": {
     "end_time": "2019-03-05T17:33:12.242931Z",
     "start_time": "2019-03-05T17:33:11.977310Z"
    }
   },
   "outputs": [
    {
     "data": {
      "image/png": "[encoded data removed]",
      "text/plain": [
       "<Figure size 432x288 with 1 Axes>"
      ]
     },
     "metadata": {
      "needs_background": "light"
     },
     "output_type": "display_data"
    }
   ],
   "source": [
    "whots['pct_change'] = whots['sss'].pct_change().fillna(0)\n",
    "whotslag = pd.DataFrame(whots['precip'].reset_index().drop('new_time', axis=1))\n",
    "wpct_lag = pd.DataFrame(whots['pct_change'].reset_index().drop('new_time', axis=1).shift(1).fillna(0))\n",
    "wlag = pd.concat([whotslag, wpct_lag], axis=1, join='outer')\n",
    "plt.scatter(x=whotslag, y=wpct_lag)\n",
    "plt.scatter(x=whots['precip'], y=whots['pct_change'], alpha=0.6)\n",
    "plt.show()"
   ]
  },
  {
   "cell_type": "code",
   "execution_count": 341,
   "metadata": {
    "ExecuteTime": {
     "end_time": "2019-03-05T17:33:13.305591Z",
     "start_time": "2019-03-05T17:33:13.087026Z"
    }
   },
   "outputs": [
    {
     "data": {
      "image/png": "[encoded data removed]",
      "text/plain": [
       "<Figure size 432x288 with 1 Axes>"
      ]
     },
     "metadata": {
      "needs_background": "light"
     },
     "output_type": "display_data"
    }
   ],
   "source": [
    "whots_rain = whots[whots['precip'] > 0]\n",
    "whotslag2 = pd.DataFrame(whots_rain['precip'].reset_index().drop('new_time', axis=1))\n",
    "wpct_lag2 = pd.DataFrame(whots_rain['pct_change'].reset_index().drop('new_time', axis=1))\n",
    "w_nolag2 = pd.concat([whotslag2, wpct_lag2], axis=1, join='outer')\n",
    "#pct_lag\n",
    "plt.scatter(x=whotslag2, y=wpct_lag2)\n",
    "plt.scatter(x=whots['precip'], y=whots['pct_change'], alpha=0.6)\n",
    "plt.show()"
   ]
  },
  {
   "cell_type": "code",
   "execution_count": 342,
   "metadata": {
    "ExecuteTime": {
     "end_time": "2019-03-05T17:33:14.461947Z",
     "start_time": "2019-03-05T17:33:14.446321Z"
    }
   },
   "outputs": [
    {
     "data": {
      "text/html": [
       "<div>\n",
       "<style scoped>\n",
       "    .dataframe tbody tr th:only-of-type {\n",
       "        vertical-align: middle;\n",
       "    }\n",
       "\n",
       "    .dataframe tbody tr th {\n",
       "        vertical-align: top;\n",
       "    }\n",
       "\n",
       "    .dataframe thead th {\n",
       "        text-align: right;\n",
       "    }\n",
       "</style>\n",
       "<table border=\"1\" class=\"dataframe\">\n",
       "  <thead>\n",
       "    <tr style=\"text-align: right;\">\n",
       "      <th></th>\n",
       "      <th>precip</th>\n",
       "      <th>pct_change</th>\n",
       "    </tr>\n",
       "  </thead>\n",
       "  <tbody>\n",
       "    <tr>\n",
       "      <th>precip</th>\n",
       "      <td>1.000000</td>\n",
       "      <td>-0.475307</td>\n",
       "    </tr>\n",
       "    <tr>\n",
       "      <th>pct_change</th>\n",
       "      <td>-0.475307</td>\n",
       "      <td>1.000000</td>\n",
       "    </tr>\n",
       "  </tbody>\n",
       "</table>\n",
       "</div>"
      ],
      "text/plain": [
       "              precip  pct_change\n",
       "precip      1.000000   -0.475307\n",
       "pct_change -0.475307    1.000000"
      ]
     },
     "execution_count": 342,
     "metadata": {},
     "output_type": "execute_result"
    }
   ],
   "source": [
    "w_nolag2.corr()"
   ]
  },
  {
   "cell_type": "code",
   "execution_count": 343,
   "metadata": {
    "ExecuteTime": {
     "end_time": "2019-03-05T17:33:15.368289Z",
     "start_time": "2019-03-05T17:33:15.352667Z"
    }
   },
   "outputs": [
    {
     "data": {
      "text/html": [
       "<div>\n",
       "<style scoped>\n",
       "    .dataframe tbody tr th:only-of-type {\n",
       "        vertical-align: middle;\n",
       "    }\n",
       "\n",
       "    .dataframe tbody tr th {\n",
       "        vertical-align: top;\n",
       "    }\n",
       "\n",
       "    .dataframe thead th {\n",
       "        text-align: right;\n",
       "    }\n",
       "</style>\n",
       "<table border=\"1\" class=\"dataframe\">\n",
       "  <thead>\n",
       "    <tr style=\"text-align: right;\">\n",
       "      <th></th>\n",
       "      <th>precip</th>\n",
       "      <th>pct_change</th>\n",
       "    </tr>\n",
       "  </thead>\n",
       "  <tbody>\n",
       "    <tr>\n",
       "      <th>precip</th>\n",
       "      <td>1.000000</td>\n",
       "      <td>-0.171184</td>\n",
       "    </tr>\n",
       "    <tr>\n",
       "      <th>pct_change</th>\n",
       "      <td>-0.171184</td>\n",
       "      <td>1.000000</td>\n",
       "    </tr>\n",
       "  </tbody>\n",
       "</table>\n",
       "</div>"
      ],
      "text/plain": [
       "              precip  pct_change\n",
       "precip      1.000000   -0.171184\n",
       "pct_change -0.171184    1.000000"
      ]
     },
     "execution_count": 343,
     "metadata": {},
     "output_type": "execute_result"
    }
   ],
   "source": [
    "wlag.corr()"
   ]
  },
  {
   "cell_type": "code",
   "execution_count": 344,
   "metadata": {
    "ExecuteTime": {
     "end_time": "2019-03-05T17:33:16.180879Z",
     "start_time": "2019-03-05T17:33:16.149847Z"
    }
   },
   "outputs": [
    {
     "data": {
      "text/html": [
       "<div>\n",
       "<style scoped>\n",
       "    .dataframe tbody tr th:only-of-type {\n",
       "        vertical-align: middle;\n",
       "    }\n",
       "\n",
       "    .dataframe tbody tr th {\n",
       "        vertical-align: top;\n",
       "    }\n",
       "\n",
       "    .dataframe thead th {\n",
       "        text-align: right;\n",
       "    }\n",
       "</style>\n",
       "<table border=\"1\" class=\"dataframe\">\n",
       "  <thead>\n",
       "    <tr style=\"text-align: right;\">\n",
       "      <th></th>\n",
       "      <th>precip</th>\n",
       "      <th>pct_change</th>\n",
       "    </tr>\n",
       "  </thead>\n",
       "  <tbody>\n",
       "    <tr>\n",
       "      <th>precip</th>\n",
       "      <td>1.000000</td>\n",
       "      <td>-0.453891</td>\n",
       "    </tr>\n",
       "    <tr>\n",
       "      <th>pct_change</th>\n",
       "      <td>-0.453891</td>\n",
       "      <td>1.000000</td>\n",
       "    </tr>\n",
       "  </tbody>\n",
       "</table>\n",
       "</div>"
      ],
      "text/plain": [
       "              precip  pct_change\n",
       "precip      1.000000   -0.453891\n",
       "pct_change -0.453891    1.000000"
      ]
     },
     "execution_count": 344,
     "metadata": {},
     "output_type": "execute_result"
    }
   ],
   "source": [
    "whots[['precip', 'pct_change']].corr()"
   ]
  },
  {
   "cell_type": "markdown",
   "metadata": {},
   "source": [
    "Finally, we see once again that there is a weak correlation between a lagged variable and rainfall. The strongest correlation is between sss and precipitation in the same hour, and again there is an even stronger correlation between rainfall and salinity in the same hour when rainfall was present. This is a trend for every single buoy, and so we should conclude that lagged variables are probably not what we want to inspect, at least not as a one-variable response. Instead, it appears that any change in salinity due to rainfall (or vice versa) would either be a quick and temporary change due to the rainfall, or an event caused by a sudden change in salinity."
   ]
  },
  {
   "cell_type": "markdown",
   "metadata": {},
   "source": [
    "# Conclusions (for now)"
   ]
  },
  {
   "cell_type": "code",
   "execution_count": 345,
   "metadata": {
    "ExecuteTime": {
     "end_time": "2019-03-05T17:33:18.963881Z",
     "start_time": "2019-03-05T17:33:18.948249Z"
    }
   },
   "outputs": [
    {
     "name": "stdout",
     "output_type": "stream",
     "text": [
      "5.975\n",
      "0.5202163011671204\n"
     ]
    }
   ],
   "source": [
    "## Looking at the distributions of 50% accumulation of rainfall for buoys...\n",
    "dist = np.array([5.5,6.75,5.5,6.15])\n",
    "print(np.mean(dist))\n",
    "print(np.std(dist))"
   ]
  },
  {
   "cell_type": "markdown",
   "metadata": {},
   "source": [
    "We can draw three main conclusions from what we've done here:\n",
    "\n",
    "1) There does not seem to be any hard evidence that putting a time lag on either salinity or rainfall gives a better casual relationship between the two; the best correlations that we see occur within the same hour, and we see an even stronger relationship with every single buoy between the two when rain is present, which makes sense.\n",
    "\n",
    "2) Each buoy has a relatively different threshold at which 50% of all of it's rainfall has occurred, in terms of rates of rainfall by hour. The more tropical buoys, such as Spurs2 and WHOTS, have a much larger threshold, especially Spurs2; thus, comparing what we classify as a rain event at one buoy may not necessarily be appropriate for another.\n",
    "\n",
    "3) We see bimodal distributions of rainfall for every single rate, at every single buoy. That is, there are large amounts of very minor rain events, very few at the (relative) middle range for each buoy, and then larger representation for more significant rain events. This is true even in sparse rain climates such as NTAS and Spurs1.\n",
    "\n",
    "__Thoughts:__ Maybe coming up with a method of classification that does not have to be hard coded, for each third of that area's total annual rainfall per rainfall rate in mm/hr. Therefore, we would have four categories: No Rain, Minor Rain, Rain, Significant Rain; our reasoning behind this is that each of these categories has drastically different representation between each buoy, but they do also all follow the same bimodal trend. Therefore, we believe this to be a reasonable outline of rain classes moving forward."
   ]
  },
  {
   "cell_type": "code",
   "execution_count": 245,
   "metadata": {
    "ExecuteTime": {
     "end_time": "2019-03-01T14:41:31.214825Z",
     "start_time": "2019-03-01T14:41:30.968268Z"
    }
   },
   "outputs": [
    {
     "name": "stdout",
     "output_type": "stream",
     "text": [
      "First cumulative third of rainfall: (4,)\n",
      "From the first to the second cumul. third: (21,)\n",
      "Significant rain events: (73,)\n"
     ]
    }
   ],
   "source": [
    "## One thought\n",
    "print('First cumulative third of rainfall:', fullsum[fullsum<0.33].shape)\n",
    "print('From the first to the second cumul. third:', fullsum[(fullsum >0.33) & (fullsum < .66)].shape)\n",
    "print('Significant rain events:', fullsum[fullsum > 0.66].shape)"
   ]
  },
  {
   "cell_type": "code",
   "execution_count": null,
   "metadata": {},
   "outputs": [],
   "source": []
  }
 ],
 "metadata": {
  "hide_input": false,
  "kernelspec": {
   "display_name": "Python 3",
   "language": "python",
   "name": "python3"
  },
  "language_info": {
   "codemirror_mode": {
    "name": "ipython",
    "version": 3
   },
   "file_extension": ".py",
   "mimetype": "text/x-python",
   "name": "python",
   "nbconvert_exporter": "python",
   "pygments_lexer": "ipython3",
   "version": "3.6.7"
  },
  "toc": {
   "base_numbering": 1,
   "nav_menu": {},
   "number_sections": true,
   "sideBar": true,
   "skip_h1_title": false,
   "title_cell": "Table of Contents",
   "title_sidebar": "Contents",
   "toc_cell": false,
   "toc_position": {},
   "toc_section_display": true,
   "toc_window_display": true
  },
  "varInspector": {
   "cols": {
    "lenName": 16,
    "lenType": 16,
    "lenVar": 40
   },
   "kernels_config": {
    "python": {
     "delete_cmd_postfix": "",
     "delete_cmd_prefix": "del ",
     "library": "var_list.py",
     "varRefreshCmd": "print(var_dic_list())"
    },
    "r": {
     "delete_cmd_postfix": ") ",
     "delete_cmd_prefix": "rm(",
     "library": "var_list.r",
     "varRefreshCmd": "cat(var_dic_list()) "
    }
   },
   "types_to_exclude": [
    "module",
    "function",
    "builtin_function_or_method",
    "instance",
    "_Feature"
   ],
   "window_display": false
  }
 },
 "nbformat": 4,
 "nbformat_minor": 2
}
