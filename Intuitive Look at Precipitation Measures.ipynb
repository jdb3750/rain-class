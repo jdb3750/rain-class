{
 "cells": [
  {
   "cell_type": "markdown",
   "metadata": {},
   "source": [
    "_After inspecting the total rainfall and the variability between both Spurs1 and Spurs2, we decided that the predetermined measure of a \"rain event\" (2 mm over 3 hrs) may not be a good general measure._"
   ]
  },
  {
   "cell_type": "code",
   "execution_count": 2,
   "metadata": {
    "ExecuteTime": {
     "end_time": "2019-02-27T11:57:27.675779Z",
     "start_time": "2019-02-27T11:56:31.569050Z"
    }
   },
   "outputs": [],
   "source": [
    "import numpy as np\n",
    "import pandas as pd\n",
    "import matplotlib.pyplot as plt\n",
    "import tensorflow as tf\n",
    "import scipy.io as sio\n",
    "import seaborn as sns\n",
    "%matplotlib inline"
   ]
  },
  {
   "cell_type": "code",
   "execution_count": 76,
   "metadata": {
    "ExecuteTime": {
     "end_time": "2019-02-28T02:28:26.598704Z",
     "start_time": "2019-02-28T02:28:25.880775Z"
    }
   },
   "outputs": [
    {
     "data": {
      "text/html": [
       "<div>\n",
       "<style scoped>\n",
       "    .dataframe tbody tr th:only-of-type {\n",
       "        vertical-align: middle;\n",
       "    }\n",
       "\n",
       "    .dataframe tbody tr th {\n",
       "        vertical-align: top;\n",
       "    }\n",
       "\n",
       "    .dataframe thead th {\n",
       "        text-align: right;\n",
       "    }\n",
       "</style>\n",
       "<table border=\"1\" class=\"dataframe\">\n",
       "  <thead>\n",
       "    <tr style=\"text-align: right;\">\n",
       "      <th></th>\n",
       "      <th>time</th>\n",
       "      <th>sss</th>\n",
       "      <th>sst</th>\n",
       "      <th>wind_spd</th>\n",
       "      <th>wind_dir</th>\n",
       "      <th>precip</th>\n",
       "      <th>cum_precip3</th>\n",
       "      <th>cum_precip6</th>\n",
       "      <th>year</th>\n",
       "      <th>month</th>\n",
       "      <th>...</th>\n",
       "      <th>scaled_sss</th>\n",
       "      <th>scaled_dir</th>\n",
       "      <th>scaled_spd</th>\n",
       "      <th>scaled_sst</th>\n",
       "      <th>pct_change</th>\n",
       "      <th>pct_c_scaled</th>\n",
       "      <th>set</th>\n",
       "      <th>sst_pct_change</th>\n",
       "      <th>dir_pct_change</th>\n",
       "      <th>spd_pct_change</th>\n",
       "    </tr>\n",
       "    <tr>\n",
       "      <th>new_time</th>\n",
       "      <th></th>\n",
       "      <th></th>\n",
       "      <th></th>\n",
       "      <th></th>\n",
       "      <th></th>\n",
       "      <th></th>\n",
       "      <th></th>\n",
       "      <th></th>\n",
       "      <th></th>\n",
       "      <th></th>\n",
       "      <th></th>\n",
       "      <th></th>\n",
       "      <th></th>\n",
       "      <th></th>\n",
       "      <th></th>\n",
       "      <th></th>\n",
       "      <th></th>\n",
       "      <th></th>\n",
       "      <th></th>\n",
       "      <th></th>\n",
       "      <th></th>\n",
       "    </tr>\n",
       "  </thead>\n",
       "  <tbody>\n",
       "    <tr>\n",
       "      <th>2016-08-24 02:30:00.000028800</th>\n",
       "      <td>736566.104167</td>\n",
       "      <td>32.785813</td>\n",
       "      <td>29.972728</td>\n",
       "      <td>1.499305</td>\n",
       "      <td>-35.279577</td>\n",
       "      <td>0.000000</td>\n",
       "      <td>0.000000</td>\n",
       "      <td>0.0</td>\n",
       "      <td>2016</td>\n",
       "      <td>8</td>\n",
       "      <td>...</td>\n",
       "      <td>-0.949913</td>\n",
       "      <td>0.090521</td>\n",
       "      <td>-1.915939</td>\n",
       "      <td>3.406521</td>\n",
       "      <td>0.000000</td>\n",
       "      <td>0.000000</td>\n",
       "      <td>Spurs2</td>\n",
       "      <td>0.000000</td>\n",
       "      <td>0.000000</td>\n",
       "      <td>0.000000</td>\n",
       "    </tr>\n",
       "    <tr>\n",
       "      <th>2016-08-24 03:29:59.999971200</th>\n",
       "      <td>736566.145833</td>\n",
       "      <td>32.789527</td>\n",
       "      <td>30.088739</td>\n",
       "      <td>2.201161</td>\n",
       "      <td>-44.300444</td>\n",
       "      <td>0.000000</td>\n",
       "      <td>0.000000</td>\n",
       "      <td>0.0</td>\n",
       "      <td>2016</td>\n",
       "      <td>8</td>\n",
       "      <td>...</td>\n",
       "      <td>-0.944399</td>\n",
       "      <td>0.006298</td>\n",
       "      <td>-1.601975</td>\n",
       "      <td>3.593902</td>\n",
       "      <td>0.000113</td>\n",
       "      <td>0.071216</td>\n",
       "      <td>Spurs2</td>\n",
       "      <td>2.067004</td>\n",
       "      <td>0.111099</td>\n",
       "      <td>0.366879</td>\n",
       "    </tr>\n",
       "    <tr>\n",
       "      <th>2016-08-24 04:30:00.000000000</th>\n",
       "      <td>736566.187500</td>\n",
       "      <td>32.627960</td>\n",
       "      <td>29.630041</td>\n",
       "      <td>4.694584</td>\n",
       "      <td>-80.636065</td>\n",
       "      <td>10.613047</td>\n",
       "      <td>10.613047</td>\n",
       "      <td>0.0</td>\n",
       "      <td>2016</td>\n",
       "      <td>8</td>\n",
       "      <td>...</td>\n",
       "      <td>-1.184285</td>\n",
       "      <td>-0.332949</td>\n",
       "      <td>-0.486581</td>\n",
       "      <td>2.853013</td>\n",
       "      <td>-0.004927</td>\n",
       "      <td>-3.166366</td>\n",
       "      <td>Spurs2</td>\n",
       "      <td>-8.128834</td>\n",
       "      <td>0.285528</td>\n",
       "      <td>0.962475</td>\n",
       "    </tr>\n",
       "    <tr>\n",
       "      <th>2016-08-24 05:30:00.000028800</th>\n",
       "      <td>736566.229167</td>\n",
       "      <td>32.606144</td>\n",
       "      <td>29.366735</td>\n",
       "      <td>1.339539</td>\n",
       "      <td>141.605791</td>\n",
       "      <td>1.210007</td>\n",
       "      <td>11.823053</td>\n",
       "      <td>0.0</td>\n",
       "      <td>2016</td>\n",
       "      <td>8</td>\n",
       "      <td>...</td>\n",
       "      <td>-1.216677</td>\n",
       "      <td>1.742009</td>\n",
       "      <td>-1.987408</td>\n",
       "      <td>2.427721</td>\n",
       "      <td>-0.000669</td>\n",
       "      <td>-0.431001</td>\n",
       "      <td>Spurs2</td>\n",
       "      <td>-4.737377</td>\n",
       "      <td>-0.819523</td>\n",
       "      <td>-0.693011</td>\n",
       "    </tr>\n",
       "    <tr>\n",
       "      <th>2016-08-24 06:29:59.999971200</th>\n",
       "      <td>736566.270833</td>\n",
       "      <td>32.606789</td>\n",
       "      <td>29.310380</td>\n",
       "      <td>1.805641</td>\n",
       "      <td>100.847879</td>\n",
       "      <td>0.000000</td>\n",
       "      <td>11.823053</td>\n",
       "      <td>0.0</td>\n",
       "      <td>2016</td>\n",
       "      <td>8</td>\n",
       "      <td>...</td>\n",
       "      <td>-1.215719</td>\n",
       "      <td>1.361473</td>\n",
       "      <td>-1.778904</td>\n",
       "      <td>2.336697</td>\n",
       "      <td>0.000020</td>\n",
       "      <td>0.011158</td>\n",
       "      <td>Spurs2</td>\n",
       "      <td>-1.021055</td>\n",
       "      <td>-0.056845</td>\n",
       "      <td>0.259200</td>\n",
       "    </tr>\n",
       "  </tbody>\n",
       "</table>\n",
       "<p>5 rows × 22 columns</p>\n",
       "</div>"
      ],
      "text/plain": [
       "                                        time        sss        sst  wind_spd  \\\n",
       "new_time                                                                       \n",
       "2016-08-24 02:30:00.000028800  736566.104167  32.785813  29.972728  1.499305   \n",
       "2016-08-24 03:29:59.999971200  736566.145833  32.789527  30.088739  2.201161   \n",
       "2016-08-24 04:30:00.000000000  736566.187500  32.627960  29.630041  4.694584   \n",
       "2016-08-24 05:30:00.000028800  736566.229167  32.606144  29.366735  1.339539   \n",
       "2016-08-24 06:29:59.999971200  736566.270833  32.606789  29.310380  1.805641   \n",
       "\n",
       "                                 wind_dir     precip  cum_precip3  \\\n",
       "new_time                                                            \n",
       "2016-08-24 02:30:00.000028800  -35.279577   0.000000     0.000000   \n",
       "2016-08-24 03:29:59.999971200  -44.300444   0.000000     0.000000   \n",
       "2016-08-24 04:30:00.000000000  -80.636065  10.613047    10.613047   \n",
       "2016-08-24 05:30:00.000028800  141.605791   1.210007    11.823053   \n",
       "2016-08-24 06:29:59.999971200  100.847879   0.000000    11.823053   \n",
       "\n",
       "                               cum_precip6  year  month  ...  scaled_sss  \\\n",
       "new_time                                                 ...               \n",
       "2016-08-24 02:30:00.000028800          0.0  2016      8  ...   -0.949913   \n",
       "2016-08-24 03:29:59.999971200          0.0  2016      8  ...   -0.944399   \n",
       "2016-08-24 04:30:00.000000000          0.0  2016      8  ...   -1.184285   \n",
       "2016-08-24 05:30:00.000028800          0.0  2016      8  ...   -1.216677   \n",
       "2016-08-24 06:29:59.999971200          0.0  2016      8  ...   -1.215719   \n",
       "\n",
       "                               scaled_dir  scaled_spd  scaled_sst  pct_change  \\\n",
       "new_time                                                                        \n",
       "2016-08-24 02:30:00.000028800    0.090521   -1.915939    3.406521    0.000000   \n",
       "2016-08-24 03:29:59.999971200    0.006298   -1.601975    3.593902    0.000113   \n",
       "2016-08-24 04:30:00.000000000   -0.332949   -0.486581    2.853013   -0.004927   \n",
       "2016-08-24 05:30:00.000028800    1.742009   -1.987408    2.427721   -0.000669   \n",
       "2016-08-24 06:29:59.999971200    1.361473   -1.778904    2.336697    0.000020   \n",
       "\n",
       "                               pct_c_scaled     set  sst_pct_change  \\\n",
       "new_time                                                              \n",
       "2016-08-24 02:30:00.000028800      0.000000  Spurs2        0.000000   \n",
       "2016-08-24 03:29:59.999971200      0.071216  Spurs2        2.067004   \n",
       "2016-08-24 04:30:00.000000000     -3.166366  Spurs2       -8.128834   \n",
       "2016-08-24 05:30:00.000028800     -0.431001  Spurs2       -4.737377   \n",
       "2016-08-24 06:29:59.999971200      0.011158  Spurs2       -1.021055   \n",
       "\n",
       "                              dir_pct_change  spd_pct_change  \n",
       "new_time                                                      \n",
       "2016-08-24 02:30:00.000028800       0.000000        0.000000  \n",
       "2016-08-24 03:29:59.999971200       0.111099        0.366879  \n",
       "2016-08-24 04:30:00.000000000       0.285528        0.962475  \n",
       "2016-08-24 05:30:00.000028800      -0.819523       -0.693011  \n",
       "2016-08-24 06:29:59.999971200      -0.056845        0.259200  \n",
       "\n",
       "[5 rows x 22 columns]"
      ]
     },
     "execution_count": 76,
     "metadata": {},
     "output_type": "execute_result"
    }
   ],
   "source": [
    "data = pd.read_csv('data.csv')\n",
    "data2 = pd.read_csv('data2.csv')\n",
    "data = data.set_index('new_time')\n",
    "data2 = data2.set_index('new_time')\n",
    "data2.head()"
   ]
  },
  {
   "cell_type": "markdown",
   "metadata": {},
   "source": [
    "# Looking at Spurs1"
   ]
  },
  {
   "cell_type": "code",
   "execution_count": 259,
   "metadata": {
    "ExecuteTime": {
     "end_time": "2019-03-01T15:37:11.228700Z",
     "start_time": "2019-03-01T15:37:11.216201Z"
    }
   },
   "outputs": [
    {
     "name": "stdout",
     "output_type": "stream",
     "text": [
      "711.9206638361812\n"
     ]
    },
    {
     "data": {
      "text/plain": [
       "count    9133.000000\n",
       "mean        0.077950\n",
       "std         0.889278\n",
       "min         0.000000\n",
       "25%         0.000000\n",
       "50%         0.000000\n",
       "75%         0.000000\n",
       "max        35.374674\n",
       "Name: precip, dtype: float64"
      ]
     },
     "execution_count": 259,
     "metadata": {},
     "output_type": "execute_result"
    }
   ],
   "source": [
    "print(data['precip'].sum())\n",
    "data['precip'].describe()"
   ]
  },
  {
   "cell_type": "markdown",
   "metadata": {},
   "source": [
    "So we can see that though the maximum rainfall in one hour is over 35 millimeters, the mean rainfall is only 0.078 millimeters with a variance of 0.79081536 millimeters. Also, for such a small mean and variance it is curious that there were over 700 millimeters of rainfall in the year span of the data."
   ]
  },
  {
   "cell_type": "code",
   "execution_count": 260,
   "metadata": {
    "ExecuteTime": {
     "end_time": "2019-03-01T15:37:12.680252Z",
     "start_time": "2019-03-01T15:37:12.590783Z"
    }
   },
   "outputs": [
    {
     "name": "stdout",
     "output_type": "stream",
     "text": [
      "7\n"
     ]
    },
    {
     "data": {
      "text/plain": [
       "166.33233761510294"
      ]
     },
     "execution_count": 260,
     "metadata": {},
     "output_type": "execute_result"
    }
   ],
   "source": [
    "large = data[data['precip'] > 15]\n",
    "print(large['precip'].count())\n",
    "large['precip'].sum()"
   ]
  },
  {
   "cell_type": "markdown",
   "metadata": {},
   "source": [
    "So we see above that there are only 7 instances of rainfall greater than 15 mm/hr for Spurs1, but they account for about 24% of the data. On the other end of the scale..."
   ]
  },
  {
   "cell_type": "code",
   "execution_count": 261,
   "metadata": {
    "ExecuteTime": {
     "end_time": "2019-03-01T15:37:14.014323Z",
     "start_time": "2019-03-01T15:37:13.887572Z"
    }
   },
   "outputs": [
    {
     "name": "stdout",
     "output_type": "stream",
     "text": [
      "192\n"
     ]
    },
    {
     "data": {
      "text/plain": [
       "16.707725507309327"
      ]
     },
     "execution_count": 261,
     "metadata": {},
     "output_type": "execute_result"
    }
   ],
   "source": [
    "other = data[(data['precip'] > 0) & (data['precip'] < .21)]\n",
    "print(other['precip'].count())\n",
    "other['precip'].sum()"
   ]
  },
  {
   "cell_type": "markdown",
   "metadata": {
    "ExecuteTime": {
     "end_time": "2019-02-22T20:02:21.451297Z",
     "start_time": "2019-02-22T20:02:21.436223Z"
    }
   },
   "source": [
    "Very small amounts of rainfall account for about 43% of the data points we have, but only 2.3% of the rainfall."
   ]
  },
  {
   "cell_type": "code",
   "execution_count": 262,
   "metadata": {
    "ExecuteTime": {
     "end_time": "2019-03-01T15:37:16.730934Z",
     "start_time": "2019-03-01T15:37:15.167172Z"
    }
   },
   "outputs": [
    {
     "data": {
      "image/png": "[encoded data removed]",
      "text/plain": [
       "<Figure size 432x288 with 1 Axes>"
      ]
     },
     "metadata": {
      "needs_background": "light"
     },
     "output_type": "display_data"
    }
   ],
   "source": [
    "#plt.hist(data['precip'], bins=np.arange(0.01,0.2,0.01))\n",
    "#plt.xlim([0.01,0.21])\n",
    "(n, bins, patches) = plt.hist(data['precip'], bins=np.arange(0.001,36.001,0.5))\n",
    "plt.xlim([0.001,36.001])\n",
    "#plt.hist(data['precip'], bins=np.arange(15,35,3))\n",
    "plt.xscale('log')\n",
    "plt.show()\n",
    "bin_centers = bins[0:71] + 0.25\n",
    "#bin_centers\n",
    "#print(a)"
   ]
  },
  {
   "cell_type": "code",
   "execution_count": 263,
   "metadata": {
    "ExecuteTime": {
     "end_time": "2019-03-01T15:37:18.131354Z",
     "start_time": "2019-03-01T15:37:18.104693Z"
    }
   },
   "outputs": [
    {
     "data": {
      "text/plain": [
       "array([62.499, 47.313, 30.024, 33.269, 36.016, 22.008, 19.506, 15.004,\n",
       "       42.51 , 19.004, 15.753, 28.755, 18.753, 20.253,  0.   , 15.502,\n",
       "        0.   , 26.253,  0.   ,  9.751,  0.   ,  0.   , 11.251, 23.502,\n",
       "       24.502, 12.751, 13.251, 13.751, 14.251,  0.   ,  0.   ,  0.   ,\n",
       "        0.   ,  0.   , 17.251,  0.   , 18.251, 18.751,  0.   ,  0.   ,\n",
       "        0.   ,  0.   ,  0.   , 21.751,  0.   ,  0.   , 23.251,  0.   ,\n",
       "        0.   ,  0.   ,  0.   ,  0.   ,  0.   ,  0.   ,  0.   ,  0.   ,\n",
       "        0.   ,  0.   ,  0.   ,  0.   ,  0.   ,  0.   , 31.251,  0.   ,\n",
       "        0.   ,  0.   ,  0.   ,  0.   ,  0.   ,  0.   , 35.251])"
      ]
     },
     "execution_count": 263,
     "metadata": {},
     "output_type": "execute_result"
    }
   ],
   "source": [
    "sums = n*bin_centers\n",
    "sums"
   ]
  },
  {
   "cell_type": "code",
   "execution_count": 264,
   "metadata": {
    "ExecuteTime": {
     "end_time": "2019-03-01T15:37:19.397991Z",
     "start_time": "2019-03-01T15:37:19.373259Z"
    }
   },
   "outputs": [
    {
     "data": {
      "text/plain": [
       "array([ 62.499, 109.812, 139.836, 173.105, 209.121, 231.129, 250.635,\n",
       "       265.639, 308.149, 327.153, 342.906, 371.661, 390.414, 410.667,\n",
       "       410.667, 426.169, 426.169, 452.422, 452.422, 462.173, 462.173,\n",
       "       462.173, 473.424, 496.926, 521.428, 534.179, 547.43 , 561.181,\n",
       "       575.432, 575.432, 575.432, 575.432, 575.432, 575.432, 592.683,\n",
       "       592.683, 610.934, 629.685, 629.685, 629.685, 629.685, 629.685,\n",
       "       629.685, 651.436, 651.436, 651.436, 674.687, 674.687, 674.687,\n",
       "       674.687, 674.687, 674.687, 674.687, 674.687, 674.687, 674.687,\n",
       "       674.687, 674.687, 674.687, 674.687, 674.687, 674.687, 705.938,\n",
       "       705.938, 705.938, 705.938, 705.938, 705.938, 705.938, 705.938,\n",
       "       741.189])"
      ]
     },
     "execution_count": 264,
     "metadata": {},
     "output_type": "execute_result"
    }
   ],
   "source": [
    "sums.cumsum()"
   ]
  },
  {
   "cell_type": "code",
   "execution_count": 265,
   "metadata": {
    "ExecuteTime": {
     "end_time": "2019-03-01T15:37:22.252184Z",
     "start_time": "2019-03-01T15:37:22.018230Z"
    }
   },
   "outputs": [
    {
     "data": {
      "text/plain": [
       "<matplotlib.collections.PathCollection at 0x19f2b570400>"
      ]
     },
     "execution_count": 265,
     "metadata": {},
     "output_type": "execute_result"
    },
    {
     "data": {
      "image/png": "[encoded data removed]",
      "text/plain": [
       "<Figure size 432x288 with 1 Axes>"
      ]
     },
     "metadata": {
      "needs_background": "light"
     },
     "output_type": "display_data"
    }
   ],
   "source": [
    "plt.scatter(x=bin_centers, y=sums)"
   ]
  },
  {
   "cell_type": "code",
   "execution_count": 266,
   "metadata": {
    "ExecuteTime": {
     "end_time": "2019-03-01T15:37:24.379820Z",
     "start_time": "2019-03-01T15:37:23.505728Z"
    }
   },
   "outputs": [
    {
     "data": {
      "image/png": "[encoded data removed]",
      "text/plain": [
       "<Figure size 936x720 with 1 Axes>"
      ]
     },
     "metadata": {
      "needs_background": "light"
     },
     "output_type": "display_data"
    }
   ],
   "source": [
    "_, ax = plt.subplots(figsize=(13,10))\n",
    "plt.bar(x=bin_centers, height=sums)\n",
    "plt.xlabel('Rain rate (mm/hr)')\n",
    "plt.ylabel('Total rainfall (mm)')\n",
    "plt.title('Spurs1 Total Rainfall')\n",
    "plt.xticks(np.arange(0,36,1));"
   ]
  },
  {
   "cell_type": "code",
   "execution_count": 267,
   "metadata": {
    "ExecuteTime": {
     "end_time": "2019-03-01T15:37:25.747115Z",
     "start_time": "2019-03-01T15:37:25.499439Z"
    }
   },
   "outputs": [
    {
     "data": {
      "image/png": "[encoded data removed]",
      "text/plain": [
       "<Figure size 432x288 with 1 Axes>"
      ]
     },
     "metadata": {
      "needs_background": "light"
     },
     "output_type": "display_data"
    }
   ],
   "source": [
    "fullsum = sums.cumsum()/sums.sum()\n",
    "halfsum = (sums.cumsum()/sums.sum())[:36]\n",
    "plt.plot(fullsum)\n",
    "plt.axhline(y=.5, color='r')\n",
    "plt.xlabel('Rain rate (mm/hr)')\n",
    "plt.ylabel('Total rainfall (mm)')\n",
    "plt.title('Spurs1 Cumulative Rainfall');"
   ]
  },
  {
   "cell_type": "code",
   "execution_count": 268,
   "metadata": {
    "ExecuteTime": {
     "end_time": "2019-03-01T15:37:27.179747Z",
     "start_time": "2019-03-01T15:37:26.867124Z"
    }
   },
   "outputs": [
    {
     "data": {
      "image/png": "[encoded data removed]",
      "text/plain": [
       "<Figure size 432x288 with 1 Axes>"
      ]
     },
     "metadata": {
      "needs_background": "light"
     },
     "output_type": "display_data"
    }
   ],
   "source": [
    "plt.plot(halfsum)\n",
    "plt.axhline(y=.5, color='r')\n",
    "plt.axvline(x=11, color='r')\n",
    "plt.xlabel('Rain rate (mm/hr) -- by 1/2 hr')\n",
    "plt.ylabel('Total rainfall (mm)')\n",
    "plt.title('Spurs1 Cumulative Rainfall');"
   ]
  },
  {
   "cell_type": "markdown",
   "metadata": {},
   "source": [
    "So we can see that the 50/50 split of rainfall occurs around to 5.5 millimeters/hr; half of all rainfall occurs below that margin."
   ]
  },
  {
   "cell_type": "code",
   "execution_count": 274,
   "metadata": {
    "ExecuteTime": {
     "end_time": "2019-03-01T15:41:41.205482Z",
     "start_time": "2019-03-01T15:41:40.479873Z"
    }
   },
   "outputs": [
    {
     "data": {
      "image/png": "[encoded data removed]",
      "text/plain": [
       "<Figure size 432x288 with 1 Axes>"
      ]
     },
     "metadata": {
      "needs_background": "light"
     },
     "output_type": "display_data"
    }
   ],
   "source": [
    "rainlag = data['precip'].reset_index().drop('new_time', axis=1)\n",
    "pct_lag = data['pct_change'].reset_index().drop('new_time', axis=1).shift(1).fillna(0)\n",
    "#lagged = pd.DataFrame(rainlag, pct_lag)\n",
    "#pct_lag\n",
    "plt.scatter(x=rainlag, y=pct_lag, label='Lagged')\n",
    "plt.scatter(x=data['precip'], y=data['pct_change'], label='Original Time')\n",
    "plt.title('Lagged Salinity Based on Rainfall')\n",
    "plt.ylabel('Pct. Salinity Change')\n",
    "plt.xlabel('Rainfall (mm/hr)')\n",
    "plt.legend()\n",
    "plt.show()"
   ]
  },
  {
   "cell_type": "code",
   "execution_count": 276,
   "metadata": {
    "ExecuteTime": {
     "end_time": "2019-03-01T15:41:58.354529Z",
     "start_time": "2019-03-01T15:41:57.614021Z"
    }
   },
   "outputs": [
    {
     "data": {
      "image/png": "[encoded data removed]",
      "text/plain": [
       "<Figure size 432x288 with 1 Axes>"
      ]
     },
     "metadata": {
      "needs_background": "light"
     },
     "output_type": "display_data"
    }
   ],
   "source": [
    "rainlag = pd.DataFrame(data['precip'].reset_index().drop('new_time', axis=1).shift(1).fillna(0))\n",
    "pct_lag = pd.DataFrame(data['pct_change'].reset_index().drop('new_time', axis=1))\n",
    "newlagged = pd.concat([rainlag, pct_lag], axis=1, join='outer')\n",
    "#pct_lag\n",
    "plt.scatter(x=rainlag, y=pct_lag, label='Lagged')\n",
    "plt.scatter(x=data['precip'], y=data['pct_change'], label='Original Time')\n",
    "plt.title('Lagged Rainfall Based on Salinity Change')\n",
    "plt.ylabel('Pct. Salinity Change')\n",
    "plt.xlabel('Rainfall (mm/hr)')\n",
    "plt.legend()\n",
    "plt.show()"
   ]
  },
  {
   "cell_type": "code",
   "execution_count": 272,
   "metadata": {
    "ExecuteTime": {
     "end_time": "2019-03-01T15:39:05.362143Z",
     "start_time": "2019-03-01T15:39:05.338213Z"
    }
   },
   "outputs": [
    {
     "data": {
      "text/html": [
       "<div>\n",
       "<style scoped>\n",
       "    .dataframe tbody tr th:only-of-type {\n",
       "        vertical-align: middle;\n",
       "    }\n",
       "\n",
       "    .dataframe tbody tr th {\n",
       "        vertical-align: top;\n",
       "    }\n",
       "\n",
       "    .dataframe thead th {\n",
       "        text-align: right;\n",
       "    }\n",
       "</style>\n",
       "<table border=\"1\" class=\"dataframe\">\n",
       "  <thead>\n",
       "    <tr style=\"text-align: right;\">\n",
       "      <th></th>\n",
       "      <th>precip</th>\n",
       "      <th>pct_change</th>\n",
       "    </tr>\n",
       "  </thead>\n",
       "  <tbody>\n",
       "    <tr>\n",
       "      <th>precip</th>\n",
       "      <td>1.000000</td>\n",
       "      <td>-0.039987</td>\n",
       "    </tr>\n",
       "    <tr>\n",
       "      <th>pct_change</th>\n",
       "      <td>-0.039987</td>\n",
       "      <td>1.000000</td>\n",
       "    </tr>\n",
       "  </tbody>\n",
       "</table>\n",
       "</div>"
      ],
      "text/plain": [
       "              precip  pct_change\n",
       "precip      1.000000   -0.039987\n",
       "pct_change -0.039987    1.000000"
      ]
     },
     "execution_count": 272,
     "metadata": {},
     "output_type": "execute_result"
    }
   ],
   "source": [
    "#The lagged on salinity set -- did rain cause change\n",
    "lagged = pd.concat([rainlag, pct_lag], axis=1, join='outer')\n",
    "lagged.corr()"
   ]
  },
  {
   "cell_type": "code",
   "execution_count": 159,
   "metadata": {
    "ExecuteTime": {
     "end_time": "2019-02-28T11:46:06.800514Z",
     "start_time": "2019-02-28T11:46:06.783154Z"
    },
    "scrolled": true
   },
   "outputs": [
    {
     "data": {
      "text/html": [
       "<div>\n",
       "<style scoped>\n",
       "    .dataframe tbody tr th:only-of-type {\n",
       "        vertical-align: middle;\n",
       "    }\n",
       "\n",
       "    .dataframe tbody tr th {\n",
       "        vertical-align: top;\n",
       "    }\n",
       "\n",
       "    .dataframe thead th {\n",
       "        text-align: right;\n",
       "    }\n",
       "</style>\n",
       "<table border=\"1\" class=\"dataframe\">\n",
       "  <thead>\n",
       "    <tr style=\"text-align: right;\">\n",
       "      <th></th>\n",
       "      <th>precip</th>\n",
       "      <th>pct_change</th>\n",
       "    </tr>\n",
       "  </thead>\n",
       "  <tbody>\n",
       "    <tr>\n",
       "      <th>precip</th>\n",
       "      <td>1.00000</td>\n",
       "      <td>-0.03958</td>\n",
       "    </tr>\n",
       "    <tr>\n",
       "      <th>pct_change</th>\n",
       "      <td>-0.03958</td>\n",
       "      <td>1.00000</td>\n",
       "    </tr>\n",
       "  </tbody>\n",
       "</table>\n",
       "</div>"
      ],
      "text/plain": [
       "             precip  pct_change\n",
       "precip      1.00000    -0.03958\n",
       "pct_change -0.03958     1.00000"
      ]
     },
     "execution_count": 159,
     "metadata": {},
     "output_type": "execute_result"
    }
   ],
   "source": [
    "## Lagged on Rainfall-- did salinity cause precip\n",
    "newlagged.corr()"
   ]
  },
  {
   "cell_type": "code",
   "execution_count": 160,
   "metadata": {
    "ExecuteTime": {
     "end_time": "2019-02-28T11:55:38.523231Z",
     "start_time": "2019-02-28T11:55:38.499511Z"
    }
   },
   "outputs": [
    {
     "data": {
      "text/html": [
       "<div>\n",
       "<style scoped>\n",
       "    .dataframe tbody tr th:only-of-type {\n",
       "        vertical-align: middle;\n",
       "    }\n",
       "\n",
       "    .dataframe tbody tr th {\n",
       "        vertical-align: top;\n",
       "    }\n",
       "\n",
       "    .dataframe thead th {\n",
       "        text-align: right;\n",
       "    }\n",
       "</style>\n",
       "<table border=\"1\" class=\"dataframe\">\n",
       "  <thead>\n",
       "    <tr style=\"text-align: right;\">\n",
       "      <th></th>\n",
       "      <th>precip</th>\n",
       "      <th>pct_change</th>\n",
       "    </tr>\n",
       "  </thead>\n",
       "  <tbody>\n",
       "    <tr>\n",
       "      <th>precip</th>\n",
       "      <td>1.00000</td>\n",
       "      <td>-0.49476</td>\n",
       "    </tr>\n",
       "    <tr>\n",
       "      <th>pct_change</th>\n",
       "      <td>-0.49476</td>\n",
       "      <td>1.00000</td>\n",
       "    </tr>\n",
       "  </tbody>\n",
       "</table>\n",
       "</div>"
      ],
      "text/plain": [
       "             precip  pct_change\n",
       "precip      1.00000    -0.49476\n",
       "pct_change -0.49476     1.00000"
      ]
     },
     "execution_count": 160,
     "metadata": {},
     "output_type": "execute_result"
    }
   ],
   "source": [
    "## The unaltered original set\n",
    "data[['precip', 'pct_change']].corr()"
   ]
  },
  {
   "cell_type": "code",
   "execution_count": 271,
   "metadata": {
    "ExecuteTime": {
     "end_time": "2019-03-01T15:38:43.588345Z",
     "start_time": "2019-03-01T15:38:43.555740Z"
    }
   },
   "outputs": [
    {
     "data": {
      "text/html": [
       "<div>\n",
       "<style scoped>\n",
       "    .dataframe tbody tr th:only-of-type {\n",
       "        vertical-align: middle;\n",
       "    }\n",
       "\n",
       "    .dataframe tbody tr th {\n",
       "        vertical-align: top;\n",
       "    }\n",
       "\n",
       "    .dataframe thead th {\n",
       "        text-align: right;\n",
       "    }\n",
       "</style>\n",
       "<table border=\"1\" class=\"dataframe\">\n",
       "  <thead>\n",
       "    <tr style=\"text-align: right;\">\n",
       "      <th></th>\n",
       "      <th>precip</th>\n",
       "      <th>pct_change</th>\n",
       "    </tr>\n",
       "  </thead>\n",
       "  <tbody>\n",
       "    <tr>\n",
       "      <th>precip</th>\n",
       "      <td>1.000000</td>\n",
       "      <td>-0.585121</td>\n",
       "    </tr>\n",
       "    <tr>\n",
       "      <th>pct_change</th>\n",
       "      <td>-0.585121</td>\n",
       "      <td>1.000000</td>\n",
       "    </tr>\n",
       "  </tbody>\n",
       "</table>\n",
       "</div>"
      ],
      "text/plain": [
       "              precip  pct_change\n",
       "precip      1.000000   -0.585121\n",
       "pct_change -0.585121    1.000000"
      ]
     },
     "execution_count": 271,
     "metadata": {},
     "output_type": "execute_result"
    }
   ],
   "source": [
    "## Only when rain occurred...\n",
    "rain = data[data['precip'] > 0]\n",
    "\n",
    "rain[['precip', 'pct_change']].corr()"
   ]
  },
  {
   "cell_type": "markdown",
   "metadata": {},
   "source": [
    "So for Spurs1, we can conclude that the greatest effect that occurs with percent change in salinity and rainfall is \n",
    "\n",
    "a) when rainfall is present, and \n",
    "\n",
    "b)within the same hour that it occurs"
   ]
  },
  {
   "cell_type": "markdown",
   "metadata": {},
   "source": [
    "# Spurs2"
   ]
  },
  {
   "cell_type": "code",
   "execution_count": 277,
   "metadata": {
    "ExecuteTime": {
     "end_time": "2019-03-01T15:45:48.231529Z",
     "start_time": "2019-03-01T15:45:48.209613Z"
    }
   },
   "outputs": [
    {
     "name": "stdout",
     "output_type": "stream",
     "text": [
      "3927.2051423026883\n"
     ]
    },
    {
     "data": {
      "text/plain": [
       "count    10459.000000\n",
       "mean         0.375486\n",
       "std          1.927136\n",
       "min          0.000000\n",
       "25%          0.000000\n",
       "50%          0.000000\n",
       "75%          0.000000\n",
       "max         45.403696\n",
       "Name: precip, dtype: float64"
      ]
     },
     "execution_count": 277,
     "metadata": {},
     "output_type": "execute_result"
    }
   ],
   "source": [
    "print(data2['precip'].sum())\n",
    "data2['precip'].describe()"
   ]
  },
  {
   "cell_type": "code",
   "execution_count": 278,
   "metadata": {
    "ExecuteTime": {
     "end_time": "2019-03-01T15:45:49.653527Z",
     "start_time": "2019-03-01T15:45:49.384155Z"
    }
   },
   "outputs": [
    {
     "name": "stdout",
     "output_type": "stream",
     "text": [
      "Substantive rainfall: 953.5881939600546 mm over 43 events\n",
      "Marginal rainfall: 58.33822054609101 mm over 656 events\n",
      "Rainfall: 546.759144875758 mm over 651 events\n"
     ]
    }
   ],
   "source": [
    "large = data2[data2['precip'] > 15]\n",
    "print('Substantive rainfall:', large['precip'].sum(), 'mm over', large['precip'].count(), 'events')\n",
    "small = data2[(data2['precip'] > 0) & (data2['precip'] < .21)]\n",
    "print('Marginal rainfall:', small['precip'].sum(), 'mm over', small['precip'].count(), 'events')\n",
    "other = data2[(data2['precip'] > 0.21) & (data2['precip'] <= 2)]\n",
    "print('Rainfall:', other['precip'].sum(), 'mm over', other['precip'].count(), 'events')"
   ]
  },
  {
   "cell_type": "code",
   "execution_count": 279,
   "metadata": {
    "ExecuteTime": {
     "end_time": "2019-03-01T15:45:51.008137Z",
     "start_time": "2019-03-01T15:45:51.002394Z"
    }
   },
   "outputs": [
    {
     "data": {
      "text/plain": [
       "3927.2051423026883"
      ]
     },
     "execution_count": 279,
     "metadata": {},
     "output_type": "execute_result"
    }
   ],
   "source": [
    "data2['precip'].sum()"
   ]
  },
  {
   "cell_type": "code",
   "execution_count": 280,
   "metadata": {
    "ExecuteTime": {
     "end_time": "2019-03-01T15:45:53.596946Z",
     "start_time": "2019-03-01T15:45:52.642335Z"
    }
   },
   "outputs": [
    {
     "data": {
      "image/png": "[encoded data removed]",
      "text/plain": [
       "<Figure size 432x288 with 1 Axes>"
      ]
     },
     "metadata": {
      "needs_background": "light"
     },
     "output_type": "display_data"
    }
   ],
   "source": [
    "#plt.hist(data['precip'], bins=np.arange(0.01,0.2,0.01))\n",
    "#plt.xlim([0.01,0.21])\n",
    "(n, bins, patches) = plt.hist(data2['precip'], bins=np.arange(0.001,46.001,0.5))\n",
    "plt.xlim([0.001,45.501])\n",
    "#plt.hist(data['precip'], bins=np.arange(15,35,3))\n",
    "plt.xscale('log')\n",
    "plt.show()\n",
    "bin_centers = bins[0:91] + 0.25\n",
    "#bin_centers\n",
    "#print(a)"
   ]
  },
  {
   "cell_type": "code",
   "execution_count": 281,
   "metadata": {
    "ExecuteTime": {
     "end_time": "2019-03-01T15:45:54.763794Z",
     "start_time": "2019-03-01T15:45:54.752362Z"
    }
   },
   "outputs": [
    {
     "data": {
      "text/plain": [
       "array([221.131, 155.457, 150.12 , 171.598, 168.825, 129.297, 117.036,\n",
       "       127.534, 174.291, 156.783, 141.777, 126.522,  81.263,  67.51 ,\n",
       "        87.012, 100.763,  66.008,  87.51 ,  74.008,  68.257,  41.004,\n",
       "       118.261,  67.506,  58.755,  85.757, 127.51 ,  26.502,  13.751,\n",
       "        28.502,  29.502,  30.502,  31.502,  32.502,  33.502,  86.255,\n",
       "        53.253,  18.251,  18.751,  38.502,  19.751,  40.502,  20.751,\n",
       "        21.251,  21.751,   0.   ,   0.   ,  23.251,   0.   ,  72.753,\n",
       "         0.   ,  25.251,  25.751,  78.753,   0.   ,   0.   ,  55.502,\n",
       "         0.   ,   0.   ,   0.   ,   0.   ,   0.   ,  61.502,   0.   ,\n",
       "        31.751,   0.   ,  32.751,  33.251,   0.   ,   0.   ,   0.   ,\n",
       "         0.   ,   0.   ,   0.   ,   0.   ,   0.   ,   0.   ,   0.   ,\n",
       "         0.   ,   0.   ,   0.   ,   0.   ,   0.   ,   0.   ,   0.   ,\n",
       "         0.   ,   0.   ,   0.   ,   0.   ,   0.   ,   0.   ,  45.251])"
      ]
     },
     "execution_count": 281,
     "metadata": {},
     "output_type": "execute_result"
    }
   ],
   "source": [
    "sums = n*bin_centers\n",
    "sums"
   ]
  },
  {
   "cell_type": "code",
   "execution_count": 282,
   "metadata": {
    "ExecuteTime": {
     "end_time": "2019-03-01T15:45:56.413148Z",
     "start_time": "2019-03-01T15:45:56.399665Z"
    },
    "scrolled": true
   },
   "outputs": [
    {
     "data": {
      "text/plain": [
       "array([ 0.251,  0.751,  1.251,  1.751,  2.251,  2.751,  3.251,  3.751,\n",
       "        4.251,  4.751,  5.251,  5.751,  6.251,  6.751,  7.251,  7.751,\n",
       "        8.251,  8.751,  9.251,  9.751, 10.251, 10.751, 11.251, 11.751,\n",
       "       12.251, 12.751, 13.251, 13.751, 14.251, 14.751, 15.251, 15.751,\n",
       "       16.251, 16.751, 17.251, 17.751, 18.251, 18.751, 19.251, 19.751,\n",
       "       20.251, 20.751, 21.251, 21.751, 22.251, 22.751, 23.251, 23.751,\n",
       "       24.251, 24.751, 25.251, 25.751, 26.251, 26.751, 27.251, 27.751,\n",
       "       28.251, 28.751, 29.251, 29.751, 30.251, 30.751, 31.251, 31.751,\n",
       "       32.251, 32.751, 33.251, 33.751, 34.251, 34.751, 35.251, 35.751,\n",
       "       36.251, 36.751, 37.251, 37.751, 38.251, 38.751, 39.251, 39.751,\n",
       "       40.251, 40.751, 41.251, 41.751, 42.251, 42.751, 43.251, 43.751,\n",
       "       44.251, 44.751, 45.251])"
      ]
     },
     "execution_count": 282,
     "metadata": {},
     "output_type": "execute_result"
    }
   ],
   "source": [
    "bin_centers"
   ]
  },
  {
   "cell_type": "code",
   "execution_count": 283,
   "metadata": {
    "ExecuteTime": {
     "end_time": "2019-03-01T15:45:57.831326Z",
     "start_time": "2019-03-01T15:45:57.658509Z"
    }
   },
   "outputs": [
    {
     "data": {
      "text/plain": [
       "<matplotlib.collections.PathCollection at 0x19f2f6c5358>"
      ]
     },
     "execution_count": 283,
     "metadata": {},
     "output_type": "execute_result"
    },
    {
     "data": {
      "image/png": "[encoded data removed]",
      "text/plain": [
       "<Figure size 432x288 with 1 Axes>"
      ]
     },
     "metadata": {
      "needs_background": "light"
     },
     "output_type": "display_data"
    }
   ],
   "source": [
    "plt.scatter(x=bin_centers, y=sums)"
   ]
  },
  {
   "cell_type": "code",
   "execution_count": 284,
   "metadata": {
    "ExecuteTime": {
     "end_time": "2019-03-01T15:46:00.714623Z",
     "start_time": "2019-03-01T15:45:59.703756Z"
    }
   },
   "outputs": [
    {
     "data": {
      "image/png": "[encoded data removed]",
      "text/plain": [
       "<Figure size 936x720 with 1 Axes>"
      ]
     },
     "metadata": {
      "needs_background": "light"
     },
     "output_type": "display_data"
    }
   ],
   "source": [
    "_, ax = plt.subplots(figsize=(13,10))\n",
    "plt.bar(x=bin_centers, height=sums)\n",
    "plt.xlabel('Rain rate (mm/hr)')\n",
    "plt.ylabel('Total rainfall (mm)')\n",
    "plt.title('Spurs2 Total Rainfall')\n",
    "plt.xticks(np.arange(0,46,1));"
   ]
  },
  {
   "cell_type": "code",
   "execution_count": 285,
   "metadata": {
    "ExecuteTime": {
     "end_time": "2019-03-01T15:46:02.164144Z",
     "start_time": "2019-03-01T15:46:01.899932Z"
    }
   },
   "outputs": [
    {
     "data": {
      "image/png": "[encoded data removed]",
      "text/plain": [
       "<Figure size 432x288 with 1 Axes>"
      ]
     },
     "metadata": {
      "needs_background": "light"
     },
     "output_type": "display_data"
    }
   ],
   "source": [
    "fullsum = sums.cumsum()/sums.sum()\n",
    "halfsum = (sums.cumsum()/sums.sum())[:46]\n",
    "plt.plot(fullsum)\n",
    "plt.axhline(y=.5, color='r')\n",
    "plt.xlabel('Rain rate (mm/hr)')\n",
    "plt.ylabel('Total rainfall (mm)')\n",
    "plt.title('Spurs2 Cumulative Rainfall');"
   ]
  },
  {
   "cell_type": "code",
   "execution_count": 286,
   "metadata": {
    "ExecuteTime": {
     "end_time": "2019-03-01T15:46:07.238667Z",
     "start_time": "2019-03-01T15:46:07.085951Z"
    }
   },
   "outputs": [
    {
     "data": {
      "image/png": "[encoded data removed]",
      "text/plain": [
       "<Figure size 432x288 with 1 Axes>"
      ]
     },
     "metadata": {
      "needs_background": "light"
     },
     "output_type": "display_data"
    }
   ],
   "source": [
    "plt.plot(halfsum)\n",
    "plt.axhline(y=.5, color='r')\n",
    "plt.axvline(x=13.5, color='r')\n",
    "plt.xlabel('Rain rate (mm/hr) -- by 1/2 hr')\n",
    "plt.ylabel('Total rainfall (mm)')\n",
    "plt.title('Spurs2 Cumulative Rainfall');"
   ]
  },
  {
   "cell_type": "markdown",
   "metadata": {},
   "source": [
    "In this spurs2 set, we know there are far more rain events, especially larger ones. Thus, it is not surprising that 50% of our rainfall occurs at a much higher threshold than Spurs1, at about 6.75 mm/ hr"
   ]
  },
  {
   "cell_type": "code",
   "execution_count": 287,
   "metadata": {
    "ExecuteTime": {
     "end_time": "2019-03-01T15:47:33.727675Z",
     "start_time": "2019-03-01T15:47:33.397449Z"
    }
   },
   "outputs": [
    {
     "data": {
      "image/png": "[encoded data removed]",
      "text/plain": [
       "<Figure size 432x288 with 1 Axes>"
      ]
     },
     "metadata": {
      "needs_background": "light"
     },
     "output_type": "display_data"
    }
   ],
   "source": [
    "rain_lag2 = pd.DataFrame(rain2['precip'].reset_index().drop('new_time', axis=1))\n",
    "pct_rain_lag2 = pd.DataFrame(rain2['pct_change'].reset_index().drop('new_time', axis=1).shift(1).fillna(0))\n",
    "rainlagged = pd.concat([rain_lag2, pct_rain_lag2], axis=1, join='outer')\n",
    "#pct_lag\n",
    "plt.scatter(x=rain_lag2, y=pct_rain_lag2, label='Lagged')\n",
    "plt.scatter(x=rain2['precip'], y=rain2['pct_change'], label='Original Time')\n",
    "plt.xlabel('Rainfall (mm/hr)')\n",
    "plt.ylabel('Pct. Salinity Change')\n",
    "plt.title('Spurs2 Lagged Salinity Based on Rainfall')\n",
    "plt.legend()\n",
    "plt.show()"
   ]
  },
  {
   "cell_type": "code",
   "execution_count": 288,
   "metadata": {
    "ExecuteTime": {
     "end_time": "2019-03-01T15:49:44.219997Z",
     "start_time": "2019-03-01T15:49:43.616029Z"
    }
   },
   "outputs": [
    {
     "data": {
      "image/png": "[encoded data removed]",
      "text/plain": [
       "<Figure size 432x288 with 1 Axes>"
      ]
     },
     "metadata": {
      "needs_background": "light"
     },
     "output_type": "display_data"
    }
   ],
   "source": [
    "rainlag2 = pd.DataFrame(data2['precip'].reset_index().drop('new_time', axis=1).shift(1).fillna(0))\n",
    "pct_lag2 = pd.DataFrame(data2['pct_change'].reset_index().drop('new_time', axis=1))\n",
    "lagged2 = pd.concat([rainlag2, pct_lag2], axis=1, join='outer')\n",
    "#pct_lag\n",
    "plt.scatter(x=rainlag2, y=pct_lag2, label='Lagged')\n",
    "plt.scatter(x=data2['precip'], y=data2['pct_change'], label='Original Time')\n",
    "plt.xlabel('Rainfall (mm/hr)')\n",
    "plt.ylabel('Pct. Salinity Change')\n",
    "plt.title('Spurs2 Lagged Rain Based on Salinity')\n",
    "plt.show()"
   ]
  },
  {
   "cell_type": "code",
   "execution_count": 289,
   "metadata": {
    "ExecuteTime": {
     "end_time": "2019-03-01T15:53:00.179946Z",
     "start_time": "2019-03-01T15:53:00.160524Z"
    }
   },
   "outputs": [
    {
     "data": {
      "text/html": [
       "<div>\n",
       "<style scoped>\n",
       "    .dataframe tbody tr th:only-of-type {\n",
       "        vertical-align: middle;\n",
       "    }\n",
       "\n",
       "    .dataframe tbody tr th {\n",
       "        vertical-align: top;\n",
       "    }\n",
       "\n",
       "    .dataframe thead th {\n",
       "        text-align: right;\n",
       "    }\n",
       "</style>\n",
       "<table border=\"1\" class=\"dataframe\">\n",
       "  <thead>\n",
       "    <tr style=\"text-align: right;\">\n",
       "      <th></th>\n",
       "      <th>precip</th>\n",
       "      <th>pct_change</th>\n",
       "    </tr>\n",
       "  </thead>\n",
       "  <tbody>\n",
       "    <tr>\n",
       "      <th>precip</th>\n",
       "      <td>1.000000</td>\n",
       "      <td>-0.118177</td>\n",
       "    </tr>\n",
       "    <tr>\n",
       "      <th>pct_change</th>\n",
       "      <td>-0.118177</td>\n",
       "      <td>1.000000</td>\n",
       "    </tr>\n",
       "  </tbody>\n",
       "</table>\n",
       "</div>"
      ],
      "text/plain": [
       "              precip  pct_change\n",
       "precip      1.000000   -0.118177\n",
       "pct_change -0.118177    1.000000"
      ]
     },
     "execution_count": 289,
     "metadata": {},
     "output_type": "execute_result"
    }
   ],
   "source": [
    "## Lagged on Salinity Change-- did rain cause?\n",
    "rainlagged.corr()"
   ]
  },
  {
   "cell_type": "code",
   "execution_count": 290,
   "metadata": {
    "ExecuteTime": {
     "end_time": "2019-03-01T15:53:01.376666Z",
     "start_time": "2019-03-01T15:53:01.363686Z"
    }
   },
   "outputs": [
    {
     "data": {
      "text/html": [
       "<div>\n",
       "<style scoped>\n",
       "    .dataframe tbody tr th:only-of-type {\n",
       "        vertical-align: middle;\n",
       "    }\n",
       "\n",
       "    .dataframe tbody tr th {\n",
       "        vertical-align: top;\n",
       "    }\n",
       "\n",
       "    .dataframe thead th {\n",
       "        text-align: right;\n",
       "    }\n",
       "</style>\n",
       "<table border=\"1\" class=\"dataframe\">\n",
       "  <thead>\n",
       "    <tr style=\"text-align: right;\">\n",
       "      <th></th>\n",
       "      <th>precip</th>\n",
       "      <th>pct_change</th>\n",
       "    </tr>\n",
       "  </thead>\n",
       "  <tbody>\n",
       "    <tr>\n",
       "      <th>precip</th>\n",
       "      <td>1.000000</td>\n",
       "      <td>-0.216265</td>\n",
       "    </tr>\n",
       "    <tr>\n",
       "      <th>pct_change</th>\n",
       "      <td>-0.216265</td>\n",
       "      <td>1.000000</td>\n",
       "    </tr>\n",
       "  </tbody>\n",
       "</table>\n",
       "</div>"
      ],
      "text/plain": [
       "              precip  pct_change\n",
       "precip      1.000000   -0.216265\n",
       "pct_change -0.216265    1.000000"
      ]
     },
     "execution_count": 290,
     "metadata": {},
     "output_type": "execute_result"
    }
   ],
   "source": [
    "# Lagged on rainfall-- did a salinity change cause?\n",
    "lagged2.corr()"
   ]
  },
  {
   "cell_type": "code",
   "execution_count": 293,
   "metadata": {
    "ExecuteTime": {
     "end_time": "2019-03-01T15:54:14.912076Z",
     "start_time": "2019-03-01T15:54:14.888192Z"
    }
   },
   "outputs": [
    {
     "data": {
      "text/html": [
       "<div>\n",
       "<style scoped>\n",
       "    .dataframe tbody tr th:only-of-type {\n",
       "        vertical-align: middle;\n",
       "    }\n",
       "\n",
       "    .dataframe tbody tr th {\n",
       "        vertical-align: top;\n",
       "    }\n",
       "\n",
       "    .dataframe thead th {\n",
       "        text-align: right;\n",
       "    }\n",
       "</style>\n",
       "<table border=\"1\" class=\"dataframe\">\n",
       "  <thead>\n",
       "    <tr style=\"text-align: right;\">\n",
       "      <th></th>\n",
       "      <th>precip</th>\n",
       "      <th>pct_change</th>\n",
       "    </tr>\n",
       "  </thead>\n",
       "  <tbody>\n",
       "    <tr>\n",
       "      <th>precip</th>\n",
       "      <td>1.000000</td>\n",
       "      <td>-0.508551</td>\n",
       "    </tr>\n",
       "    <tr>\n",
       "      <th>pct_change</th>\n",
       "      <td>-0.508551</td>\n",
       "      <td>1.000000</td>\n",
       "    </tr>\n",
       "  </tbody>\n",
       "</table>\n",
       "</div>"
      ],
      "text/plain": [
       "              precip  pct_change\n",
       "precip      1.000000   -0.508551\n",
       "pct_change -0.508551    1.000000"
      ]
     },
     "execution_count": 293,
     "metadata": {},
     "output_type": "execute_result"
    }
   ],
   "source": [
    "## Same hour, when rain occurred\n",
    "rain2 = data2[data2['precip'] > 0]\n",
    "rain2[['precip', 'pct_change']].corr()"
   ]
  },
  {
   "cell_type": "code",
   "execution_count": 166,
   "metadata": {
    "ExecuteTime": {
     "end_time": "2019-02-28T12:56:21.145340Z",
     "start_time": "2019-02-28T12:56:21.114109Z"
    }
   },
   "outputs": [
    {
     "data": {
      "text/html": [
       "<div>\n",
       "<style scoped>\n",
       "    .dataframe tbody tr th:only-of-type {\n",
       "        vertical-align: middle;\n",
       "    }\n",
       "\n",
       "    .dataframe tbody tr th {\n",
       "        vertical-align: top;\n",
       "    }\n",
       "\n",
       "    .dataframe thead th {\n",
       "        text-align: right;\n",
       "    }\n",
       "</style>\n",
       "<table border=\"1\" class=\"dataframe\">\n",
       "  <thead>\n",
       "    <tr style=\"text-align: right;\">\n",
       "      <th></th>\n",
       "      <th>precip</th>\n",
       "      <th>pct_change</th>\n",
       "    </tr>\n",
       "  </thead>\n",
       "  <tbody>\n",
       "    <tr>\n",
       "      <th>precip</th>\n",
       "      <td>1.000000</td>\n",
       "      <td>-0.429775</td>\n",
       "    </tr>\n",
       "    <tr>\n",
       "      <th>pct_change</th>\n",
       "      <td>-0.429775</td>\n",
       "      <td>1.000000</td>\n",
       "    </tr>\n",
       "  </tbody>\n",
       "</table>\n",
       "</div>"
      ],
      "text/plain": [
       "              precip  pct_change\n",
       "precip      1.000000   -0.429775\n",
       "pct_change -0.429775    1.000000"
      ]
     },
     "execution_count": 166,
     "metadata": {},
     "output_type": "execute_result"
    }
   ],
   "source": [
    "# The unaltered data set\n",
    "data2[['precip', 'pct_change']].corr()"
   ]
  },
  {
   "cell_type": "markdown",
   "metadata": {},
   "source": [
    "So again, we can conclude that there is no greater effect of salinity on rainfall (and vice versa) than when any rain actually occurs, and within the same hour."
   ]
  },
  {
   "cell_type": "markdown",
   "metadata": {},
   "source": [
    "# Other Data Sets"
   ]
  },
  {
   "cell_type": "markdown",
   "metadata": {},
   "source": [
    "## NTAS Set"
   ]
  },
  {
   "cell_type": "code",
   "execution_count": 294,
   "metadata": {
    "ExecuteTime": {
     "end_time": "2019-03-01T15:56:58.353749Z",
     "start_time": "2019-03-01T15:56:58.253990Z"
    }
   },
   "outputs": [
    {
     "name": "stdout",
     "output_type": "stream",
     "text": [
      "365.16062089206594\n"
     ]
    },
    {
     "data": {
      "text/html": [
       "<div>\n",
       "<style scoped>\n",
       "    .dataframe tbody tr th:only-of-type {\n",
       "        vertical-align: middle;\n",
       "    }\n",
       "\n",
       "    .dataframe tbody tr th {\n",
       "        vertical-align: top;\n",
       "    }\n",
       "\n",
       "    .dataframe thead th {\n",
       "        text-align: right;\n",
       "    }\n",
       "</style>\n",
       "<table border=\"1\" class=\"dataframe\">\n",
       "  <thead>\n",
       "    <tr style=\"text-align: right;\">\n",
       "      <th></th>\n",
       "      <th>time</th>\n",
       "      <th>sss</th>\n",
       "      <th>sst</th>\n",
       "      <th>wind_spd</th>\n",
       "      <th>mld</th>\n",
       "      <th>precip</th>\n",
       "      <th>cum_precip6</th>\n",
       "      <th>cum_precip3</th>\n",
       "    </tr>\n",
       "    <tr>\n",
       "      <th>new_time</th>\n",
       "      <th></th>\n",
       "      <th></th>\n",
       "      <th></th>\n",
       "      <th></th>\n",
       "      <th></th>\n",
       "      <th></th>\n",
       "      <th></th>\n",
       "      <th></th>\n",
       "    </tr>\n",
       "  </thead>\n",
       "  <tbody>\n",
       "    <tr>\n",
       "      <th>2001-03-31 01:00:00.000028800</th>\n",
       "      <td>730941.041667</td>\n",
       "      <td>36.224918</td>\n",
       "      <td>25.322590</td>\n",
       "      <td>7.257993</td>\n",
       "      <td>42.888125</td>\n",
       "      <td>0.0</td>\n",
       "      <td>0.0</td>\n",
       "      <td>0.0</td>\n",
       "    </tr>\n",
       "    <tr>\n",
       "      <th>2001-03-31 01:59:59.999971200</th>\n",
       "      <td>730941.083333</td>\n",
       "      <td>36.225780</td>\n",
       "      <td>25.307935</td>\n",
       "      <td>7.517357</td>\n",
       "      <td>42.881045</td>\n",
       "      <td>0.0</td>\n",
       "      <td>0.0</td>\n",
       "      <td>0.0</td>\n",
       "    </tr>\n",
       "    <tr>\n",
       "      <th>2001-03-31 03:00:00.000000000</th>\n",
       "      <td>730941.125000</td>\n",
       "      <td>36.227262</td>\n",
       "      <td>25.307050</td>\n",
       "      <td>7.063114</td>\n",
       "      <td>42.873965</td>\n",
       "      <td>0.0</td>\n",
       "      <td>0.0</td>\n",
       "      <td>0.0</td>\n",
       "    </tr>\n",
       "    <tr>\n",
       "      <th>2001-03-31 04:00:00.000028800</th>\n",
       "      <td>730941.166667</td>\n",
       "      <td>36.227101</td>\n",
       "      <td>25.300624</td>\n",
       "      <td>6.655590</td>\n",
       "      <td>42.866885</td>\n",
       "      <td>0.0</td>\n",
       "      <td>0.0</td>\n",
       "      <td>0.0</td>\n",
       "    </tr>\n",
       "    <tr>\n",
       "      <th>2001-03-31 04:59:59.999971200</th>\n",
       "      <td>730941.208333</td>\n",
       "      <td>36.227896</td>\n",
       "      <td>25.291787</td>\n",
       "      <td>7.105266</td>\n",
       "      <td>42.859806</td>\n",
       "      <td>0.0</td>\n",
       "      <td>0.0</td>\n",
       "      <td>0.0</td>\n",
       "    </tr>\n",
       "  </tbody>\n",
       "</table>\n",
       "</div>"
      ],
      "text/plain": [
       "                                        time        sss        sst  wind_spd  \\\n",
       "new_time                                                                       \n",
       "2001-03-31 01:00:00.000028800  730941.041667  36.224918  25.322590  7.257993   \n",
       "2001-03-31 01:59:59.999971200  730941.083333  36.225780  25.307935  7.517357   \n",
       "2001-03-31 03:00:00.000000000  730941.125000  36.227262  25.307050  7.063114   \n",
       "2001-03-31 04:00:00.000028800  730941.166667  36.227101  25.300624  6.655590   \n",
       "2001-03-31 04:59:59.999971200  730941.208333  36.227896  25.291787  7.105266   \n",
       "\n",
       "                                     mld  precip  cum_precip6  cum_precip3  \n",
       "new_time                                                                    \n",
       "2001-03-31 01:00:00.000028800  42.888125     0.0          0.0          0.0  \n",
       "2001-03-31 01:59:59.999971200  42.881045     0.0          0.0          0.0  \n",
       "2001-03-31 03:00:00.000000000  42.873965     0.0          0.0          0.0  \n",
       "2001-03-31 04:00:00.000028800  42.866885     0.0          0.0          0.0  \n",
       "2001-03-31 04:59:59.999971200  42.859806     0.0          0.0          0.0  "
      ]
     },
     "execution_count": 294,
     "metadata": {},
     "output_type": "execute_result"
    }
   ],
   "source": [
    "ntas = pd.read_csv('ntas.csv')\n",
    "ntas = ntas.set_index('new_time')\n",
    "print(ntas['precip'].sum())\n",
    "ntas.head()"
   ]
  },
  {
   "cell_type": "code",
   "execution_count": 295,
   "metadata": {
    "ExecuteTime": {
     "end_time": "2019-03-01T15:56:59.577170Z",
     "start_time": "2019-03-01T15:56:59.396409Z"
    }
   },
   "outputs": [
    {
     "data": {
      "text/html": [
       "<div>\n",
       "<style scoped>\n",
       "    .dataframe tbody tr th:only-of-type {\n",
       "        vertical-align: middle;\n",
       "    }\n",
       "\n",
       "    .dataframe tbody tr th {\n",
       "        vertical-align: top;\n",
       "    }\n",
       "\n",
       "    .dataframe thead th {\n",
       "        text-align: right;\n",
       "    }\n",
       "</style>\n",
       "<table border=\"1\" class=\"dataframe\">\n",
       "  <thead>\n",
       "    <tr style=\"text-align: right;\">\n",
       "      <th></th>\n",
       "      <th>precip</th>\n",
       "      <th>cum_precip3</th>\n",
       "    </tr>\n",
       "  </thead>\n",
       "  <tbody>\n",
       "    <tr>\n",
       "      <th>count</th>\n",
       "      <td>8169.000000</td>\n",
       "      <td>8169.000000</td>\n",
       "    </tr>\n",
       "    <tr>\n",
       "      <th>mean</th>\n",
       "      <td>0.044701</td>\n",
       "      <td>0.134102</td>\n",
       "    </tr>\n",
       "    <tr>\n",
       "      <th>std</th>\n",
       "      <td>0.430652</td>\n",
       "      <td>0.872563</td>\n",
       "    </tr>\n",
       "    <tr>\n",
       "      <th>min</th>\n",
       "      <td>0.000000</td>\n",
       "      <td>0.000000</td>\n",
       "    </tr>\n",
       "    <tr>\n",
       "      <th>25%</th>\n",
       "      <td>0.000000</td>\n",
       "      <td>0.000000</td>\n",
       "    </tr>\n",
       "    <tr>\n",
       "      <th>50%</th>\n",
       "      <td>0.000000</td>\n",
       "      <td>0.000000</td>\n",
       "    </tr>\n",
       "    <tr>\n",
       "      <th>75%</th>\n",
       "      <td>0.000000</td>\n",
       "      <td>0.000000</td>\n",
       "    </tr>\n",
       "    <tr>\n",
       "      <th>max</th>\n",
       "      <td>15.928774</td>\n",
       "      <td>18.802948</td>\n",
       "    </tr>\n",
       "  </tbody>\n",
       "</table>\n",
       "</div>"
      ],
      "text/plain": [
       "            precip  cum_precip3\n",
       "count  8169.000000  8169.000000\n",
       "mean      0.044701     0.134102\n",
       "std       0.430652     0.872563\n",
       "min       0.000000     0.000000\n",
       "25%       0.000000     0.000000\n",
       "50%       0.000000     0.000000\n",
       "75%       0.000000     0.000000\n",
       "max      15.928774    18.802948"
      ]
     },
     "execution_count": 295,
     "metadata": {},
     "output_type": "execute_result"
    }
   ],
   "source": [
    "ntas[['precip', 'cum_precip3']].describe()"
   ]
  },
  {
   "cell_type": "code",
   "execution_count": 296,
   "metadata": {
    "ExecuteTime": {
     "end_time": "2019-03-01T15:57:00.759743Z",
     "start_time": "2019-03-01T15:57:00.746108Z"
    }
   },
   "outputs": [
    {
     "name": "stdout",
     "output_type": "stream",
     "text": [
      "Substantive rainfall: 15.928773879325464 mm over 1 events\n",
      "Marginal rainfall: 21.84174295095084 mm over 358 events\n",
      "Rainfall: 118.08693571022722 mm over 183 events\n"
     ]
    }
   ],
   "source": [
    "large = ntas[ntas['precip'] > 15]\n",
    "print('Substantive rainfall:', large['precip'].sum(), 'mm over', large['precip'].count(), 'events')\n",
    "small = ntas[(ntas['precip'] > 0) & (ntas['precip'] < .21)]\n",
    "print('Marginal rainfall:', small['precip'].sum(), 'mm over', small['precip'].count(), 'events')\n",
    "other = ntas[(ntas['precip'] > .21) & (ntas['precip'] <= 2)]\n",
    "print('Rainfall:', other['precip'].sum(), 'mm over', other['precip'].count(), 'events')"
   ]
  },
  {
   "cell_type": "code",
   "execution_count": 297,
   "metadata": {
    "ExecuteTime": {
     "end_time": "2019-03-01T15:57:02.289873Z",
     "start_time": "2019-03-01T15:57:01.879136Z"
    }
   },
   "outputs": [
    {
     "data": {
      "text/plain": [
       "<matplotlib.collections.PathCollection at 0x19f2e751630>"
      ]
     },
     "execution_count": 297,
     "metadata": {},
     "output_type": "execute_result"
    },
    {
     "data": {
      "image/png": "[encoded data removed]",
      "text/plain": [
       "<Figure size 432x288 with 1 Axes>"
      ]
     },
     "metadata": {
      "needs_background": "light"
     },
     "output_type": "display_data"
    }
   ],
   "source": [
    "plt.scatter(x=ntas['sss'], y=ntas['precip'])"
   ]
  },
  {
   "cell_type": "markdown",
   "metadata": {},
   "source": [
    "So here, there are very few instances of any rainfall over 8 mm in an hour."
   ]
  },
  {
   "cell_type": "code",
   "execution_count": 298,
   "metadata": {
    "ExecuteTime": {
     "end_time": "2019-03-01T15:57:05.575339Z",
     "start_time": "2019-03-01T15:57:04.815380Z"
    }
   },
   "outputs": [
    {
     "data": {
      "image/png": "[encoded data removed]",
      "text/plain": [
       "<Figure size 432x288 with 1 Axes>"
      ]
     },
     "metadata": {
      "needs_background": "light"
     },
     "output_type": "display_data"
    }
   ],
   "source": [
    "#plt.hist(data['precip'], bins=np.arange(0.01,0.2,0.01))\n",
    "#plt.xlim([0.01,0.21])\n",
    "(n, bins, patches) = plt.hist(ntas['precip'], bins=np.arange(0.001,16.251,0.25))\n",
    "plt.xlim([0.001,16.001])\n",
    "#plt.hist(data['precip'], bins=np.arange(15,35,3))\n",
    "plt.xscale('log')\n",
    "plt.show()\n",
    "bin_centers = bins[0:64] + 0.125\n",
    "#bin_centers\n",
    "#print(a)"
   ]
  },
  {
   "cell_type": "code",
   "execution_count": 299,
   "metadata": {
    "ExecuteTime": {
     "end_time": "2019-03-01T15:57:08.702721Z",
     "start_time": "2019-03-01T15:57:08.695629Z"
    }
   },
   "outputs": [
    {
     "data": {
      "text/plain": [
       "(64,)"
      ]
     },
     "execution_count": 299,
     "metadata": {},
     "output_type": "execute_result"
    }
   ],
   "source": [
    "n.shape"
   ]
  },
  {
   "cell_type": "code",
   "execution_count": 300,
   "metadata": {
    "ExecuteTime": {
     "end_time": "2019-03-01T15:57:10.076673Z",
     "start_time": "2019-03-01T15:57:09.827719Z"
    }
   },
   "outputs": [
    {
     "name": "stdout",
     "output_type": "stream",
     "text": [
      "[33.768 22.56  16.902 22.776 19.142 12.384  8.13  11.256  8.504 14.256\n",
      " 13.13   2.876  0.    10.128  7.252  3.876  4.126  4.376 18.504  9.752\n",
      "  0.     5.376  5.626 11.752  0.     6.376 13.252  0.    21.378 14.752\n",
      " 22.878  0.     0.     0.     0.     0.     0.     0.     0.     0.\n",
      "  0.     0.     0.     0.     0.     0.    11.626  0.     0.     0.\n",
      "  0.     0.     0.     0.     0.     0.     0.     0.     0.     0.\n",
      "  0.     0.     0.    15.876]\n"
     ]
    },
    {
     "data": {
      "text/plain": [
       "<matplotlib.collections.PathCollection at 0x19f2f13cb38>"
      ]
     },
     "execution_count": 300,
     "metadata": {},
     "output_type": "execute_result"
    },
    {
     "data": {
      "image/png": "[encoded data removed]",
      "text/plain": [
       "<Figure size 432x288 with 1 Axes>"
      ]
     },
     "metadata": {
      "needs_background": "light"
     },
     "output_type": "display_data"
    }
   ],
   "source": [
    "sums = n*bin_centers\n",
    "print(sums)\n",
    "plt.scatter(x=bin_centers, y=sums)"
   ]
  },
  {
   "cell_type": "markdown",
   "metadata": {},
   "source": [
    "So here, there are very few large values that occur just once."
   ]
  },
  {
   "cell_type": "code",
   "execution_count": 301,
   "metadata": {
    "ExecuteTime": {
     "end_time": "2019-03-01T15:57:12.975658Z",
     "start_time": "2019-03-01T15:57:12.961369Z"
    }
   },
   "outputs": [
    {
     "data": {
      "text/plain": [
       "array([ 33.768,  56.328,  73.23 ,  96.006, 115.148, 127.532, 135.662,\n",
       "       146.918, 155.422, 169.678, 182.808, 185.684, 185.684, 195.812,\n",
       "       203.064, 206.94 , 211.066, 215.442, 233.946, 243.698, 243.698,\n",
       "       249.074, 254.7  , 266.452, 266.452, 272.828, 286.08 , 286.08 ,\n",
       "       307.458, 322.21 , 345.088, 345.088, 345.088, 345.088, 345.088,\n",
       "       345.088, 345.088, 345.088, 345.088, 345.088, 345.088, 345.088,\n",
       "       345.088, 345.088, 345.088, 345.088, 356.714, 356.714, 356.714,\n",
       "       356.714, 356.714, 356.714, 356.714, 356.714, 356.714, 356.714,\n",
       "       356.714, 356.714, 356.714, 356.714, 356.714, 356.714, 356.714,\n",
       "       372.59 ])"
      ]
     },
     "execution_count": 301,
     "metadata": {},
     "output_type": "execute_result"
    }
   ],
   "source": [
    "sums.cumsum()"
   ]
  },
  {
   "cell_type": "markdown",
   "metadata": {},
   "source": [
    "And again, we see that this is a valid reflection of the actual summed rainfall for the NTAS buoy"
   ]
  },
  {
   "cell_type": "code",
   "execution_count": 302,
   "metadata": {
    "ExecuteTime": {
     "end_time": "2019-03-01T15:57:14.707107Z",
     "start_time": "2019-03-01T15:57:14.141588Z"
    }
   },
   "outputs": [
    {
     "data": {
      "image/png": "[encoded data removed]",
      "text/plain": [
       "<Figure size 792x576 with 1 Axes>"
      ]
     },
     "metadata": {
      "needs_background": "light"
     },
     "output_type": "display_data"
    }
   ],
   "source": [
    "_, ax = plt.subplots(figsize=(11,8))\n",
    "plt.bar(x=bin_centers, height=sums)\n",
    "plt.xlabel('Rain rate (mm/hr)')\n",
    "plt.ylabel('Total rainfall (mm)')\n",
    "plt.title('NTAS Total Rainfall')\n",
    "plt.xticks(np.arange(0,17,1));"
   ]
  },
  {
   "cell_type": "code",
   "execution_count": 303,
   "metadata": {
    "ExecuteTime": {
     "end_time": "2019-03-01T15:57:17.193078Z",
     "start_time": "2019-03-01T15:57:16.947837Z"
    }
   },
   "outputs": [
    {
     "data": {
      "image/png": "[encoded data removed]",
      "text/plain": [
       "<Figure size 432x288 with 1 Axes>"
      ]
     },
     "metadata": {
      "needs_background": "light"
     },
     "output_type": "display_data"
    }
   ],
   "source": [
    "fullsum = sums.cumsum()/sums.sum()\n",
    "halfsum = (sums.cumsum()/sums.sum())[:33]\n",
    "plt.plot(fullsum)\n",
    "plt.axhline(y=.5, color='r')\n",
    "plt.xlabel('Rain rate (mm/hr)')\n",
    "plt.ylabel('Total rainfall (mm)')\n",
    "plt.title('NTAS Cumulative Rainfall');"
   ]
  },
  {
   "cell_type": "code",
   "execution_count": 304,
   "metadata": {
    "ExecuteTime": {
     "end_time": "2019-03-01T15:57:20.726361Z",
     "start_time": "2019-03-01T15:57:20.509667Z"
    }
   },
   "outputs": [
    {
     "data": {
      "image/png": "[encoded data removed]",
      "text/plain": [
       "<Figure size 432x288 with 1 Axes>"
      ]
     },
     "metadata": {
      "needs_background": "light"
     },
     "output_type": "display_data"
    }
   ],
   "source": [
    "plt.plot(halfsum)\n",
    "plt.axhline(y=.5, color='r')\n",
    "plt.axvline(x=11, color='r')\n",
    "plt.xlabel('Rain rate (mm/hr) -- 1/2 hr')\n",
    "plt.ylabel('Total rainfall (mm)')\n",
    "plt.title('NTAS Cumulative Rainfall');"
   ]
  },
  {
   "cell_type": "markdown",
   "metadata": {},
   "source": [
    "In this set, about half of all rainfall occurs below 5.5 millimeters, which we could probably have assumed by the small amount of larger rain events."
   ]
  },
  {
   "cell_type": "code",
   "execution_count": 305,
   "metadata": {
    "ExecuteTime": {
     "end_time": "2019-03-01T15:57:23.242850Z",
     "start_time": "2019-03-01T15:57:23.183093Z"
    }
   },
   "outputs": [],
   "source": [
    "ntas['pct_change'] = ntas['sss'].pct_change().fillna(0)"
   ]
  },
  {
   "cell_type": "code",
   "execution_count": 306,
   "metadata": {
    "ExecuteTime": {
     "end_time": "2019-03-01T15:58:38.973804Z",
     "start_time": "2019-03-01T15:58:38.194466Z"
    }
   },
   "outputs": [
    {
     "data": {
      "image/png": "[encoded data removed]",
      "text/plain": [
       "<Figure size 432x288 with 1 Axes>"
      ]
     },
     "metadata": {
      "needs_background": "light"
     },
     "output_type": "display_data"
    }
   ],
   "source": [
    "ntaslag2 = pd.DataFrame(ntas['precip'].reset_index().drop('new_time', axis=1))\n",
    "npct_lag2 = pd.DataFrame(ntas['pct_change'].reset_index().drop('new_time', axis=1).shift(1).fillna(0))\n",
    "nlag1 = pd.concat([ntaslag2, npct_lag2], axis=1, join='outer')\n",
    "#pct_lag\n",
    "plt.scatter(x=ntaslag2, y=npct_lag2, label='Lagged')\n",
    "plt.scatter(x=ntas['precip'], y=ntas['pct_change'], label='Original Time')\n",
    "plt.xlabel('Rainfall (mm/hr)')\n",
    "plt.ylabel('Pct. Salinity Change')\n",
    "plt.title('NTAS Lagged Salinity Based on Rain')\n",
    "plt.legend()\n",
    "plt.show()"
   ]
  },
  {
   "cell_type": "code",
   "execution_count": 176,
   "metadata": {
    "ExecuteTime": {
     "end_time": "2019-02-28T13:05:06.917436Z",
     "start_time": "2019-02-28T13:05:06.554529Z"
    }
   },
   "outputs": [
    {
     "data": {
      "image/png": "[encoded data removed]",
      "text/plain": [
       "<Figure size 432x288 with 1 Axes>"
      ]
     },
     "metadata": {
      "needs_background": "light"
     },
     "output_type": "display_data"
    }
   ],
   "source": [
    "ntaslag2 = pd.DataFrame(ntas['precip'].reset_index().drop('new_time', axis=1).shift(1).fillna(0))\n",
    "npct_lag2 = pd.DataFrame(ntas['pct_change'].reset_index().drop('new_time', axis=1))\n",
    "nlag2 = pd.concat([ntaslag2, npct_lag2], axis=1, join='outer')\n",
    "#pct_lag\n",
    "plt.scatter(x=ntaslag2, y=npct_lag2)\n",
    "plt.scatter(x=ntas['precip'], y=ntas['pct_change'])\n",
    "plt.show()"
   ]
  },
  {
   "cell_type": "code",
   "execution_count": 172,
   "metadata": {
    "ExecuteTime": {
     "end_time": "2019-02-28T13:04:10.017507Z",
     "start_time": "2019-02-28T13:04:10.001871Z"
    }
   },
   "outputs": [
    {
     "data": {
      "text/html": [
       "<div>\n",
       "<style scoped>\n",
       "    .dataframe tbody tr th:only-of-type {\n",
       "        vertical-align: middle;\n",
       "    }\n",
       "\n",
       "    .dataframe tbody tr th {\n",
       "        vertical-align: top;\n",
       "    }\n",
       "\n",
       "    .dataframe thead th {\n",
       "        text-align: right;\n",
       "    }\n",
       "</style>\n",
       "<table border=\"1\" class=\"dataframe\">\n",
       "  <thead>\n",
       "    <tr style=\"text-align: right;\">\n",
       "      <th></th>\n",
       "      <th>precip</th>\n",
       "      <th>pct_change</th>\n",
       "    </tr>\n",
       "  </thead>\n",
       "  <tbody>\n",
       "    <tr>\n",
       "      <th>precip</th>\n",
       "      <td>1.000000</td>\n",
       "      <td>-0.037957</td>\n",
       "    </tr>\n",
       "    <tr>\n",
       "      <th>pct_change</th>\n",
       "      <td>-0.037957</td>\n",
       "      <td>1.000000</td>\n",
       "    </tr>\n",
       "  </tbody>\n",
       "</table>\n",
       "</div>"
      ],
      "text/plain": [
       "              precip  pct_change\n",
       "precip      1.000000   -0.037957\n",
       "pct_change -0.037957    1.000000"
      ]
     },
     "execution_count": 172,
     "metadata": {},
     "output_type": "execute_result"
    }
   ],
   "source": [
    "## Correlation between lagged salinity and rainfall-- does salinity change cause rainfall here?\n",
    "nlag1.corr()"
   ]
  },
  {
   "cell_type": "code",
   "execution_count": 177,
   "metadata": {
    "ExecuteTime": {
     "end_time": "2019-02-28T13:05:21.863890Z",
     "start_time": "2019-02-28T13:05:21.832670Z"
    }
   },
   "outputs": [
    {
     "data": {
      "text/html": [
       "<div>\n",
       "<style scoped>\n",
       "    .dataframe tbody tr th:only-of-type {\n",
       "        vertical-align: middle;\n",
       "    }\n",
       "\n",
       "    .dataframe tbody tr th {\n",
       "        vertical-align: top;\n",
       "    }\n",
       "\n",
       "    .dataframe thead th {\n",
       "        text-align: right;\n",
       "    }\n",
       "</style>\n",
       "<table border=\"1\" class=\"dataframe\">\n",
       "  <thead>\n",
       "    <tr style=\"text-align: right;\">\n",
       "      <th></th>\n",
       "      <th>precip</th>\n",
       "      <th>pct_change</th>\n",
       "    </tr>\n",
       "  </thead>\n",
       "  <tbody>\n",
       "    <tr>\n",
       "      <th>precip</th>\n",
       "      <td>1.000000</td>\n",
       "      <td>-0.094261</td>\n",
       "    </tr>\n",
       "    <tr>\n",
       "      <th>pct_change</th>\n",
       "      <td>-0.094261</td>\n",
       "      <td>1.000000</td>\n",
       "    </tr>\n",
       "  </tbody>\n",
       "</table>\n",
       "</div>"
      ],
      "text/plain": [
       "              precip  pct_change\n",
       "precip      1.000000   -0.094261\n",
       "pct_change -0.094261    1.000000"
      ]
     },
     "execution_count": 177,
     "metadata": {},
     "output_type": "execute_result"
    }
   ],
   "source": [
    "nlag2.corr()"
   ]
  },
  {
   "cell_type": "code",
   "execution_count": 112,
   "metadata": {
    "ExecuteTime": {
     "end_time": "2019-02-28T03:14:54.257517Z",
     "start_time": "2019-02-28T03:14:54.241861Z"
    },
    "scrolled": false
   },
   "outputs": [
    {
     "data": {
      "text/html": [
       "<div>\n",
       "<style scoped>\n",
       "    .dataframe tbody tr th:only-of-type {\n",
       "        vertical-align: middle;\n",
       "    }\n",
       "\n",
       "    .dataframe tbody tr th {\n",
       "        vertical-align: top;\n",
       "    }\n",
       "\n",
       "    .dataframe thead th {\n",
       "        text-align: right;\n",
       "    }\n",
       "</style>\n",
       "<table border=\"1\" class=\"dataframe\">\n",
       "  <thead>\n",
       "    <tr style=\"text-align: right;\">\n",
       "      <th></th>\n",
       "      <th>precip</th>\n",
       "      <th>pct_change</th>\n",
       "    </tr>\n",
       "  </thead>\n",
       "  <tbody>\n",
       "    <tr>\n",
       "      <th>precip</th>\n",
       "      <td>1.000000</td>\n",
       "      <td>-0.558027</td>\n",
       "    </tr>\n",
       "    <tr>\n",
       "      <th>pct_change</th>\n",
       "      <td>-0.558027</td>\n",
       "      <td>1.000000</td>\n",
       "    </tr>\n",
       "  </tbody>\n",
       "</table>\n",
       "</div>"
      ],
      "text/plain": [
       "              precip  pct_change\n",
       "precip      1.000000   -0.558027\n",
       "pct_change -0.558027    1.000000"
      ]
     },
     "execution_count": 112,
     "metadata": {},
     "output_type": "execute_result"
    }
   ],
   "source": [
    "## For just rain events, at \n",
    "ntas_rain[['precip', 'pct_change']].corr()"
   ]
  },
  {
   "cell_type": "code",
   "execution_count": 167,
   "metadata": {
    "ExecuteTime": {
     "end_time": "2019-02-28T12:59:59.209954Z",
     "start_time": "2019-02-28T12:59:59.190324Z"
    }
   },
   "outputs": [
    {
     "data": {
      "text/html": [
       "<div>\n",
       "<style scoped>\n",
       "    .dataframe tbody tr th:only-of-type {\n",
       "        vertical-align: middle;\n",
       "    }\n",
       "\n",
       "    .dataframe tbody tr th {\n",
       "        vertical-align: top;\n",
       "    }\n",
       "\n",
       "    .dataframe thead th {\n",
       "        text-align: right;\n",
       "    }\n",
       "</style>\n",
       "<table border=\"1\" class=\"dataframe\">\n",
       "  <thead>\n",
       "    <tr style=\"text-align: right;\">\n",
       "      <th></th>\n",
       "      <th>precip</th>\n",
       "      <th>pct_change</th>\n",
       "    </tr>\n",
       "  </thead>\n",
       "  <tbody>\n",
       "    <tr>\n",
       "      <th>precip</th>\n",
       "      <td>1.000000</td>\n",
       "      <td>-0.223184</td>\n",
       "    </tr>\n",
       "    <tr>\n",
       "      <th>pct_change</th>\n",
       "      <td>-0.223184</td>\n",
       "      <td>1.000000</td>\n",
       "    </tr>\n",
       "  </tbody>\n",
       "</table>\n",
       "</div>"
      ],
      "text/plain": [
       "              precip  pct_change\n",
       "precip      1.000000   -0.223184\n",
       "pct_change -0.223184    1.000000"
      ]
     },
     "execution_count": 167,
     "metadata": {},
     "output_type": "execute_result"
    }
   ],
   "source": [
    "ntas[['precip', 'pct_change']].corr()"
   ]
  },
  {
   "cell_type": "markdown",
   "metadata": {},
   "source": [
    "This is an interesting set of correlations, as once again the strongest is when rain occurs and within the same hour. However, it is remarkable to note how low the correlation with a lagged time frame is here, with -0.04 and -0.09 lagged on salinity and rain, respectively."
   ]
  },
  {
   "cell_type": "markdown",
   "metadata": {},
   "source": [
    "## WHOTS Set"
   ]
  },
  {
   "cell_type": "code",
   "execution_count": 246,
   "metadata": {
    "ExecuteTime": {
     "end_time": "2019-03-01T15:18:54.078450Z",
     "start_time": "2019-03-01T15:18:52.910955Z"
    }
   },
   "outputs": [
    {
     "name": "stdout",
     "output_type": "stream",
     "text": [
      "899.9853937686307\n"
     ]
    },
    {
     "data": {
      "text/html": [
       "<div>\n",
       "<style scoped>\n",
       "    .dataframe tbody tr th:only-of-type {\n",
       "        vertical-align: middle;\n",
       "    }\n",
       "\n",
       "    .dataframe tbody tr th {\n",
       "        vertical-align: top;\n",
       "    }\n",
       "\n",
       "    .dataframe thead th {\n",
       "        text-align: right;\n",
       "    }\n",
       "</style>\n",
       "<table border=\"1\" class=\"dataframe\">\n",
       "  <thead>\n",
       "    <tr style=\"text-align: right;\">\n",
       "      <th></th>\n",
       "      <th>time</th>\n",
       "      <th>sss</th>\n",
       "      <th>sst</th>\n",
       "      <th>wind_spd</th>\n",
       "      <th>mld</th>\n",
       "      <th>precip</th>\n",
       "      <th>cum_precip6</th>\n",
       "      <th>cum_precip3</th>\n",
       "    </tr>\n",
       "    <tr>\n",
       "      <th>new_time</th>\n",
       "      <th></th>\n",
       "      <th></th>\n",
       "      <th></th>\n",
       "      <th></th>\n",
       "      <th></th>\n",
       "      <th></th>\n",
       "      <th></th>\n",
       "      <th></th>\n",
       "    </tr>\n",
       "  </thead>\n",
       "  <tbody>\n",
       "    <tr>\n",
       "      <th>2004-08-13 04:00:00.000028800</th>\n",
       "      <td>732172.166667</td>\n",
       "      <td>34.825873</td>\n",
       "      <td>26.888086</td>\n",
       "      <td>7.918918</td>\n",
       "      <td>38.233802</td>\n",
       "      <td>0.000000</td>\n",
       "      <td>0.0</td>\n",
       "      <td>0.000000</td>\n",
       "    </tr>\n",
       "    <tr>\n",
       "      <th>2004-08-13 04:59:59.999971200</th>\n",
       "      <td>732172.208333</td>\n",
       "      <td>34.824762</td>\n",
       "      <td>26.865158</td>\n",
       "      <td>7.506199</td>\n",
       "      <td>38.236220</td>\n",
       "      <td>0.000000</td>\n",
       "      <td>0.0</td>\n",
       "      <td>0.000000</td>\n",
       "    </tr>\n",
       "    <tr>\n",
       "      <th>2004-08-13 06:00:00.000000000</th>\n",
       "      <td>732172.250000</td>\n",
       "      <td>34.825625</td>\n",
       "      <td>26.856876</td>\n",
       "      <td>8.299770</td>\n",
       "      <td>38.238638</td>\n",
       "      <td>0.000000</td>\n",
       "      <td>0.0</td>\n",
       "      <td>0.000000</td>\n",
       "    </tr>\n",
       "    <tr>\n",
       "      <th>2004-08-13 07:00:00.000028800</th>\n",
       "      <td>732172.291667</td>\n",
       "      <td>34.826258</td>\n",
       "      <td>26.842372</td>\n",
       "      <td>8.377580</td>\n",
       "      <td>38.241056</td>\n",
       "      <td>0.000000</td>\n",
       "      <td>0.0</td>\n",
       "      <td>0.000000</td>\n",
       "    </tr>\n",
       "    <tr>\n",
       "      <th>2004-08-13 07:59:59.999971200</th>\n",
       "      <td>732172.333333</td>\n",
       "      <td>34.825453</td>\n",
       "      <td>26.828082</td>\n",
       "      <td>8.759666</td>\n",
       "      <td>38.243474</td>\n",
       "      <td>0.350616</td>\n",
       "      <td>0.0</td>\n",
       "      <td>0.350616</td>\n",
       "    </tr>\n",
       "  </tbody>\n",
       "</table>\n",
       "</div>"
      ],
      "text/plain": [
       "                                        time        sss        sst  wind_spd  \\\n",
       "new_time                                                                       \n",
       "2004-08-13 04:00:00.000028800  732172.166667  34.825873  26.888086  7.918918   \n",
       "2004-08-13 04:59:59.999971200  732172.208333  34.824762  26.865158  7.506199   \n",
       "2004-08-13 06:00:00.000000000  732172.250000  34.825625  26.856876  8.299770   \n",
       "2004-08-13 07:00:00.000028800  732172.291667  34.826258  26.842372  8.377580   \n",
       "2004-08-13 07:59:59.999971200  732172.333333  34.825453  26.828082  8.759666   \n",
       "\n",
       "                                     mld    precip  cum_precip6  cum_precip3  \n",
       "new_time                                                                      \n",
       "2004-08-13 04:00:00.000028800  38.233802  0.000000          0.0     0.000000  \n",
       "2004-08-13 04:59:59.999971200  38.236220  0.000000          0.0     0.000000  \n",
       "2004-08-13 06:00:00.000000000  38.238638  0.000000          0.0     0.000000  \n",
       "2004-08-13 07:00:00.000028800  38.241056  0.000000          0.0     0.000000  \n",
       "2004-08-13 07:59:59.999971200  38.243474  0.350616          0.0     0.350616  "
      ]
     },
     "execution_count": 246,
     "metadata": {},
     "output_type": "execute_result"
    }
   ],
   "source": [
    "whots = pd.read_csv('whots.csv')\n",
    "whots = whots.set_index('new_time')\n",
    "print(whots['precip'].sum())\n",
    "whots.head()"
   ]
  },
  {
   "cell_type": "code",
   "execution_count": 247,
   "metadata": {
    "ExecuteTime": {
     "end_time": "2019-03-01T15:18:54.462640Z",
     "start_time": "2019-03-01T15:18:54.088312Z"
    }
   },
   "outputs": [
    {
     "data": {
      "text/plain": [
       "count    8317.000000\n",
       "mean        0.108210\n",
       "std         1.288135\n",
       "min         0.000000\n",
       "25%         0.000000\n",
       "50%         0.000000\n",
       "75%         0.000000\n",
       "max        58.250181\n",
       "Name: precip, dtype: float64"
      ]
     },
     "execution_count": 247,
     "metadata": {},
     "output_type": "execute_result"
    }
   ],
   "source": [
    "whots['precip'].describe()"
   ]
  },
  {
   "cell_type": "code",
   "execution_count": 248,
   "metadata": {
    "ExecuteTime": {
     "end_time": "2019-03-01T15:18:58.027386Z",
     "start_time": "2019-03-01T15:18:57.914584Z"
    }
   },
   "outputs": [
    {
     "name": "stdout",
     "output_type": "stream",
     "text": [
      "Substantive rainfall: 329.8583652542303 mm over 12 events\n",
      "Marginal rainfall: 30.75673068121871 mm over 324 events\n",
      "Normal rainfall: 188.21578865681337 mm over 307 events\n"
     ]
    }
   ],
   "source": [
    "large = whots[whots['precip'] > 15]\n",
    "print('Substantive rainfall:', large['precip'].sum(), 'mm over' ,large['precip'].count(), 'events')\n",
    "small = whots[(whots['precip'] > 0) & (whots['precip'] < .21)]\n",
    "print('Marginal rainfall:', small['precip'].sum(), 'mm over', small['precip'].count(), 'events')\n",
    "other = whots[(whots['precip'] > .21) & (whots['precip'] < 2)]\n",
    "print('Normal rainfall:', other['precip'].sum(), 'mm over', other['precip'].count(), 'events')\n"
   ]
  },
  {
   "cell_type": "markdown",
   "metadata": {},
   "source": [
    "So here we see that there are a whopping 12 rain events greater than 15 mm per hour, and that they make up almost 330 millimeters. This is a giant gap compared to the very small rain events."
   ]
  },
  {
   "cell_type": "code",
   "execution_count": 249,
   "metadata": {
    "ExecuteTime": {
     "end_time": "2019-03-01T15:19:00.210240Z",
     "start_time": "2019-03-01T15:18:59.113407Z"
    }
   },
   "outputs": [
    {
     "data": {
      "text/plain": [
       "<matplotlib.collections.PathCollection at 0x19f2be992e8>"
      ]
     },
     "execution_count": 249,
     "metadata": {},
     "output_type": "execute_result"
    },
    {
     "data": {
      "image/png": "[encoded data removed]",
      "text/plain": [
       "<Figure size 432x288 with 1 Axes>"
      ]
     },
     "metadata": {
      "needs_background": "light"
     },
     "output_type": "display_data"
    }
   ],
   "source": [
    "plt.scatter(x=whots['sss'], y=whots['precip'])"
   ]
  },
  {
   "cell_type": "markdown",
   "metadata": {},
   "source": [
    "This is an interesting plot; we see that there is not much variability in salinity for most of the set, but where there is noticeable difference there is always a rain event."
   ]
  },
  {
   "cell_type": "code",
   "execution_count": 250,
   "metadata": {
    "ExecuteTime": {
     "end_time": "2019-03-01T15:19:04.125042Z",
     "start_time": "2019-03-01T15:19:01.364143Z"
    }
   },
   "outputs": [
    {
     "data": {
      "image/png": "[encoded data removed]",
      "text/plain": [
       "<Figure size 432x288 with 1 Axes>"
      ]
     },
     "metadata": {
      "needs_background": "light"
     },
     "output_type": "display_data"
    }
   ],
   "source": [
    "#plt.hist(data['precip'], bins=np.arange(0.01,0.2,0.01))\n",
    "#plt.xlim([0.01,0.21])\n",
    "(n, bins, patches) = plt.hist(whots['precip'], bins=np.arange(0.001,59.21,0.6))\n",
    "plt.xlim([0.001,58.001])\n",
    "#plt.hist(data['precip'], bins=np.arange(15,35,3))\n",
    "plt.xscale('log')\n",
    "plt.show()\n",
    "bin_centers = bins[0:98] + 0.3\n",
    "#bin_centers\n",
    "#print(a)"
   ]
  },
  {
   "cell_type": "code",
   "execution_count": 251,
   "metadata": {
    "ExecuteTime": {
     "end_time": "2019-03-01T15:19:10.192924Z",
     "start_time": "2019-03-01T15:19:09.766164Z"
    }
   },
   "outputs": [
    {
     "name": "stdout",
     "output_type": "stream",
     "text": [
      "[156.219  64.872  49.533  33.616  43.216  13.204  15.604  13.503  35.707\n",
      "  17.103   0.      0.     30.004  32.404   0.     18.602  49.505  10.501\n",
      "  11.101   0.      0.      0.      0.     14.101  29.402  15.301  15.901\n",
      "   0.     17.101  17.701  18.301   0.      0.     20.101   0.     21.301\n",
      "   0.      0.      0.      0.      0.      0.      0.      0.      0.\n",
      "   0.      0.      0.      0.      0.     30.301   0.      0.      0.\n",
      "  32.701   0.      0.      0.      0.      0.      0.      0.     37.501\n",
      "   0.      0.      0.      0.      0.      0.      0.      0.      0.\n",
      "   0.      0.      0.      0.     45.901   0.      0.      0.      0.\n",
      "   0.      0.      0.      0.      0.      0.      0.      0.      0.\n",
      "   0.      0.      0.      0.      0.      0.      0.     58.501]\n"
     ]
    },
    {
     "data": {
      "text/plain": [
       "<matplotlib.collections.PathCollection at 0x19f2be29e10>"
      ]
     },
     "execution_count": 251,
     "metadata": {},
     "output_type": "execute_result"
    },
    {
     "data": {
      "image/png": "[encoded data removed]",
      "text/plain": [
       "<Figure size 432x288 with 1 Axes>"
      ]
     },
     "metadata": {
      "needs_background": "light"
     },
     "output_type": "display_data"
    }
   ],
   "source": [
    "sums = n*bin_centers\n",
    "print(sums)\n",
    "plt.scatter(x=bin_centers, y=sums)"
   ]
  },
  {
   "cell_type": "code",
   "execution_count": 252,
   "metadata": {
    "ExecuteTime": {
     "end_time": "2019-03-01T15:19:12.592594Z",
     "start_time": "2019-03-01T15:19:12.507866Z"
    }
   },
   "outputs": [
    {
     "data": {
      "text/plain": [
       "array([156.219, 221.091, 270.624, 304.24 , 347.456, 360.66 , 376.264,\n",
       "       389.767, 425.474, 442.577, 442.577, 442.577, 472.581, 504.985,\n",
       "       504.985, 523.587, 573.092, 583.593, 594.694, 594.694, 594.694,\n",
       "       594.694, 594.694, 608.795, 638.197, 653.498, 669.399, 669.399,\n",
       "       686.5  , 704.201, 722.502, 722.502, 722.502, 742.603, 742.603,\n",
       "       763.904, 763.904, 763.904, 763.904, 763.904, 763.904, 763.904,\n",
       "       763.904, 763.904, 763.904, 763.904, 763.904, 763.904, 763.904,\n",
       "       763.904, 794.205, 794.205, 794.205, 794.205, 826.906, 826.906,\n",
       "       826.906, 826.906, 826.906, 826.906, 826.906, 826.906, 864.407,\n",
       "       864.407, 864.407, 864.407, 864.407, 864.407, 864.407, 864.407,\n",
       "       864.407, 864.407, 864.407, 864.407, 864.407, 864.407, 910.308,\n",
       "       910.308, 910.308, 910.308, 910.308, 910.308, 910.308, 910.308,\n",
       "       910.308, 910.308, 910.308, 910.308, 910.308, 910.308, 910.308,\n",
       "       910.308, 910.308, 910.308, 910.308, 910.308, 910.308, 968.809])"
      ]
     },
     "execution_count": 252,
     "metadata": {},
     "output_type": "execute_result"
    }
   ],
   "source": [
    "sums.cumsum()"
   ]
  },
  {
   "cell_type": "code",
   "execution_count": 253,
   "metadata": {
    "ExecuteTime": {
     "end_time": "2019-03-01T15:19:17.708868Z",
     "start_time": "2019-03-01T15:19:15.394520Z"
    }
   },
   "outputs": [
    {
     "data": {
      "image/png": "[encoded data removed]",
      "text/plain": [
       "<Figure size 936x720 with 1 Axes>"
      ]
     },
     "metadata": {
      "needs_background": "light"
     },
     "output_type": "display_data"
    }
   ],
   "source": [
    "_, ax = plt.subplots(figsize=(13,10))\n",
    "plt.bar(x=bin_centers, height=sums)\n",
    "plt.xlabel('Rain rate (mm/hr)')\n",
    "plt.ylabel('Total rainfall (mm)')\n",
    "plt.title('WHOTS Total Rainfall')\n",
    "plt.xticks(np.arange(0,60,1));"
   ]
  },
  {
   "cell_type": "code",
   "execution_count": 254,
   "metadata": {
    "ExecuteTime": {
     "end_time": "2019-03-01T15:19:19.381466Z",
     "start_time": "2019-03-01T15:19:18.906073Z"
    }
   },
   "outputs": [
    {
     "data": {
      "image/png": "[encoded data removed]",
      "text/plain": [
       "<Figure size 432x288 with 1 Axes>"
      ]
     },
     "metadata": {
      "needs_background": "light"
     },
     "output_type": "display_data"
    }
   ],
   "source": [
    "fullsum = sums.cumsum()/sums.sum()\n",
    "halfsum = (sums.cumsum()/sums.sum())[:50]\n",
    "plt.plot(fullsum)\n",
    "plt.axhline(y=.5, color='r')\n",
    "plt.xlabel('Rain rate (mm/hr)')\n",
    "plt.ylabel('Total rainfall (mm)')\n",
    "plt.title('WHOTS Cumulative Rainfall');"
   ]
  },
  {
   "cell_type": "code",
   "execution_count": 255,
   "metadata": {
    "ExecuteTime": {
     "end_time": "2019-03-01T15:19:21.558451Z",
     "start_time": "2019-03-01T15:19:21.097334Z"
    }
   },
   "outputs": [
    {
     "data": {
      "image/png": "[encoded data removed]",
      "text/plain": [
       "<Figure size 432x288 with 1 Axes>"
      ]
     },
     "metadata": {
      "needs_background": "light"
     },
     "output_type": "display_data"
    }
   ],
   "source": [
    "plt.plot(halfsum)\n",
    "plt.axhline(y=.5, color='r')\n",
    "plt.axvline(x=12.3, color='r')\n",
    "plt.xlabel('Rain rate (mm/hr -- 1/2 hr)')\n",
    "plt.ylabel('Total rainfall (mm)')\n",
    "plt.title('WHOTS Cumulative Rainfall');"
   ]
  },
  {
   "cell_type": "code",
   "execution_count": 258,
   "metadata": {
    "ExecuteTime": {
     "end_time": "2019-03-01T15:23:01.167660Z",
     "start_time": "2019-03-01T15:23:01.159208Z"
    }
   },
   "outputs": [
    {
     "data": {
      "text/plain": [
       "array([0.1612485 , 0.22820907, 0.27933679, 0.31403507, 0.35864242,\n",
       "       0.37227152, 0.38837789, 0.40231563, 0.43917222, 0.45682586,\n",
       "       0.45682586, 0.45682586, 0.48779584, 0.52124309, 0.52124309,\n",
       "       0.54044399, 0.59154281, 0.60238189, 0.61384029, 0.61384029,\n",
       "       0.61384029, 0.61384029, 0.61384029, 0.62839528, 0.65874388,\n",
       "       0.6745375 , 0.69095044, 0.69095044, 0.70860201, 0.72687289,\n",
       "       0.7457631 , 0.7457631 , 0.7457631 , 0.76651125, 0.76651125,\n",
       "       0.78849804, 0.78849804, 0.78849804, 0.78849804, 0.78849804,\n",
       "       0.78849804, 0.78849804, 0.78849804, 0.78849804, 0.78849804,\n",
       "       0.78849804, 0.78849804, 0.78849804, 0.78849804, 0.78849804,\n",
       "       0.81977459, 0.81977459, 0.81977459, 0.81977459, 0.8535284 ,\n",
       "       0.8535284 , 0.8535284 , 0.8535284 , 0.8535284 , 0.8535284 ,\n",
       "       0.8535284 , 0.8535284 , 0.89223676, 0.89223676, 0.89223676,\n",
       "       0.89223676, 0.89223676, 0.89223676, 0.89223676, 0.89223676,\n",
       "       0.89223676, 0.89223676, 0.89223676, 0.89223676, 0.89223676,\n",
       "       0.89223676, 0.93961555, 0.93961555, 0.93961555, 0.93961555,\n",
       "       0.93961555, 0.93961555, 0.93961555, 0.93961555, 0.93961555,\n",
       "       0.93961555, 0.93961555, 0.93961555, 0.93961555, 0.93961555,\n",
       "       0.93961555, 0.93961555, 0.93961555, 0.93961555, 0.93961555,\n",
       "       0.93961555, 0.93961555, 1.        ])"
      ]
     },
     "execution_count": 258,
     "metadata": {},
     "output_type": "execute_result"
    }
   ],
   "source": [
    "fullsum"
   ]
  },
  {
   "cell_type": "markdown",
   "metadata": {},
   "source": [
    "Surprisingly enough, even with the huge variability and amount of large rain events, the 50% mark of total cumulative rainfall still lies around 6.15 millimeters/hr, which is similar to everything else we've seen."
   ]
  },
  {
   "cell_type": "code",
   "execution_count": 257,
   "metadata": {
    "ExecuteTime": {
     "end_time": "2019-03-01T15:19:44.604279Z",
     "start_time": "2019-03-01T15:19:44.588458Z"
    }
   },
   "outputs": [
    {
     "name": "stdout",
     "output_type": "stream",
     "text": [
      "First cumulative third of rainfall: (4,)\n",
      "From the first to the second cumul. third: (21,)\n",
      "Significant rain events: (73,)\n"
     ]
    }
   ],
   "source": [
    "## One thought\n",
    "print('First cumulative third of rainfall:', fullsum[fullsum<0.33].shape)\n",
    "print('From the first to the second cumul. third:', fullsum[(fullsum >0.33) & (fullsum < .66)].shape)\n",
    "print('Significant rain events:', fullsum[fullsum > 0.66].shape)"
   ]
  },
  {
   "cell_type": "code",
   "execution_count": 179,
   "metadata": {
    "ExecuteTime": {
     "end_time": "2019-02-28T13:25:46.698070Z",
     "start_time": "2019-02-28T13:25:46.194773Z"
    }
   },
   "outputs": [
    {
     "data": {
      "image/png": "[encoded data removed]",
      "text/plain": [
       "<Figure size 432x288 with 1 Axes>"
      ]
     },
     "metadata": {
      "needs_background": "light"
     },
     "output_type": "display_data"
    }
   ],
   "source": [
    "whots['pct_change'] = whots['sss'].pct_change().fillna(0)\n",
    "whotslag = pd.DataFrame(whots['precip'].reset_index().drop('new_time', axis=1))\n",
    "wpct_lag = pd.DataFrame(whots['pct_change'].reset_index().drop('new_time', axis=1).shift(1).fillna(0))\n",
    "wlag = pd.concat([whotslag, wpct_lag], axis=1, join='outer')\n",
    "plt.scatter(x=whotslag, y=wpct_lag)\n",
    "plt.scatter(x=whots['precip'], y=whots['pct_change'], alpha=0.6)\n",
    "plt.show()"
   ]
  },
  {
   "cell_type": "code",
   "execution_count": 181,
   "metadata": {
    "ExecuteTime": {
     "end_time": "2019-02-28T13:26:02.834233Z",
     "start_time": "2019-02-28T13:26:02.614186Z"
    }
   },
   "outputs": [
    {
     "data": {
      "image/png": "[encoded data removed]",
      "text/plain": [
       "<Figure size 432x288 with 1 Axes>"
      ]
     },
     "metadata": {
      "needs_background": "light"
     },
     "output_type": "display_data"
    }
   ],
   "source": [
    "whots_rain = whots[whots['precip'] > 0]\n",
    "whotslag2 = pd.DataFrame(whots_rain['precip'].reset_index().drop('new_time', axis=1))\n",
    "wpct_lag2 = pd.DataFrame(whots_rain['pct_change'].reset_index().drop('new_time', axis=1))\n",
    "w_nolag2 = pd.concat([whotslag2, wpct_lag2], axis=1, join='outer')\n",
    "#pct_lag\n",
    "plt.scatter(x=whotslag2, y=wpct_lag2)\n",
    "plt.scatter(x=whots['precip'], y=whots['pct_change'], alpha=0.6)\n",
    "plt.show()"
   ]
  },
  {
   "cell_type": "code",
   "execution_count": 182,
   "metadata": {
    "ExecuteTime": {
     "end_time": "2019-02-28T13:27:50.524613Z",
     "start_time": "2019-02-28T13:27:50.508964Z"
    }
   },
   "outputs": [
    {
     "data": {
      "text/html": [
       "<div>\n",
       "<style scoped>\n",
       "    .dataframe tbody tr th:only-of-type {\n",
       "        vertical-align: middle;\n",
       "    }\n",
       "\n",
       "    .dataframe tbody tr th {\n",
       "        vertical-align: top;\n",
       "    }\n",
       "\n",
       "    .dataframe thead th {\n",
       "        text-align: right;\n",
       "    }\n",
       "</style>\n",
       "<table border=\"1\" class=\"dataframe\">\n",
       "  <thead>\n",
       "    <tr style=\"text-align: right;\">\n",
       "      <th></th>\n",
       "      <th>precip</th>\n",
       "      <th>pct_change</th>\n",
       "    </tr>\n",
       "  </thead>\n",
       "  <tbody>\n",
       "    <tr>\n",
       "      <th>precip</th>\n",
       "      <td>1.000000</td>\n",
       "      <td>-0.475307</td>\n",
       "    </tr>\n",
       "    <tr>\n",
       "      <th>pct_change</th>\n",
       "      <td>-0.475307</td>\n",
       "      <td>1.000000</td>\n",
       "    </tr>\n",
       "  </tbody>\n",
       "</table>\n",
       "</div>"
      ],
      "text/plain": [
       "              precip  pct_change\n",
       "precip      1.000000   -0.475307\n",
       "pct_change -0.475307    1.000000"
      ]
     },
     "execution_count": 182,
     "metadata": {},
     "output_type": "execute_result"
    }
   ],
   "source": [
    "w_nolag2.corr()"
   ]
  },
  {
   "cell_type": "code",
   "execution_count": 183,
   "metadata": {
    "ExecuteTime": {
     "end_time": "2019-02-28T13:29:20.281956Z",
     "start_time": "2019-02-28T13:29:20.266331Z"
    }
   },
   "outputs": [
    {
     "data": {
      "text/html": [
       "<div>\n",
       "<style scoped>\n",
       "    .dataframe tbody tr th:only-of-type {\n",
       "        vertical-align: middle;\n",
       "    }\n",
       "\n",
       "    .dataframe tbody tr th {\n",
       "        vertical-align: top;\n",
       "    }\n",
       "\n",
       "    .dataframe thead th {\n",
       "        text-align: right;\n",
       "    }\n",
       "</style>\n",
       "<table border=\"1\" class=\"dataframe\">\n",
       "  <thead>\n",
       "    <tr style=\"text-align: right;\">\n",
       "      <th></th>\n",
       "      <th>precip</th>\n",
       "      <th>pct_change</th>\n",
       "    </tr>\n",
       "  </thead>\n",
       "  <tbody>\n",
       "    <tr>\n",
       "      <th>precip</th>\n",
       "      <td>1.000000</td>\n",
       "      <td>-0.171184</td>\n",
       "    </tr>\n",
       "    <tr>\n",
       "      <th>pct_change</th>\n",
       "      <td>-0.171184</td>\n",
       "      <td>1.000000</td>\n",
       "    </tr>\n",
       "  </tbody>\n",
       "</table>\n",
       "</div>"
      ],
      "text/plain": [
       "              precip  pct_change\n",
       "precip      1.000000   -0.171184\n",
       "pct_change -0.171184    1.000000"
      ]
     },
     "execution_count": 183,
     "metadata": {},
     "output_type": "execute_result"
    }
   ],
   "source": [
    "wlag.corr()"
   ]
  },
  {
   "cell_type": "code",
   "execution_count": 184,
   "metadata": {
    "ExecuteTime": {
     "end_time": "2019-02-28T13:30:15.299290Z",
     "start_time": "2019-02-28T13:30:15.268001Z"
    }
   },
   "outputs": [
    {
     "data": {
      "text/html": [
       "<div>\n",
       "<style scoped>\n",
       "    .dataframe tbody tr th:only-of-type {\n",
       "        vertical-align: middle;\n",
       "    }\n",
       "\n",
       "    .dataframe tbody tr th {\n",
       "        vertical-align: top;\n",
       "    }\n",
       "\n",
       "    .dataframe thead th {\n",
       "        text-align: right;\n",
       "    }\n",
       "</style>\n",
       "<table border=\"1\" class=\"dataframe\">\n",
       "  <thead>\n",
       "    <tr style=\"text-align: right;\">\n",
       "      <th></th>\n",
       "      <th>precip</th>\n",
       "      <th>pct_change</th>\n",
       "    </tr>\n",
       "  </thead>\n",
       "  <tbody>\n",
       "    <tr>\n",
       "      <th>precip</th>\n",
       "      <td>1.000000</td>\n",
       "      <td>-0.453891</td>\n",
       "    </tr>\n",
       "    <tr>\n",
       "      <th>pct_change</th>\n",
       "      <td>-0.453891</td>\n",
       "      <td>1.000000</td>\n",
       "    </tr>\n",
       "  </tbody>\n",
       "</table>\n",
       "</div>"
      ],
      "text/plain": [
       "              precip  pct_change\n",
       "precip      1.000000   -0.453891\n",
       "pct_change -0.453891    1.000000"
      ]
     },
     "execution_count": 184,
     "metadata": {},
     "output_type": "execute_result"
    }
   ],
   "source": [
    "whots[['precip', 'pct_change']].corr()"
   ]
  },
  {
   "cell_type": "markdown",
   "metadata": {},
   "source": [
    "Finally, we see once again that there is a weak correlation between a lagged variable and rainfall. The strongest correlation is between sss and precipitation in the same hour, and again there is an even stronger correlation between rainfall and salinity in the same hour when rainfall was present. This is a trend for every single buoy, and so we should conclude that lagged variables are probably not what we want to inspect, at least not as a one-variable response. Instead, it appears that any change in salinity due to rainfall (or vice versa) would either be a quick and temporary change due to the rainfall, or an event caused by a sudden change in salinity."
   ]
  },
  {
   "cell_type": "markdown",
   "metadata": {},
   "source": [
    "# Conclusions (for now)"
   ]
  },
  {
   "cell_type": "code",
   "execution_count": 206,
   "metadata": {
    "ExecuteTime": {
     "end_time": "2019-02-28T13:57:13.963552Z",
     "start_time": "2019-02-28T13:57:13.937812Z"
    }
   },
   "outputs": [
    {
     "name": "stdout",
     "output_type": "stream",
     "text": [
      "5.975\n",
      "0.5202163011671204\n"
     ]
    }
   ],
   "source": [
    "## Looking at the distributions of 50% accumulation of rainfall for buoys...\n",
    "dist = np.array([5.5,6.75,5.5,6.15])\n",
    "print(np.mean(dist))\n",
    "print(np.std(dist))"
   ]
  },
  {
   "cell_type": "markdown",
   "metadata": {},
   "source": [
    "We can draw three main conclusions from what we've done here:\n",
    "\n",
    "1) There does not seem to be any hard evidence that putting a time lag on either salinity or rainfall gives a better casual relationship between the two; the best correlations that we see occur within the same hour, and we see an even stronger relationship with every single buoy between the two when rain is present, which makes sense.\n",
    "\n",
    "2) Each buoy has a relatively different threshold at which 50% of all of it's rainfall has occurred, in terms of rates of rainfall by hour. The more tropical buoys, such as Spurs2 and WHOTS, have a much larger threshold, especially Spurs2; thus, comparing what we classify as a rain event at one buoy may not necessarily be appropriate for another.\n",
    "\n",
    "3) We see bimodal distributions of rainfall for every single rate, at every single buoy. That is, there are large amounts of very minor rain events, very few at the (relative) middle range for each buoy, and then larger representation for more significant rain events. This is true even in sparse rain climates such as NTAS and Spurs1.\n",
    "\n",
    "__Thoughts:__ Maybe coming up with a method of classification that does not have to be hard coded, for each third of that area's total annual rainfall per rainfall rate in mm/hr. Therefore, we would have four categories: No Rain, Minor Rain, Rain, Significant Rain; our reasoning behind this is that each of these categories has drastically different representation between each buoy, but they do also all follow the same bimodal trend. Therefore, we believe this to be a reasonable outline of rain classes moving forward."
   ]
  },
  {
   "cell_type": "code",
   "execution_count": 245,
   "metadata": {
    "ExecuteTime": {
     "end_time": "2019-03-01T14:41:31.214825Z",
     "start_time": "2019-03-01T14:41:30.968268Z"
    }
   },
   "outputs": [
    {
     "name": "stdout",
     "output_type": "stream",
     "text": [
      "First cumulative third of rainfall: (4,)\n",
      "From the first to the second cumul. third: (21,)\n",
      "Significant rain events: (73,)\n"
     ]
    }
   ],
   "source": [
    "## One thought\n",
    "print('First cumulative third of rainfall:', fullsum[fullsum<0.33].shape)\n",
    "print('From the first to the second cumul. third:', fullsum[(fullsum >0.33) & (fullsum < .66)].shape)\n",
    "print('Significant rain events:', fullsum[fullsum > 0.66].shape)"
   ]
  },
  {
   "cell_type": "code",
   "execution_count": null,
   "metadata": {},
   "outputs": [],
   "source": []
  }
 ],
 "metadata": {
  "kernelspec": {
   "display_name": "Python 3",
   "language": "python",
   "name": "python3"
  },
  "language_info": {
   "codemirror_mode": {
    "name": "ipython",
    "version": 3
   },
   "file_extension": ".py",
   "mimetype": "text/x-python",
   "name": "python",
   "nbconvert_exporter": "python",
   "pygments_lexer": "ipython3",
   "version": "3.6.8"
  },
  "toc": {
   "base_numbering": 1,
   "nav_menu": {},
   "number_sections": true,
   "sideBar": true,
   "skip_h1_title": false,
   "title_cell": "Table of Contents",
   "title_sidebar": "Contents",
   "toc_cell": false,
   "toc_position": {},
   "toc_section_display": true,
   "toc_window_display": true
  },
  "varInspector": {
   "cols": {
    "lenName": 16,
    "lenType": 16,
    "lenVar": 40
   },
   "kernels_config": {
    "python": {
     "delete_cmd_postfix": "",
     "delete_cmd_prefix": "del ",
     "library": "var_list.py",
     "varRefreshCmd": "print(var_dic_list())"
    },
    "r": {
     "delete_cmd_postfix": ") ",
     "delete_cmd_prefix": "rm(",
     "library": "var_list.r",
     "varRefreshCmd": "cat(var_dic_list()) "
    }
   },
   "types_to_exclude": [
    "module",
    "function",
    "builtin_function_or_method",
    "instance",
    "_Feature"
   ],
   "window_display": false
  }
 },
 "nbformat": 4,
 "nbformat_minor": 2
}
