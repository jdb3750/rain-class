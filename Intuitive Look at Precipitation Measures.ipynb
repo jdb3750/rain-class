{
 "cells": [
  {
   "cell_type": "markdown",
   "metadata": {},
   "source": [
    "_After inspecting the total rainfall and the variability between both Spurs1 and Spurs2, we decided that the predetermined measure of a \"rain event\" (2 mm over 3 hrs) may not be a good general measure._"
   ]
  },
  {
   "cell_type": "code",
   "execution_count": 2,
   "metadata": {
    "ExecuteTime": {
     "end_time": "2019-02-27T11:57:27.675779Z",
     "start_time": "2019-02-27T11:56:31.569050Z"
    }
   },
   "outputs": [],
   "source": [
    "import numpy as np\n",
    "import pandas as pd\n",
    "import matplotlib.pyplot as plt\n",
    "import tensorflow as tf\n",
    "import scipy.io as sio\n",
    "import seaborn as sns\n",
    "%matplotlib inline"
   ]
  },
  {
   "cell_type": "code",
   "execution_count": 36,
   "metadata": {
    "ExecuteTime": {
     "end_time": "2019-02-27T12:16:18.722498Z",
     "start_time": "2019-02-27T12:16:18.049722Z"
    }
   },
   "outputs": [
    {
     "data": {
      "text/html": [
       "<div>\n",
       "<style scoped>\n",
       "    .dataframe tbody tr th:only-of-type {\n",
       "        vertical-align: middle;\n",
       "    }\n",
       "\n",
       "    .dataframe tbody tr th {\n",
       "        vertical-align: top;\n",
       "    }\n",
       "\n",
       "    .dataframe thead th {\n",
       "        text-align: right;\n",
       "    }\n",
       "</style>\n",
       "<table border=\"1\" class=\"dataframe\">\n",
       "  <thead>\n",
       "    <tr style=\"text-align: right;\">\n",
       "      <th></th>\n",
       "      <th>time</th>\n",
       "      <th>sss</th>\n",
       "      <th>sst</th>\n",
       "      <th>wind_spd</th>\n",
       "      <th>wind_dir</th>\n",
       "      <th>precip</th>\n",
       "      <th>cum_precip3</th>\n",
       "      <th>cum_precip6</th>\n",
       "      <th>year</th>\n",
       "      <th>month</th>\n",
       "      <th>...</th>\n",
       "      <th>scaled_sss</th>\n",
       "      <th>scaled_dir</th>\n",
       "      <th>scaled_spd</th>\n",
       "      <th>scaled_sst</th>\n",
       "      <th>pct_change</th>\n",
       "      <th>pct_c_scaled</th>\n",
       "      <th>set</th>\n",
       "      <th>sst_pct_change</th>\n",
       "      <th>dir_pct_change</th>\n",
       "      <th>spd_pct_change</th>\n",
       "    </tr>\n",
       "    <tr>\n",
       "      <th>new_time</th>\n",
       "      <th></th>\n",
       "      <th></th>\n",
       "      <th></th>\n",
       "      <th></th>\n",
       "      <th></th>\n",
       "      <th></th>\n",
       "      <th></th>\n",
       "      <th></th>\n",
       "      <th></th>\n",
       "      <th></th>\n",
       "      <th></th>\n",
       "      <th></th>\n",
       "      <th></th>\n",
       "      <th></th>\n",
       "      <th></th>\n",
       "      <th></th>\n",
       "      <th></th>\n",
       "      <th></th>\n",
       "      <th></th>\n",
       "      <th></th>\n",
       "      <th></th>\n",
       "    </tr>\n",
       "  </thead>\n",
       "  <tbody>\n",
       "    <tr>\n",
       "      <th>2016-08-24 02:30:00.000028800</th>\n",
       "      <td>736566.104167</td>\n",
       "      <td>32.785813</td>\n",
       "      <td>29.972728</td>\n",
       "      <td>1.499305</td>\n",
       "      <td>-35.279577</td>\n",
       "      <td>0.0</td>\n",
       "      <td>0.0</td>\n",
       "      <td>0.0</td>\n",
       "      <td>2016</td>\n",
       "      <td>8</td>\n",
       "      <td>...</td>\n",
       "      <td>-0.949913</td>\n",
       "      <td>0.090521</td>\n",
       "      <td>-1.915939</td>\n",
       "      <td>3.406521</td>\n",
       "      <td>0.0</td>\n",
       "      <td>0.0</td>\n",
       "      <td>Spurs2</td>\n",
       "      <td>0.0</td>\n",
       "      <td>0.0</td>\n",
       "      <td>0.0</td>\n",
       "    </tr>\n",
       "  </tbody>\n",
       "</table>\n",
       "<p>1 rows × 22 columns</p>\n",
       "</div>"
      ],
      "text/plain": [
       "                                        time        sss        sst  wind_spd  \\\n",
       "new_time                                                                       \n",
       "2016-08-24 02:30:00.000028800  736566.104167  32.785813  29.972728  1.499305   \n",
       "\n",
       "                                wind_dir  precip  cum_precip3  cum_precip6  \\\n",
       "new_time                                                                     \n",
       "2016-08-24 02:30:00.000028800 -35.279577     0.0          0.0          0.0   \n",
       "\n",
       "                               year  month  ...  scaled_sss  scaled_dir  \\\n",
       "new_time                                    ...                           \n",
       "2016-08-24 02:30:00.000028800  2016      8  ...   -0.949913    0.090521   \n",
       "\n",
       "                               scaled_spd  scaled_sst  pct_change  \\\n",
       "new_time                                                            \n",
       "2016-08-24 02:30:00.000028800   -1.915939    3.406521         0.0   \n",
       "\n",
       "                               pct_c_scaled     set  sst_pct_change  \\\n",
       "new_time                                                              \n",
       "2016-08-24 02:30:00.000028800           0.0  Spurs2             0.0   \n",
       "\n",
       "                              dir_pct_change  spd_pct_change  \n",
       "new_time                                                      \n",
       "2016-08-24 02:30:00.000028800            0.0             0.0  \n",
       "\n",
       "[1 rows x 22 columns]"
      ]
     },
     "execution_count": 36,
     "metadata": {},
     "output_type": "execute_result"
    }
   ],
   "source": [
    "data = pd.read_csv('data.csv')\n",
    "data2 = pd.read_csv('data2.csv')\n",
    "data = data.set_index('new_time')\n",
    "data2 = data2.set_index('new_time')\n",
    "data2.head(1)"
   ]
  },
  {
   "cell_type": "markdown",
   "metadata": {},
   "source": [
    "# Looking at Spurs1"
   ]
  },
  {
   "cell_type": "code",
   "execution_count": 108,
   "metadata": {
    "ExecuteTime": {
     "end_time": "2019-02-24T01:50:16.155857Z",
     "start_time": "2019-02-24T01:50:16.138539Z"
    }
   },
   "outputs": [
    {
     "name": "stdout",
     "output_type": "stream",
     "text": [
      "711.9206638361812\n"
     ]
    },
    {
     "data": {
      "text/plain": [
       "count    9133.000000\n",
       "mean        0.077950\n",
       "std         0.889278\n",
       "min         0.000000\n",
       "25%         0.000000\n",
       "50%         0.000000\n",
       "75%         0.000000\n",
       "max        35.374674\n",
       "Name: precip, dtype: float64"
      ]
     },
     "execution_count": 108,
     "metadata": {},
     "output_type": "execute_result"
    }
   ],
   "source": [
    "print(data['precip'].sum())\n",
    "data['precip'].describe()"
   ]
  },
  {
   "cell_type": "markdown",
   "metadata": {},
   "source": [
    "So we can see that though the maximum rainfall in one hour is over 35 millimeters, the mean rainfall is only 0.078 millimeters with a variance of 0.79081536 millimeters. Also, for such a small mean and variance it is curious that there were over 700 millimeters of rainfall in the year span of the data."
   ]
  },
  {
   "cell_type": "code",
   "execution_count": 109,
   "metadata": {
    "ExecuteTime": {
     "end_time": "2019-02-24T01:50:16.906360Z",
     "start_time": "2019-02-24T01:50:16.899016Z"
    }
   },
   "outputs": [
    {
     "name": "stdout",
     "output_type": "stream",
     "text": [
      "7\n"
     ]
    },
    {
     "data": {
      "text/plain": [
       "166.33233761510294"
      ]
     },
     "execution_count": 109,
     "metadata": {},
     "output_type": "execute_result"
    }
   ],
   "source": [
    "large = data[data['precip'] > 15]\n",
    "print(large['precip'].count())\n",
    "large['precip'].sum()"
   ]
  },
  {
   "cell_type": "markdown",
   "metadata": {},
   "source": [
    "So we see above that there are only 7 instances of rainfall greater than 15 mm/hr for Spurs1, but they account for about 24% of the data. On the other end of the scale..."
   ]
  },
  {
   "cell_type": "code",
   "execution_count": 110,
   "metadata": {
    "ExecuteTime": {
     "end_time": "2019-02-24T01:50:17.690246Z",
     "start_time": "2019-02-24T01:50:17.682086Z"
    }
   },
   "outputs": [
    {
     "name": "stdout",
     "output_type": "stream",
     "text": [
      "192\n"
     ]
    },
    {
     "data": {
      "text/plain": [
       "16.707725507309327"
      ]
     },
     "execution_count": 110,
     "metadata": {},
     "output_type": "execute_result"
    }
   ],
   "source": [
    "other = data[(data['precip'] > 0) & (data['precip'] < .21)]\n",
    "print(other['precip'].count())\n",
    "other['precip'].sum()"
   ]
  },
  {
   "cell_type": "markdown",
   "metadata": {
    "ExecuteTime": {
     "end_time": "2019-02-22T20:02:21.451297Z",
     "start_time": "2019-02-22T20:02:21.436223Z"
    }
   },
   "source": [
    "Very small amounts of rainfall account for about 43% of the data points we have, but only 2.3% of the rainfall."
   ]
  },
  {
   "cell_type": "code",
   "execution_count": 111,
   "metadata": {
    "ExecuteTime": {
     "end_time": "2019-02-24T01:50:19.407609Z",
     "start_time": "2019-02-24T01:50:18.552230Z"
    }
   },
   "outputs": [
    {
     "data": {
      "image/png": "[encoded data removed]",
      "text/plain": [
       "<Figure size 432x288 with 1 Axes>"
      ]
     },
     "metadata": {
      "needs_background": "light"
     },
     "output_type": "display_data"
    }
   ],
   "source": [
    "#plt.hist(data['precip'], bins=np.arange(0.01,0.2,0.01))\n",
    "#plt.xlim([0.01,0.21])\n",
    "(n, bins, patches) = plt.hist(data['precip'], bins=np.arange(0.001,36.001,0.5))\n",
    "plt.xlim([0.001,36.001])\n",
    "#plt.hist(data['precip'], bins=np.arange(15,35,3))\n",
    "plt.xscale('log')\n",
    "plt.show()\n",
    "bin_centers = bins[0:71] + 0.25\n",
    "#bin_centers\n",
    "#print(a)"
   ]
  },
  {
   "cell_type": "code",
   "execution_count": 112,
   "metadata": {
    "ExecuteTime": {
     "end_time": "2019-02-24T01:50:19.722717Z",
     "start_time": "2019-02-24T01:50:19.697443Z"
    }
   },
   "outputs": [
    {
     "data": {
      "text/plain": [
       "array([62.499, 47.313, 30.024, 33.269, 36.016, 22.008, 19.506, 15.004,\n",
       "       42.51 , 19.004, 15.753, 28.755, 18.753, 20.253,  0.   , 15.502,\n",
       "        0.   , 26.253,  0.   ,  9.751,  0.   ,  0.   , 11.251, 23.502,\n",
       "       24.502, 12.751, 13.251, 13.751, 14.251,  0.   ,  0.   ,  0.   ,\n",
       "        0.   ,  0.   , 17.251,  0.   , 18.251, 18.751,  0.   ,  0.   ,\n",
       "        0.   ,  0.   ,  0.   , 21.751,  0.   ,  0.   , 23.251,  0.   ,\n",
       "        0.   ,  0.   ,  0.   ,  0.   ,  0.   ,  0.   ,  0.   ,  0.   ,\n",
       "        0.   ,  0.   ,  0.   ,  0.   ,  0.   ,  0.   , 31.251,  0.   ,\n",
       "        0.   ,  0.   ,  0.   ,  0.   ,  0.   ,  0.   , 35.251])"
      ]
     },
     "execution_count": 112,
     "metadata": {},
     "output_type": "execute_result"
    }
   ],
   "source": [
    "sums = n*bin_centers\n",
    "sums"
   ]
  },
  {
   "cell_type": "code",
   "execution_count": 113,
   "metadata": {
    "ExecuteTime": {
     "end_time": "2019-02-24T01:50:22.056051Z",
     "start_time": "2019-02-24T01:50:21.847378Z"
    }
   },
   "outputs": [
    {
     "data": {
      "text/plain": [
       "<matplotlib.collections.PathCollection at 0x1ccc23debe0>"
      ]
     },
     "execution_count": 113,
     "metadata": {},
     "output_type": "execute_result"
    },
    {
     "data": {
      "image/png": "[encoded data removed]",
      "text/plain": [
       "<Figure size 432x288 with 1 Axes>"
      ]
     },
     "metadata": {
      "needs_background": "light"
     },
     "output_type": "display_data"
    }
   ],
   "source": [
    "plt.scatter(x=bin_centers, y=sums)"
   ]
  },
  {
   "cell_type": "code",
   "execution_count": 114,
   "metadata": {
    "ExecuteTime": {
     "end_time": "2019-02-24T01:50:23.340505Z",
     "start_time": "2019-02-24T01:50:22.639092Z"
    }
   },
   "outputs": [
    {
     "data": {
      "image/png": "[encoded data removed]",
      "text/plain": [
       "<Figure size 936x720 with 1 Axes>"
      ]
     },
     "metadata": {
      "needs_background": "light"
     },
     "output_type": "display_data"
    }
   ],
   "source": [
    "_, ax = plt.subplots(figsize=(13,10))\n",
    "plt.bar(x=bin_centers, height=sums)\n",
    "plt.xlabel('Rain rate (mm/hr)')\n",
    "plt.ylabel('Total rainfall (mm)')\n",
    "plt.title('Spurs1 Total Rainfall')\n",
    "plt.xticks(np.arange(0,36,1));"
   ]
  },
  {
   "cell_type": "code",
   "execution_count": 115,
   "metadata": {
    "ExecuteTime": {
     "end_time": "2019-02-24T01:50:25.606475Z",
     "start_time": "2019-02-24T01:50:25.419964Z"
    }
   },
   "outputs": [
    {
     "data": {
      "image/png": "[encoded data removed]",
      "text/plain": [
       "<Figure size 432x288 with 1 Axes>"
      ]
     },
     "metadata": {
      "needs_background": "light"
     },
     "output_type": "display_data"
    }
   ],
   "source": [
    "fullsum = sums.cumsum()/sums.sum()\n",
    "halfsum = (sums.cumsum()/sums.sum())[:36]\n",
    "plt.plot(fullsum)\n",
    "plt.axhline(y=.5, color='r')\n",
    "plt.xlabel('Rain rate (mm/hr)')\n",
    "plt.ylabel('Total rainfall (mm)')\n",
    "plt.title('Spurs1 Cumulative Rainfall');"
   ]
  },
  {
   "cell_type": "code",
   "execution_count": 117,
   "metadata": {
    "ExecuteTime": {
     "end_time": "2019-02-24T01:50:49.371843Z",
     "start_time": "2019-02-24T01:50:49.120292Z"
    }
   },
   "outputs": [
    {
     "data": {
      "image/png": "[encoded data removed]",
      "text/plain": [
       "<Figure size 432x288 with 1 Axes>"
      ]
     },
     "metadata": {
      "needs_background": "light"
     },
     "output_type": "display_data"
    }
   ],
   "source": [
    "plt.plot(halfsum)\n",
    "plt.axhline(y=.5, color='r')\n",
    "plt.axvline(x=11, color='r')\n",
    "plt.xlabel('Rain rate (mm/hr)')\n",
    "plt.ylabel('Total rainfall (mm)')\n",
    "plt.title('Spurs1 Cumulative Rainfall');"
   ]
  },
  {
   "cell_type": "markdown",
   "metadata": {},
   "source": [
    "So we can see that the 50/50 split of rainfall occurs around to 11 millimeters/hr; half of all rainfall occurs below that margin."
   ]
  },
  {
   "cell_type": "markdown",
   "metadata": {},
   "source": [
    "# Spurs2"
   ]
  },
  {
   "cell_type": "code",
   "execution_count": 37,
   "metadata": {
    "ExecuteTime": {
     "end_time": "2019-02-27T12:16:22.138798Z",
     "start_time": "2019-02-27T12:16:22.118072Z"
    }
   },
   "outputs": [
    {
     "name": "stdout",
     "output_type": "stream",
     "text": [
      "3927.2051423026883\n"
     ]
    },
    {
     "data": {
      "text/plain": [
       "count    10459.000000\n",
       "mean         0.375486\n",
       "std          1.927136\n",
       "min          0.000000\n",
       "25%          0.000000\n",
       "50%          0.000000\n",
       "75%          0.000000\n",
       "max         45.403696\n",
       "Name: precip, dtype: float64"
      ]
     },
     "execution_count": 37,
     "metadata": {},
     "output_type": "execute_result"
    }
   ],
   "source": [
    "print(data2['precip'].sum())\n",
    "data2['precip'].describe()"
   ]
  },
  {
   "cell_type": "code",
   "execution_count": 38,
   "metadata": {
    "ExecuteTime": {
     "end_time": "2019-02-27T12:16:22.642142Z",
     "start_time": "2019-02-27T12:16:22.526486Z"
    }
   },
   "outputs": [
    {
     "name": "stdout",
     "output_type": "stream",
     "text": [
      "Substantive rainfall: 953.5881939600546 mm over 43 events\n",
      "Marginal rainfall: 58.33822054609101 mm over 656 events\n",
      "Rainfall: 546.759144875758 mm over 651 events\n"
     ]
    }
   ],
   "source": [
    "large = data2[data2['precip'] > 15]\n",
    "print('Substantive rainfall:', large['precip'].sum(), 'mm over', large['precip'].count(), 'events')\n",
    "small = data2[(data2['precip'] > 0) & (data2['precip'] < .21)]\n",
    "print('Marginal rainfall:', small['precip'].sum(), 'mm over', small['precip'].count(), 'events')\n",
    "other = data2[(data2['precip'] > 0.21) & (data2['precip'] <= 2)]\n",
    "print('Rainfall:', other['precip'].sum(), 'mm over', other['precip'].count(), 'events')"
   ]
  },
  {
   "cell_type": "code",
   "execution_count": 39,
   "metadata": {
    "ExecuteTime": {
     "end_time": "2019-02-27T12:17:12.753548Z",
     "start_time": "2019-02-27T12:17:12.728018Z"
    }
   },
   "outputs": [
    {
     "data": {
      "text/plain": [
       "3927.2051423026883"
      ]
     },
     "execution_count": 39,
     "metadata": {},
     "output_type": "execute_result"
    }
   ],
   "source": [
    "data2['precip'].sum()"
   ]
  },
  {
   "cell_type": "code",
   "execution_count": 98,
   "metadata": {
    "ExecuteTime": {
     "end_time": "2019-02-24T01:49:07.026355Z",
     "start_time": "2019-02-24T01:49:06.154230Z"
    }
   },
   "outputs": [
    {
     "data": {
      "image/png": "[encoded data removed]",
      "text/plain": [
       "<Figure size 432x288 with 1 Axes>"
      ]
     },
     "metadata": {
      "needs_background": "light"
     },
     "output_type": "display_data"
    }
   ],
   "source": [
    "#plt.hist(data['precip'], bins=np.arange(0.01,0.2,0.01))\n",
    "#plt.xlim([0.01,0.21])\n",
    "(n, bins, patches) = plt.hist(data2['precip'], bins=np.arange(0.001,46.001,0.5))\n",
    "plt.xlim([0.001,45.501])\n",
    "#plt.hist(data['precip'], bins=np.arange(15,35,3))\n",
    "plt.xscale('log')\n",
    "plt.show()\n",
    "bin_centers = bins[0:91] + 0.25\n",
    "#bin_centers\n",
    "#print(a)"
   ]
  },
  {
   "cell_type": "code",
   "execution_count": 99,
   "metadata": {
    "ExecuteTime": {
     "end_time": "2019-02-24T01:49:10.925375Z",
     "start_time": "2019-02-24T01:49:10.913314Z"
    }
   },
   "outputs": [
    {
     "data": {
      "text/plain": [
       "array([221.131, 155.457, 150.12 , 171.598, 168.825, 129.297, 117.036,\n",
       "       127.534, 174.291, 156.783, 141.777, 126.522,  81.263,  67.51 ,\n",
       "        87.012, 100.763,  66.008,  87.51 ,  74.008,  68.257,  41.004,\n",
       "       118.261,  67.506,  58.755,  85.757, 127.51 ,  26.502,  13.751,\n",
       "        28.502,  29.502,  30.502,  31.502,  32.502,  33.502,  86.255,\n",
       "        53.253,  18.251,  18.751,  38.502,  19.751,  40.502,  20.751,\n",
       "        21.251,  21.751,   0.   ,   0.   ,  23.251,   0.   ,  72.753,\n",
       "         0.   ,  25.251,  25.751,  78.753,   0.   ,   0.   ,  55.502,\n",
       "         0.   ,   0.   ,   0.   ,   0.   ,   0.   ,  61.502,   0.   ,\n",
       "        31.751,   0.   ,  32.751,  33.251,   0.   ,   0.   ,   0.   ,\n",
       "         0.   ,   0.   ,   0.   ,   0.   ,   0.   ,   0.   ,   0.   ,\n",
       "         0.   ,   0.   ,   0.   ,   0.   ,   0.   ,   0.   ,   0.   ,\n",
       "         0.   ,   0.   ,   0.   ,   0.   ,   0.   ,   0.   ,  45.251])"
      ]
     },
     "execution_count": 99,
     "metadata": {},
     "output_type": "execute_result"
    }
   ],
   "source": [
    "sums = n*bin_centers\n",
    "sums"
   ]
  },
  {
   "cell_type": "code",
   "execution_count": 100,
   "metadata": {
    "ExecuteTime": {
     "end_time": "2019-02-24T01:49:18.076647Z",
     "start_time": "2019-02-24T01:49:18.068492Z"
    },
    "scrolled": true
   },
   "outputs": [
    {
     "data": {
      "text/plain": [
       "array([ 0.251,  0.751,  1.251,  1.751,  2.251,  2.751,  3.251,  3.751,\n",
       "        4.251,  4.751,  5.251,  5.751,  6.251,  6.751,  7.251,  7.751,\n",
       "        8.251,  8.751,  9.251,  9.751, 10.251, 10.751, 11.251, 11.751,\n",
       "       12.251, 12.751, 13.251, 13.751, 14.251, 14.751, 15.251, 15.751,\n",
       "       16.251, 16.751, 17.251, 17.751, 18.251, 18.751, 19.251, 19.751,\n",
       "       20.251, 20.751, 21.251, 21.751, 22.251, 22.751, 23.251, 23.751,\n",
       "       24.251, 24.751, 25.251, 25.751, 26.251, 26.751, 27.251, 27.751,\n",
       "       28.251, 28.751, 29.251, 29.751, 30.251, 30.751, 31.251, 31.751,\n",
       "       32.251, 32.751, 33.251, 33.751, 34.251, 34.751, 35.251, 35.751,\n",
       "       36.251, 36.751, 37.251, 37.751, 38.251, 38.751, 39.251, 39.751,\n",
       "       40.251, 40.751, 41.251, 41.751, 42.251, 42.751, 43.251, 43.751,\n",
       "       44.251, 44.751, 45.251])"
      ]
     },
     "execution_count": 100,
     "metadata": {},
     "output_type": "execute_result"
    }
   ],
   "source": [
    "bin_centers"
   ]
  },
  {
   "cell_type": "code",
   "execution_count": 101,
   "metadata": {
    "ExecuteTime": {
     "end_time": "2019-02-24T01:49:21.076962Z",
     "start_time": "2019-02-24T01:49:20.899028Z"
    }
   },
   "outputs": [
    {
     "data": {
      "text/plain": [
       "<matplotlib.collections.PathCollection at 0x1ccc0b7e780>"
      ]
     },
     "execution_count": 101,
     "metadata": {},
     "output_type": "execute_result"
    },
    {
     "data": {
      "image/png": "[encoded data removed]",
      "text/plain": [
       "<Figure size 432x288 with 1 Axes>"
      ]
     },
     "metadata": {
      "needs_background": "light"
     },
     "output_type": "display_data"
    }
   ],
   "source": [
    "plt.scatter(x=bin_centers, y=sums)"
   ]
  },
  {
   "cell_type": "code",
   "execution_count": 102,
   "metadata": {
    "ExecuteTime": {
     "end_time": "2019-02-24T01:49:23.726621Z",
     "start_time": "2019-02-24T01:49:22.808286Z"
    }
   },
   "outputs": [
    {
     "data": {
      "image/png": "[encoded data removed]",
      "text/plain": [
       "<Figure size 936x720 with 1 Axes>"
      ]
     },
     "metadata": {
      "needs_background": "light"
     },
     "output_type": "display_data"
    }
   ],
   "source": [
    "_, ax = plt.subplots(figsize=(13,10))\n",
    "plt.bar(x=bin_centers, height=sums)\n",
    "plt.xlabel('Rain rate (mm/hr)')\n",
    "plt.ylabel('Total rainfall (mm)')\n",
    "plt.title('Spurs2 Total Rainfall')\n",
    "plt.xticks(np.arange(0,46,1));"
   ]
  },
  {
   "cell_type": "code",
   "execution_count": 103,
   "metadata": {
    "ExecuteTime": {
     "end_time": "2019-02-24T01:49:26.243404Z",
     "start_time": "2019-02-24T01:49:26.021418Z"
    }
   },
   "outputs": [
    {
     "data": {
      "image/png": "[encoded data removed]",
      "text/plain": [
       "<Figure size 432x288 with 1 Axes>"
      ]
     },
     "metadata": {
      "needs_background": "light"
     },
     "output_type": "display_data"
    }
   ],
   "source": [
    "fullsum = sums.cumsum()/sums.sum()\n",
    "halfsum = (sums.cumsum()/sums.sum())[:46]\n",
    "plt.plot(fullsum)\n",
    "plt.axhline(y=.5, color='r')\n",
    "plt.xlabel('Rain rate (mm/hr)')\n",
    "plt.ylabel('Total rainfall (mm)')\n",
    "plt.title('Spurs2 Cumulative Rainfall');"
   ]
  },
  {
   "cell_type": "code",
   "execution_count": 107,
   "metadata": {
    "ExecuteTime": {
     "end_time": "2019-02-24T01:50:03.523357Z",
     "start_time": "2019-02-24T01:50:03.330553Z"
    }
   },
   "outputs": [
    {
     "data": {
      "image/png": "[encoded data removed]",
      "text/plain": [
       "<Figure size 432x288 with 1 Axes>"
      ]
     },
     "metadata": {
      "needs_background": "light"
     },
     "output_type": "display_data"
    }
   ],
   "source": [
    "plt.plot(halfsum)\n",
    "plt.axhline(y=.5, color='r')\n",
    "plt.axvline(x=13, color='r')\n",
    "plt.xlabel('Rain rate (mm/hr)')\n",
    "plt.ylabel('Total rainfall (mm)')\n",
    "plt.title('Spurs2 Cumulative Rainfall');"
   ]
  },
  {
   "cell_type": "markdown",
   "metadata": {},
   "source": [
    "# Other Data Sets"
   ]
  },
  {
   "cell_type": "markdown",
   "metadata": {},
   "source": [
    "## NTAS Set"
   ]
  },
  {
   "cell_type": "code",
   "execution_count": 22,
   "metadata": {
    "ExecuteTime": {
     "end_time": "2019-02-27T12:04:19.824371Z",
     "start_time": "2019-02-27T12:04:19.479363Z"
    }
   },
   "outputs": [
    {
     "name": "stdout",
     "output_type": "stream",
     "text": [
      "365.16062089206594\n"
     ]
    },
    {
     "data": {
      "text/html": [
       "<div>\n",
       "<style scoped>\n",
       "    .dataframe tbody tr th:only-of-type {\n",
       "        vertical-align: middle;\n",
       "    }\n",
       "\n",
       "    .dataframe tbody tr th {\n",
       "        vertical-align: top;\n",
       "    }\n",
       "\n",
       "    .dataframe thead th {\n",
       "        text-align: right;\n",
       "    }\n",
       "</style>\n",
       "<table border=\"1\" class=\"dataframe\">\n",
       "  <thead>\n",
       "    <tr style=\"text-align: right;\">\n",
       "      <th></th>\n",
       "      <th>time</th>\n",
       "      <th>sss</th>\n",
       "      <th>sst</th>\n",
       "      <th>wind_spd</th>\n",
       "      <th>mld</th>\n",
       "      <th>precip</th>\n",
       "      <th>cum_precip6</th>\n",
       "      <th>cum_precip3</th>\n",
       "    </tr>\n",
       "    <tr>\n",
       "      <th>new_time</th>\n",
       "      <th></th>\n",
       "      <th></th>\n",
       "      <th></th>\n",
       "      <th></th>\n",
       "      <th></th>\n",
       "      <th></th>\n",
       "      <th></th>\n",
       "      <th></th>\n",
       "    </tr>\n",
       "  </thead>\n",
       "  <tbody>\n",
       "    <tr>\n",
       "      <th>2001-03-31 01:00:00.000028800</th>\n",
       "      <td>730941.041667</td>\n",
       "      <td>36.224918</td>\n",
       "      <td>25.322590</td>\n",
       "      <td>7.257993</td>\n",
       "      <td>42.888125</td>\n",
       "      <td>0.0</td>\n",
       "      <td>0.0</td>\n",
       "      <td>0.0</td>\n",
       "    </tr>\n",
       "    <tr>\n",
       "      <th>2001-03-31 01:59:59.999971200</th>\n",
       "      <td>730941.083333</td>\n",
       "      <td>36.225780</td>\n",
       "      <td>25.307935</td>\n",
       "      <td>7.517357</td>\n",
       "      <td>42.881045</td>\n",
       "      <td>0.0</td>\n",
       "      <td>0.0</td>\n",
       "      <td>0.0</td>\n",
       "    </tr>\n",
       "    <tr>\n",
       "      <th>2001-03-31 03:00:00.000000000</th>\n",
       "      <td>730941.125000</td>\n",
       "      <td>36.227262</td>\n",
       "      <td>25.307050</td>\n",
       "      <td>7.063114</td>\n",
       "      <td>42.873965</td>\n",
       "      <td>0.0</td>\n",
       "      <td>0.0</td>\n",
       "      <td>0.0</td>\n",
       "    </tr>\n",
       "    <tr>\n",
       "      <th>2001-03-31 04:00:00.000028800</th>\n",
       "      <td>730941.166667</td>\n",
       "      <td>36.227101</td>\n",
       "      <td>25.300624</td>\n",
       "      <td>6.655590</td>\n",
       "      <td>42.866885</td>\n",
       "      <td>0.0</td>\n",
       "      <td>0.0</td>\n",
       "      <td>0.0</td>\n",
       "    </tr>\n",
       "    <tr>\n",
       "      <th>2001-03-31 04:59:59.999971200</th>\n",
       "      <td>730941.208333</td>\n",
       "      <td>36.227896</td>\n",
       "      <td>25.291787</td>\n",
       "      <td>7.105266</td>\n",
       "      <td>42.859806</td>\n",
       "      <td>0.0</td>\n",
       "      <td>0.0</td>\n",
       "      <td>0.0</td>\n",
       "    </tr>\n",
       "  </tbody>\n",
       "</table>\n",
       "</div>"
      ],
      "text/plain": [
       "                                        time        sss        sst  wind_spd  \\\n",
       "new_time                                                                       \n",
       "2001-03-31 01:00:00.000028800  730941.041667  36.224918  25.322590  7.257993   \n",
       "2001-03-31 01:59:59.999971200  730941.083333  36.225780  25.307935  7.517357   \n",
       "2001-03-31 03:00:00.000000000  730941.125000  36.227262  25.307050  7.063114   \n",
       "2001-03-31 04:00:00.000028800  730941.166667  36.227101  25.300624  6.655590   \n",
       "2001-03-31 04:59:59.999971200  730941.208333  36.227896  25.291787  7.105266   \n",
       "\n",
       "                                     mld  precip  cum_precip6  cum_precip3  \n",
       "new_time                                                                    \n",
       "2001-03-31 01:00:00.000028800  42.888125     0.0          0.0          0.0  \n",
       "2001-03-31 01:59:59.999971200  42.881045     0.0          0.0          0.0  \n",
       "2001-03-31 03:00:00.000000000  42.873965     0.0          0.0          0.0  \n",
       "2001-03-31 04:00:00.000028800  42.866885     0.0          0.0          0.0  \n",
       "2001-03-31 04:59:59.999971200  42.859806     0.0          0.0          0.0  "
      ]
     },
     "execution_count": 22,
     "metadata": {},
     "output_type": "execute_result"
    }
   ],
   "source": [
    "ntas = pd.read_csv('ntas.csv')\n",
    "ntas = ntas.set_index('new_time')\n",
    "print(ntas['precip'].sum())\n",
    "ntas.head()"
   ]
  },
  {
   "cell_type": "code",
   "execution_count": 23,
   "metadata": {
    "ExecuteTime": {
     "end_time": "2019-02-27T12:04:20.656983Z",
     "start_time": "2019-02-27T12:04:20.626331Z"
    }
   },
   "outputs": [
    {
     "data": {
      "text/html": [
       "<div>\n",
       "<style scoped>\n",
       "    .dataframe tbody tr th:only-of-type {\n",
       "        vertical-align: middle;\n",
       "    }\n",
       "\n",
       "    .dataframe tbody tr th {\n",
       "        vertical-align: top;\n",
       "    }\n",
       "\n",
       "    .dataframe thead th {\n",
       "        text-align: right;\n",
       "    }\n",
       "</style>\n",
       "<table border=\"1\" class=\"dataframe\">\n",
       "  <thead>\n",
       "    <tr style=\"text-align: right;\">\n",
       "      <th></th>\n",
       "      <th>precip</th>\n",
       "      <th>cum_precip3</th>\n",
       "    </tr>\n",
       "  </thead>\n",
       "  <tbody>\n",
       "    <tr>\n",
       "      <th>count</th>\n",
       "      <td>8169.000000</td>\n",
       "      <td>8169.000000</td>\n",
       "    </tr>\n",
       "    <tr>\n",
       "      <th>mean</th>\n",
       "      <td>0.044701</td>\n",
       "      <td>0.134102</td>\n",
       "    </tr>\n",
       "    <tr>\n",
       "      <th>std</th>\n",
       "      <td>0.430652</td>\n",
       "      <td>0.872563</td>\n",
       "    </tr>\n",
       "    <tr>\n",
       "      <th>min</th>\n",
       "      <td>0.000000</td>\n",
       "      <td>0.000000</td>\n",
       "    </tr>\n",
       "    <tr>\n",
       "      <th>25%</th>\n",
       "      <td>0.000000</td>\n",
       "      <td>0.000000</td>\n",
       "    </tr>\n",
       "    <tr>\n",
       "      <th>50%</th>\n",
       "      <td>0.000000</td>\n",
       "      <td>0.000000</td>\n",
       "    </tr>\n",
       "    <tr>\n",
       "      <th>75%</th>\n",
       "      <td>0.000000</td>\n",
       "      <td>0.000000</td>\n",
       "    </tr>\n",
       "    <tr>\n",
       "      <th>max</th>\n",
       "      <td>15.928774</td>\n",
       "      <td>18.802948</td>\n",
       "    </tr>\n",
       "  </tbody>\n",
       "</table>\n",
       "</div>"
      ],
      "text/plain": [
       "            precip  cum_precip3\n",
       "count  8169.000000  8169.000000\n",
       "mean      0.044701     0.134102\n",
       "std       0.430652     0.872563\n",
       "min       0.000000     0.000000\n",
       "25%       0.000000     0.000000\n",
       "50%       0.000000     0.000000\n",
       "75%       0.000000     0.000000\n",
       "max      15.928774    18.802948"
      ]
     },
     "execution_count": 23,
     "metadata": {},
     "output_type": "execute_result"
    }
   ],
   "source": [
    "ntas[['precip', 'cum_precip3']].describe()"
   ]
  },
  {
   "cell_type": "code",
   "execution_count": 25,
   "metadata": {
    "ExecuteTime": {
     "end_time": "2019-02-27T12:12:16.249242Z",
     "start_time": "2019-02-27T12:12:16.222855Z"
    }
   },
   "outputs": [
    {
     "name": "stdout",
     "output_type": "stream",
     "text": [
      "Substantive rainfall: 15.928773879325464 mm over 1 events\n",
      "Marginal rainfall: 21.84174295095084 mm over 358 events\n",
      "Rainfall: 118.08693571022722 mm over 183 events\n"
     ]
    }
   ],
   "source": [
    "large = ntas[ntas['precip'] > 15]\n",
    "print('Substantive rainfall:', large['precip'].sum(), 'mm over', large['precip'].count(), 'events')\n",
    "small = ntas[(ntas['precip'] > 0) & (ntas['precip'] < .21)]\n",
    "print('Marginal rainfall:', small['precip'].sum(), 'mm over', small['precip'].count(), 'events')\n",
    "other = ntas[(ntas['precip'] > .21) & (ntas['precip'] <= 2)]\n",
    "print('Rainfall:', other['precip'].sum(), 'mm over', other['precip'].count(), 'events')"
   ]
  },
  {
   "cell_type": "code",
   "execution_count": 26,
   "metadata": {
    "ExecuteTime": {
     "end_time": "2019-02-27T12:12:22.867893Z",
     "start_time": "2019-02-27T12:12:22.521738Z"
    }
   },
   "outputs": [
    {
     "data": {
      "text/plain": [
       "<matplotlib.collections.PathCollection at 0x19f17a228d0>"
      ]
     },
     "execution_count": 26,
     "metadata": {},
     "output_type": "execute_result"
    },
    {
     "data": {
      "image/png": "[encoded data removed]",
      "text/plain": [
       "<Figure size 432x288 with 1 Axes>"
      ]
     },
     "metadata": {
      "needs_background": "light"
     },
     "output_type": "display_data"
    }
   ],
   "source": [
    "plt.scatter(x=ntas['sss'], y=ntas['precip'])"
   ]
  },
  {
   "cell_type": "markdown",
   "metadata": {},
   "source": [
    "So here, there are very few instances of any rainfall over 8 mm in an hour."
   ]
  },
  {
   "cell_type": "code",
   "execution_count": 27,
   "metadata": {
    "ExecuteTime": {
     "end_time": "2019-02-27T12:12:24.201531Z",
     "start_time": "2019-02-27T12:12:23.401058Z"
    }
   },
   "outputs": [
    {
     "data": {
      "image/png": "[encoded data removed]",
      "text/plain": [
       "<Figure size 432x288 with 1 Axes>"
      ]
     },
     "metadata": {
      "needs_background": "light"
     },
     "output_type": "display_data"
    }
   ],
   "source": [
    "#plt.hist(data['precip'], bins=np.arange(0.01,0.2,0.01))\n",
    "#plt.xlim([0.01,0.21])\n",
    "(n, bins, patches) = plt.hist(ntas['precip'], bins=np.arange(0.001,16.251,0.25))\n",
    "plt.xlim([0.001,16.001])\n",
    "#plt.hist(data['precip'], bins=np.arange(15,35,3))\n",
    "plt.xscale('log')\n",
    "plt.show()\n",
    "bin_centers = bins[0:64] + 0.125\n",
    "#bin_centers\n",
    "#print(a)"
   ]
  },
  {
   "cell_type": "code",
   "execution_count": 28,
   "metadata": {
    "ExecuteTime": {
     "end_time": "2019-02-27T12:12:25.000997Z",
     "start_time": "2019-02-27T12:12:24.994767Z"
    }
   },
   "outputs": [
    {
     "data": {
      "text/plain": [
       "(64,)"
      ]
     },
     "execution_count": 28,
     "metadata": {},
     "output_type": "execute_result"
    }
   ],
   "source": [
    "n.shape"
   ]
  },
  {
   "cell_type": "code",
   "execution_count": 29,
   "metadata": {
    "ExecuteTime": {
     "end_time": "2019-02-27T12:12:25.568195Z",
     "start_time": "2019-02-27T12:12:25.298667Z"
    }
   },
   "outputs": [
    {
     "name": "stdout",
     "output_type": "stream",
     "text": [
      "[33.768 22.56  16.902 22.776 19.142 12.384  8.13  11.256  8.504 14.256\n",
      " 13.13   2.876  0.    10.128  7.252  3.876  4.126  4.376 18.504  9.752\n",
      "  0.     5.376  5.626 11.752  0.     6.376 13.252  0.    21.378 14.752\n",
      " 22.878  0.     0.     0.     0.     0.     0.     0.     0.     0.\n",
      "  0.     0.     0.     0.     0.     0.    11.626  0.     0.     0.\n",
      "  0.     0.     0.     0.     0.     0.     0.     0.     0.     0.\n",
      "  0.     0.     0.    15.876]\n"
     ]
    },
    {
     "data": {
      "text/plain": [
       "<matplotlib.collections.PathCollection at 0x19f19f34e10>"
      ]
     },
     "execution_count": 29,
     "metadata": {},
     "output_type": "execute_result"
    },
    {
     "data": {
      "image/png": "[encoded data removed]",
      "text/plain": [
       "<Figure size 432x288 with 1 Axes>"
      ]
     },
     "metadata": {
      "needs_background": "light"
     },
     "output_type": "display_data"
    }
   ],
   "source": [
    "sums = n*bin_centers\n",
    "print(sums)\n",
    "plt.scatter(x=bin_centers, y=sums)"
   ]
  },
  {
   "cell_type": "markdown",
   "metadata": {},
   "source": [
    "So here, there are very few large values that occur just once."
   ]
  },
  {
   "cell_type": "code",
   "execution_count": 30,
   "metadata": {
    "ExecuteTime": {
     "end_time": "2019-02-27T12:12:27.088980Z",
     "start_time": "2019-02-27T12:12:27.082500Z"
    }
   },
   "outputs": [
    {
     "data": {
      "text/plain": [
       "array([ 33.768,  56.328,  73.23 ,  96.006, 115.148, 127.532, 135.662,\n",
       "       146.918, 155.422, 169.678, 182.808, 185.684, 185.684, 195.812,\n",
       "       203.064, 206.94 , 211.066, 215.442, 233.946, 243.698, 243.698,\n",
       "       249.074, 254.7  , 266.452, 266.452, 272.828, 286.08 , 286.08 ,\n",
       "       307.458, 322.21 , 345.088, 345.088, 345.088, 345.088, 345.088,\n",
       "       345.088, 345.088, 345.088, 345.088, 345.088, 345.088, 345.088,\n",
       "       345.088, 345.088, 345.088, 345.088, 356.714, 356.714, 356.714,\n",
       "       356.714, 356.714, 356.714, 356.714, 356.714, 356.714, 356.714,\n",
       "       356.714, 356.714, 356.714, 356.714, 356.714, 356.714, 356.714,\n",
       "       372.59 ])"
      ]
     },
     "execution_count": 30,
     "metadata": {},
     "output_type": "execute_result"
    }
   ],
   "source": [
    "sums.cumsum()"
   ]
  },
  {
   "cell_type": "markdown",
   "metadata": {},
   "source": [
    "And again, we see that this is a valid reflection of the actual summed rainfall for the NTAS buoy"
   ]
  },
  {
   "cell_type": "code",
   "execution_count": 31,
   "metadata": {
    "ExecuteTime": {
     "end_time": "2019-02-27T12:12:29.784690Z",
     "start_time": "2019-02-27T12:12:29.203701Z"
    }
   },
   "outputs": [
    {
     "data": {
      "image/png": "[encoded data removed]",
      "text/plain": [
       "<Figure size 792x576 with 1 Axes>"
      ]
     },
     "metadata": {
      "needs_background": "light"
     },
     "output_type": "display_data"
    }
   ],
   "source": [
    "_, ax = plt.subplots(figsize=(11,8))\n",
    "plt.bar(x=bin_centers, height=sums)\n",
    "plt.xlabel('Rain rate (mm/hr)')\n",
    "plt.ylabel('Total rainfall (mm)')\n",
    "plt.title('Spurs1 Total Rainfall')\n",
    "plt.xticks(np.arange(0,17,1));"
   ]
  },
  {
   "cell_type": "code",
   "execution_count": 32,
   "metadata": {
    "ExecuteTime": {
     "end_time": "2019-02-27T12:12:32.033787Z",
     "start_time": "2019-02-27T12:12:31.813946Z"
    }
   },
   "outputs": [
    {
     "data": {
      "image/png": "[encoded data removed]",
      "text/plain": [
       "<Figure size 432x288 with 1 Axes>"
      ]
     },
     "metadata": {
      "needs_background": "light"
     },
     "output_type": "display_data"
    }
   ],
   "source": [
    "fullsum = sums.cumsum()/sums.sum()\n",
    "halfsum = (sums.cumsum()/sums.sum())[:33]\n",
    "plt.plot(fullsum)\n",
    "plt.axhline(y=.5, color='r')\n",
    "plt.xlabel('Rain rate (mm/hr)')\n",
    "plt.ylabel('Total rainfall (mm)')\n",
    "plt.title('Spurs1 Cumulative Rainfall');"
   ]
  },
  {
   "cell_type": "code",
   "execution_count": 34,
   "metadata": {
    "ExecuteTime": {
     "end_time": "2019-02-27T12:12:46.499068Z",
     "start_time": "2019-02-27T12:12:46.302341Z"
    }
   },
   "outputs": [
    {
     "data": {
      "image/png": "[encoded data removed]",
      "text/plain": [
       "<Figure size 432x288 with 1 Axes>"
      ]
     },
     "metadata": {
      "needs_background": "light"
     },
     "output_type": "display_data"
    }
   ],
   "source": [
    "plt.plot(halfsum)\n",
    "plt.axhline(y=.5, color='r')\n",
    "plt.axvline(x=11, color='r')\n",
    "plt.xlabel('Rain rate (mm/hr)')\n",
    "plt.ylabel('Total rainfall (mm)')\n",
    "plt.title('Spurs1 Cumulative Rainfall');"
   ]
  },
  {
   "cell_type": "markdown",
   "metadata": {},
   "source": [
    "## WHOTS Set"
   ]
  },
  {
   "cell_type": "code",
   "execution_count": 3,
   "metadata": {
    "ExecuteTime": {
     "end_time": "2019-02-27T11:57:28.243074Z",
     "start_time": "2019-02-27T11:57:27.711325Z"
    }
   },
   "outputs": [
    {
     "name": "stdout",
     "output_type": "stream",
     "text": [
      "899.9853937686307\n"
     ]
    },
    {
     "data": {
      "text/html": [
       "<div>\n",
       "<style scoped>\n",
       "    .dataframe tbody tr th:only-of-type {\n",
       "        vertical-align: middle;\n",
       "    }\n",
       "\n",
       "    .dataframe tbody tr th {\n",
       "        vertical-align: top;\n",
       "    }\n",
       "\n",
       "    .dataframe thead th {\n",
       "        text-align: right;\n",
       "    }\n",
       "</style>\n",
       "<table border=\"1\" class=\"dataframe\">\n",
       "  <thead>\n",
       "    <tr style=\"text-align: right;\">\n",
       "      <th></th>\n",
       "      <th>time</th>\n",
       "      <th>sss</th>\n",
       "      <th>sst</th>\n",
       "      <th>wind_spd</th>\n",
       "      <th>mld</th>\n",
       "      <th>precip</th>\n",
       "      <th>cum_precip6</th>\n",
       "      <th>cum_precip3</th>\n",
       "    </tr>\n",
       "    <tr>\n",
       "      <th>new_time</th>\n",
       "      <th></th>\n",
       "      <th></th>\n",
       "      <th></th>\n",
       "      <th></th>\n",
       "      <th></th>\n",
       "      <th></th>\n",
       "      <th></th>\n",
       "      <th></th>\n",
       "    </tr>\n",
       "  </thead>\n",
       "  <tbody>\n",
       "    <tr>\n",
       "      <th>2004-08-13 04:00:00.000028800</th>\n",
       "      <td>732172.166667</td>\n",
       "      <td>34.825873</td>\n",
       "      <td>26.888086</td>\n",
       "      <td>7.918918</td>\n",
       "      <td>38.233802</td>\n",
       "      <td>0.000000</td>\n",
       "      <td>0.0</td>\n",
       "      <td>0.000000</td>\n",
       "    </tr>\n",
       "    <tr>\n",
       "      <th>2004-08-13 04:59:59.999971200</th>\n",
       "      <td>732172.208333</td>\n",
       "      <td>34.824762</td>\n",
       "      <td>26.865158</td>\n",
       "      <td>7.506199</td>\n",
       "      <td>38.236220</td>\n",
       "      <td>0.000000</td>\n",
       "      <td>0.0</td>\n",
       "      <td>0.000000</td>\n",
       "    </tr>\n",
       "    <tr>\n",
       "      <th>2004-08-13 06:00:00.000000000</th>\n",
       "      <td>732172.250000</td>\n",
       "      <td>34.825625</td>\n",
       "      <td>26.856876</td>\n",
       "      <td>8.299770</td>\n",
       "      <td>38.238638</td>\n",
       "      <td>0.000000</td>\n",
       "      <td>0.0</td>\n",
       "      <td>0.000000</td>\n",
       "    </tr>\n",
       "    <tr>\n",
       "      <th>2004-08-13 07:00:00.000028800</th>\n",
       "      <td>732172.291667</td>\n",
       "      <td>34.826258</td>\n",
       "      <td>26.842372</td>\n",
       "      <td>8.377580</td>\n",
       "      <td>38.241056</td>\n",
       "      <td>0.000000</td>\n",
       "      <td>0.0</td>\n",
       "      <td>0.000000</td>\n",
       "    </tr>\n",
       "    <tr>\n",
       "      <th>2004-08-13 07:59:59.999971200</th>\n",
       "      <td>732172.333333</td>\n",
       "      <td>34.825453</td>\n",
       "      <td>26.828082</td>\n",
       "      <td>8.759666</td>\n",
       "      <td>38.243474</td>\n",
       "      <td>0.350616</td>\n",
       "      <td>0.0</td>\n",
       "      <td>0.350616</td>\n",
       "    </tr>\n",
       "  </tbody>\n",
       "</table>\n",
       "</div>"
      ],
      "text/plain": [
       "                                        time        sss        sst  wind_spd  \\\n",
       "new_time                                                                       \n",
       "2004-08-13 04:00:00.000028800  732172.166667  34.825873  26.888086  7.918918   \n",
       "2004-08-13 04:59:59.999971200  732172.208333  34.824762  26.865158  7.506199   \n",
       "2004-08-13 06:00:00.000000000  732172.250000  34.825625  26.856876  8.299770   \n",
       "2004-08-13 07:00:00.000028800  732172.291667  34.826258  26.842372  8.377580   \n",
       "2004-08-13 07:59:59.999971200  732172.333333  34.825453  26.828082  8.759666   \n",
       "\n",
       "                                     mld    precip  cum_precip6  cum_precip3  \n",
       "new_time                                                                      \n",
       "2004-08-13 04:00:00.000028800  38.233802  0.000000          0.0     0.000000  \n",
       "2004-08-13 04:59:59.999971200  38.236220  0.000000          0.0     0.000000  \n",
       "2004-08-13 06:00:00.000000000  38.238638  0.000000          0.0     0.000000  \n",
       "2004-08-13 07:00:00.000028800  38.241056  0.000000          0.0     0.000000  \n",
       "2004-08-13 07:59:59.999971200  38.243474  0.350616          0.0     0.350616  "
      ]
     },
     "execution_count": 3,
     "metadata": {},
     "output_type": "execute_result"
    }
   ],
   "source": [
    "whots = pd.read_csv('whots.csv')\n",
    "whots = whots.set_index('new_time')\n",
    "print(whots['precip'].sum())\n",
    "whots.head()"
   ]
  },
  {
   "cell_type": "code",
   "execution_count": 4,
   "metadata": {
    "ExecuteTime": {
     "end_time": "2019-02-27T11:57:28.744670Z",
     "start_time": "2019-02-27T11:57:28.329648Z"
    }
   },
   "outputs": [
    {
     "data": {
      "text/html": [
       "<div>\n",
       "<style scoped>\n",
       "    .dataframe tbody tr th:only-of-type {\n",
       "        vertical-align: middle;\n",
       "    }\n",
       "\n",
       "    .dataframe tbody tr th {\n",
       "        vertical-align: top;\n",
       "    }\n",
       "\n",
       "    .dataframe thead th {\n",
       "        text-align: right;\n",
       "    }\n",
       "</style>\n",
       "<table border=\"1\" class=\"dataframe\">\n",
       "  <thead>\n",
       "    <tr style=\"text-align: right;\">\n",
       "      <th></th>\n",
       "      <th>precip</th>\n",
       "      <th>cum_precip3</th>\n",
       "    </tr>\n",
       "  </thead>\n",
       "  <tbody>\n",
       "    <tr>\n",
       "      <th>count</th>\n",
       "      <td>8317.000000</td>\n",
       "      <td>8317.000000</td>\n",
       "    </tr>\n",
       "    <tr>\n",
       "      <th>mean</th>\n",
       "      <td>0.108210</td>\n",
       "      <td>0.324631</td>\n",
       "    </tr>\n",
       "    <tr>\n",
       "      <th>std</th>\n",
       "      <td>1.288135</td>\n",
       "      <td>3.146083</td>\n",
       "    </tr>\n",
       "    <tr>\n",
       "      <th>min</th>\n",
       "      <td>0.000000</td>\n",
       "      <td>0.000000</td>\n",
       "    </tr>\n",
       "    <tr>\n",
       "      <th>25%</th>\n",
       "      <td>0.000000</td>\n",
       "      <td>0.000000</td>\n",
       "    </tr>\n",
       "    <tr>\n",
       "      <th>50%</th>\n",
       "      <td>0.000000</td>\n",
       "      <td>0.000000</td>\n",
       "    </tr>\n",
       "    <tr>\n",
       "      <th>75%</th>\n",
       "      <td>0.000000</td>\n",
       "      <td>0.000000</td>\n",
       "    </tr>\n",
       "    <tr>\n",
       "      <th>max</th>\n",
       "      <td>58.250181</td>\n",
       "      <td>119.649075</td>\n",
       "    </tr>\n",
       "  </tbody>\n",
       "</table>\n",
       "</div>"
      ],
      "text/plain": [
       "            precip  cum_precip3\n",
       "count  8317.000000  8317.000000\n",
       "mean      0.108210     0.324631\n",
       "std       1.288135     3.146083\n",
       "min       0.000000     0.000000\n",
       "25%       0.000000     0.000000\n",
       "50%       0.000000     0.000000\n",
       "75%       0.000000     0.000000\n",
       "max      58.250181   119.649075"
      ]
     },
     "execution_count": 4,
     "metadata": {},
     "output_type": "execute_result"
    }
   ],
   "source": [
    "whots[['precip', 'cum_precip3']].describe()"
   ]
  },
  {
   "cell_type": "code",
   "execution_count": 13,
   "metadata": {
    "ExecuteTime": {
     "end_time": "2019-02-27T12:03:09.875355Z",
     "start_time": "2019-02-27T12:03:09.847760Z"
    }
   },
   "outputs": [
    {
     "name": "stdout",
     "output_type": "stream",
     "text": [
      "Substantive rainfall: 329.8583652542303 mm over 12 events\n",
      "Marginal rainfall: 30.75673068121871 mm over 324 events\n",
      "Normal rainfall: 188.21578865681337 mm over 307 events\n"
     ]
    }
   ],
   "source": [
    "large = whots[whots['precip'] > 15]\n",
    "print('Substantive rainfall:', large['precip'].sum(), 'mm over' ,large['precip'].count(), 'events')\n",
    "small = whots[(whots['precip'] > 0) & (whots['precip'] < .21)]\n",
    "print('Marginal rainfall:', small['precip'].sum(), 'mm over', small['precip'].count(), 'events')\n",
    "other = whots[(whots['precip'] > .21) & (whots['precip'] < 2)]\n",
    "print('Normal rainfall:', other['precip'].sum(), 'mm over', other['precip'].count(), 'events')\n"
   ]
  },
  {
   "cell_type": "markdown",
   "metadata": {},
   "source": [
    "So here we see that there are a whopping 12 rain events greater than 15 mm per hour, and that they make up almost 330 millimeters. This is a giant gap compared to the very small rain events."
   ]
  },
  {
   "cell_type": "code",
   "execution_count": 14,
   "metadata": {
    "ExecuteTime": {
     "end_time": "2019-02-27T12:03:29.110027Z",
     "start_time": "2019-02-27T12:03:28.165909Z"
    }
   },
   "outputs": [
    {
     "data": {
      "text/plain": [
       "<matplotlib.collections.PathCollection at 0x19f1760afd0>"
      ]
     },
     "execution_count": 14,
     "metadata": {},
     "output_type": "execute_result"
    },
    {
     "data": {
      "image/png": "[encoded data removed]",
      "text/plain": [
       "<Figure size 432x288 with 1 Axes>"
      ]
     },
     "metadata": {
      "needs_background": "light"
     },
     "output_type": "display_data"
    }
   ],
   "source": [
    "plt.scatter(x=whots['sss'], y=whots['precip'])"
   ]
  },
  {
   "cell_type": "markdown",
   "metadata": {},
   "source": [
    "This is an interesting plot; we see that there is not much variability in salinity for most of the set, but where there is noticeable difference there is always a rain event."
   ]
  },
  {
   "cell_type": "code",
   "execution_count": 15,
   "metadata": {
    "ExecuteTime": {
     "end_time": "2019-02-27T12:03:33.825905Z",
     "start_time": "2019-02-27T12:03:31.982661Z"
    }
   },
   "outputs": [
    {
     "data": {
      "image/png": "[encoded data removed]",
      "text/plain": [
       "<Figure size 432x288 with 1 Axes>"
      ]
     },
     "metadata": {
      "needs_background": "light"
     },
     "output_type": "display_data"
    }
   ],
   "source": [
    "#plt.hist(data['precip'], bins=np.arange(0.01,0.2,0.01))\n",
    "#plt.xlim([0.01,0.21])\n",
    "(n, bins, patches) = plt.hist(whots['precip'], bins=np.arange(0.001,59.21,0.6))\n",
    "plt.xlim([0.001,58.001])\n",
    "#plt.hist(data['precip'], bins=np.arange(15,35,3))\n",
    "plt.xscale('log')\n",
    "plt.show()\n",
    "bin_centers = bins[0:98] + 0.3\n",
    "#bin_centers\n",
    "#print(a)"
   ]
  },
  {
   "cell_type": "code",
   "execution_count": 16,
   "metadata": {
    "ExecuteTime": {
     "end_time": "2019-02-27T12:03:35.092174Z",
     "start_time": "2019-02-27T12:03:34.764704Z"
    }
   },
   "outputs": [
    {
     "name": "stdout",
     "output_type": "stream",
     "text": [
      "[156.219  64.872  49.533  33.616  43.216  13.204  15.604  13.503  35.707\n",
      "  17.103   0.      0.     30.004  32.404   0.     18.602  49.505  10.501\n",
      "  11.101   0.      0.      0.      0.     14.101  29.402  15.301  15.901\n",
      "   0.     17.101  17.701  18.301   0.      0.     20.101   0.     21.301\n",
      "   0.      0.      0.      0.      0.      0.      0.      0.      0.\n",
      "   0.      0.      0.      0.      0.     30.301   0.      0.      0.\n",
      "  32.701   0.      0.      0.      0.      0.      0.      0.     37.501\n",
      "   0.      0.      0.      0.      0.      0.      0.      0.      0.\n",
      "   0.      0.      0.      0.     45.901   0.      0.      0.      0.\n",
      "   0.      0.      0.      0.      0.      0.      0.      0.      0.\n",
      "   0.      0.      0.      0.      0.      0.      0.     58.501]\n"
     ]
    },
    {
     "data": {
      "text/plain": [
       "<matplotlib.collections.PathCollection at 0x19f18322470>"
      ]
     },
     "execution_count": 16,
     "metadata": {},
     "output_type": "execute_result"
    },
    {
     "data": {
      "image/png": "[encoded data removed]",
      "text/plain": [
       "<Figure size 432x288 with 1 Axes>"
      ]
     },
     "metadata": {
      "needs_background": "light"
     },
     "output_type": "display_data"
    }
   ],
   "source": [
    "sums = n*bin_centers\n",
    "print(sums)\n",
    "plt.scatter(x=bin_centers, y=sums)"
   ]
  },
  {
   "cell_type": "code",
   "execution_count": 17,
   "metadata": {
    "ExecuteTime": {
     "end_time": "2019-02-27T12:03:35.873526Z",
     "start_time": "2019-02-27T12:03:35.859373Z"
    }
   },
   "outputs": [
    {
     "data": {
      "text/plain": [
       "array([156.219, 221.091, 270.624, 304.24 , 347.456, 360.66 , 376.264,\n",
       "       389.767, 425.474, 442.577, 442.577, 442.577, 472.581, 504.985,\n",
       "       504.985, 523.587, 573.092, 583.593, 594.694, 594.694, 594.694,\n",
       "       594.694, 594.694, 608.795, 638.197, 653.498, 669.399, 669.399,\n",
       "       686.5  , 704.201, 722.502, 722.502, 722.502, 742.603, 742.603,\n",
       "       763.904, 763.904, 763.904, 763.904, 763.904, 763.904, 763.904,\n",
       "       763.904, 763.904, 763.904, 763.904, 763.904, 763.904, 763.904,\n",
       "       763.904, 794.205, 794.205, 794.205, 794.205, 826.906, 826.906,\n",
       "       826.906, 826.906, 826.906, 826.906, 826.906, 826.906, 864.407,\n",
       "       864.407, 864.407, 864.407, 864.407, 864.407, 864.407, 864.407,\n",
       "       864.407, 864.407, 864.407, 864.407, 864.407, 864.407, 910.308,\n",
       "       910.308, 910.308, 910.308, 910.308, 910.308, 910.308, 910.308,\n",
       "       910.308, 910.308, 910.308, 910.308, 910.308, 910.308, 910.308,\n",
       "       910.308, 910.308, 910.308, 910.308, 910.308, 910.308, 968.809])"
      ]
     },
     "execution_count": 17,
     "metadata": {},
     "output_type": "execute_result"
    }
   ],
   "source": [
    "sums.cumsum()"
   ]
  },
  {
   "cell_type": "code",
   "execution_count": 18,
   "metadata": {
    "ExecuteTime": {
     "end_time": "2019-02-27T12:03:38.808631Z",
     "start_time": "2019-02-27T12:03:36.838497Z"
    }
   },
   "outputs": [
    {
     "data": {
      "image/png": "[encoded data removed]",
      "text/plain": [
       "<Figure size 936x720 with 1 Axes>"
      ]
     },
     "metadata": {
      "needs_background": "light"
     },
     "output_type": "display_data"
    }
   ],
   "source": [
    "_, ax = plt.subplots(figsize=(13,10))\n",
    "plt.bar(x=bin_centers, height=sums)\n",
    "plt.xlabel('Rain rate (mm/hr)')\n",
    "plt.ylabel('Total rainfall (mm)')\n",
    "plt.title('WHOTS Total Rainfall')\n",
    "plt.xticks(np.arange(0,60,1));"
   ]
  },
  {
   "cell_type": "code",
   "execution_count": 19,
   "metadata": {
    "ExecuteTime": {
     "end_time": "2019-02-27T12:03:42.074484Z",
     "start_time": "2019-02-27T12:03:41.787480Z"
    }
   },
   "outputs": [
    {
     "data": {
      "image/png": "[encoded data removed]",
      "text/plain": [
       "<Figure size 432x288 with 1 Axes>"
      ]
     },
     "metadata": {
      "needs_background": "light"
     },
     "output_type": "display_data"
    }
   ],
   "source": [
    "fullsum = sums.cumsum()/sums.sum()\n",
    "halfsum = (sums.cumsum()/sums.sum())[:50]\n",
    "plt.plot(fullsum)\n",
    "plt.axhline(y=.5, color='r')\n",
    "plt.xlabel('Rain rate (mm/hr)')\n",
    "plt.ylabel('Total rainfall (mm)')\n",
    "plt.title('WHOTS Cumulative Rainfall');"
   ]
  },
  {
   "cell_type": "code",
   "execution_count": 20,
   "metadata": {
    "ExecuteTime": {
     "end_time": "2019-02-27T12:03:42.824307Z",
     "start_time": "2019-02-27T12:03:42.507105Z"
    }
   },
   "outputs": [
    {
     "data": {
      "image/png": "[encoded data removed]",
      "text/plain": [
       "<Figure size 432x288 with 1 Axes>"
      ]
     },
     "metadata": {
      "needs_background": "light"
     },
     "output_type": "display_data"
    }
   ],
   "source": [
    "plt.plot(halfsum)\n",
    "plt.axhline(y=.5, color='r')\n",
    "plt.axvline(x=12.3, color='r')\n",
    "plt.xlabel('Rain rate (mm/hr)')\n",
    "plt.ylabel('Total rainfall (mm)')\n",
    "plt.title('WHOTS Cumulative Rainfall');"
   ]
  },
  {
   "cell_type": "markdown",
   "metadata": {},
   "source": [
    "Surprisingly enough, even with the huge variability and amount of large rain events, the 50% mark of total cumulative rainfall still lies around 12.3 millimeters/hr, which is similar to everything else we've seen."
   ]
  },
  {
   "cell_type": "markdown",
   "metadata": {},
   "source": [
    "## TPOS Set"
   ]
  },
  {
   "cell_type": "code",
   "execution_count": null,
   "metadata": {},
   "outputs": [],
   "source": []
  }
 ],
 "metadata": {
  "kernelspec": {
   "display_name": "Python 3",
   "language": "python",
   "name": "python3"
  },
  "language_info": {
   "codemirror_mode": {
    "name": "ipython",
    "version": 3
   },
   "file_extension": ".py",
   "mimetype": "text/x-python",
   "name": "python",
   "nbconvert_exporter": "python",
   "pygments_lexer": "ipython3",
   "version": "3.6.8"
  },
  "toc": {
   "base_numbering": 1,
   "nav_menu": {},
   "number_sections": true,
   "sideBar": true,
   "skip_h1_title": false,
   "title_cell": "Table of Contents",
   "title_sidebar": "Contents",
   "toc_cell": false,
   "toc_position": {},
   "toc_section_display": true,
   "toc_window_display": true
  },
  "varInspector": {
   "cols": {
    "lenName": 16,
    "lenType": 16,
    "lenVar": 40
   },
   "kernels_config": {
    "python": {
     "delete_cmd_postfix": "",
     "delete_cmd_prefix": "del ",
     "library": "var_list.py",
     "varRefreshCmd": "print(var_dic_list())"
    },
    "r": {
     "delete_cmd_postfix": ") ",
     "delete_cmd_prefix": "rm(",
     "library": "var_list.r",
     "varRefreshCmd": "cat(var_dic_list()) "
    }
   },
   "types_to_exclude": [
    "module",
    "function",
    "builtin_function_or_method",
    "instance",
    "_Feature"
   ],
   "window_display": false
  }
 },
 "nbformat": 4,
 "nbformat_minor": 2
}
