{
 "cells": [
  {
   "cell_type": "markdown",
   "metadata": {},
   "source": [
    "# Reading in Data From Matlab"
   ]
  },
  {
   "cell_type": "code",
   "execution_count": 1,
   "metadata": {
    "ExecuteTime": {
     "end_time": "2019-02-22T02:39:35.542986Z",
     "start_time": "2019-02-22T02:38:47.970584Z"
    }
   },
   "outputs": [],
   "source": [
    "import numpy as np\n",
    "import pandas as pd\n",
    "import matplotlib.pyplot as plt\n",
    "import tensorflow as tf\n",
    "import scipy.io as sio\n",
    "import seaborn as sns\n",
    "%matplotlib inline"
   ]
  },
  {
   "cell_type": "code",
   "execution_count": 2,
   "metadata": {
    "ExecuteTime": {
     "end_time": "2019-02-22T02:39:35.708199Z",
     "start_time": "2019-02-22T02:39:35.565217Z"
    }
   },
   "outputs": [],
   "source": [
    "spurs1 = sio.loadmat('spurs1_sss_precip_wind.mat')\n",
    "spurs2 = sio.loadmat('spurs2_sss_precip_wind.mat')"
   ]
  },
  {
   "cell_type": "code",
   "execution_count": 3,
   "metadata": {
    "ExecuteTime": {
     "end_time": "2019-02-22T02:39:36.145072Z",
     "start_time": "2019-02-22T02:39:35.780109Z"
    }
   },
   "outputs": [
    {
     "data": {
      "text/html": [
       "<div>\n",
       "<style scoped>\n",
       "    .dataframe tbody tr th:only-of-type {\n",
       "        vertical-align: middle;\n",
       "    }\n",
       "\n",
       "    .dataframe tbody tr th {\n",
       "        vertical-align: top;\n",
       "    }\n",
       "\n",
       "    .dataframe thead th {\n",
       "        text-align: right;\n",
       "    }\n",
       "</style>\n",
       "<table border=\"1\" class=\"dataframe\">\n",
       "  <thead>\n",
       "    <tr style=\"text-align: right;\">\n",
       "      <th></th>\n",
       "      <th>time</th>\n",
       "      <th>sss</th>\n",
       "      <th>sst</th>\n",
       "      <th>precip</th>\n",
       "      <th>wind_spd</th>\n",
       "      <th>wind_dir</th>\n",
       "      <th>cum_precip3</th>\n",
       "      <th>cum_precip6</th>\n",
       "    </tr>\n",
       "  </thead>\n",
       "  <tbody>\n",
       "    <tr>\n",
       "      <th>0</th>\n",
       "      <td>[[735126.8541666667], [735126.8958333334], [73...</td>\n",
       "      <td>[[37.76821725535747], [37.7672907861594], [37....</td>\n",
       "      <td>[[27.88650273367723], [27.79417054791615], [27...</td>\n",
       "      <td>[[0.0], [0.0], [0.0], [0.0], [0.0], [0.0], [0....</td>\n",
       "      <td>[[3.171526517031759], [3.5115902949650715], [4...</td>\n",
       "      <td>[[-70.40256567460615], [-78.65223135098692], [...</td>\n",
       "      <td>[[nan], [nan], [0.0], [0.0], [0.0], [0.0], [0....</td>\n",
       "      <td>[[nan], [nan], [nan], [nan], [nan], [0.0], [0....</td>\n",
       "    </tr>\n",
       "  </tbody>\n",
       "</table>\n",
       "</div>"
      ],
      "text/plain": [
       "                                                time  \\\n",
       "0  [[735126.8541666667], [735126.8958333334], [73...   \n",
       "\n",
       "                                                 sss  \\\n",
       "0  [[37.76821725535747], [37.7672907861594], [37....   \n",
       "\n",
       "                                                 sst  \\\n",
       "0  [[27.88650273367723], [27.79417054791615], [27...   \n",
       "\n",
       "                                              precip  \\\n",
       "0  [[0.0], [0.0], [0.0], [0.0], [0.0], [0.0], [0....   \n",
       "\n",
       "                                            wind_spd  \\\n",
       "0  [[3.171526517031759], [3.5115902949650715], [4...   \n",
       "\n",
       "                                            wind_dir  \\\n",
       "0  [[-70.40256567460615], [-78.65223135098692], [...   \n",
       "\n",
       "                                         cum_precip3  \\\n",
       "0  [[nan], [nan], [0.0], [0.0], [0.0], [0.0], [0....   \n",
       "\n",
       "                                         cum_precip6  \n",
       "0  [[nan], [nan], [nan], [nan], [nan], [0.0], [0....  "
      ]
     },
     "execution_count": 3,
     "metadata": {},
     "output_type": "execute_result"
    }
   ],
   "source": [
    "df = pd.DataFrame(np.hstack(spurs1['spurs1_data'][:,0]))\n",
    "df"
   ]
  },
  {
   "cell_type": "code",
   "execution_count": 4,
   "metadata": {
    "ExecuteTime": {
     "end_time": "2019-02-22T02:39:36.609158Z",
     "start_time": "2019-02-22T02:39:36.333783Z"
    }
   },
   "outputs": [
    {
     "data": {
      "text/html": [
       "<div>\n",
       "<style scoped>\n",
       "    .dataframe tbody tr th:only-of-type {\n",
       "        vertical-align: middle;\n",
       "    }\n",
       "\n",
       "    .dataframe tbody tr th {\n",
       "        vertical-align: top;\n",
       "    }\n",
       "\n",
       "    .dataframe thead th {\n",
       "        text-align: right;\n",
       "    }\n",
       "</style>\n",
       "<table border=\"1\" class=\"dataframe\">\n",
       "  <thead>\n",
       "    <tr style=\"text-align: right;\">\n",
       "      <th></th>\n",
       "      <th>time</th>\n",
       "      <th>sss</th>\n",
       "      <th>sst</th>\n",
       "      <th>precip</th>\n",
       "      <th>wind_spd</th>\n",
       "      <th>wind_dir</th>\n",
       "      <th>cum_precip3</th>\n",
       "      <th>cum_precip6</th>\n",
       "    </tr>\n",
       "  </thead>\n",
       "  <tbody>\n",
       "    <tr>\n",
       "      <th>0</th>\n",
       "      <td>[[736566.1041666667], [736566.1458333334], [73...</td>\n",
       "      <td>[[32.78581320837813], [32.78952749432496], [32...</td>\n",
       "      <td>[[29.972727771803747], [30.088739078063007], [...</td>\n",
       "      <td>[[0.0], [0.0], [10.613046646917608], [1.210006...</td>\n",
       "      <td>[[1.4993049364106], [2.2011608470558626], [4.6...</td>\n",
       "      <td>[[-35.279577496102746], [-44.30044423240883], ...</td>\n",
       "      <td>[[nan], [nan], [10.613046646917608], [11.82305...</td>\n",
       "      <td>[[nan], [nan], [nan], [nan], [nan], [11.823053...</td>\n",
       "    </tr>\n",
       "  </tbody>\n",
       "</table>\n",
       "</div>"
      ],
      "text/plain": [
       "                                                time  \\\n",
       "0  [[736566.1041666667], [736566.1458333334], [73...   \n",
       "\n",
       "                                                 sss  \\\n",
       "0  [[32.78581320837813], [32.78952749432496], [32...   \n",
       "\n",
       "                                                 sst  \\\n",
       "0  [[29.972727771803747], [30.088739078063007], [...   \n",
       "\n",
       "                                              precip  \\\n",
       "0  [[0.0], [0.0], [10.613046646917608], [1.210006...   \n",
       "\n",
       "                                            wind_spd  \\\n",
       "0  [[1.4993049364106], [2.2011608470558626], [4.6...   \n",
       "\n",
       "                                            wind_dir  \\\n",
       "0  [[-35.279577496102746], [-44.30044423240883], ...   \n",
       "\n",
       "                                         cum_precip3  \\\n",
       "0  [[nan], [nan], [10.613046646917608], [11.82305...   \n",
       "\n",
       "                                         cum_precip6  \n",
       "0  [[nan], [nan], [nan], [nan], [nan], [11.823053...  "
      ]
     },
     "execution_count": 4,
     "metadata": {},
     "output_type": "execute_result"
    }
   ],
   "source": [
    "df2 = pd.DataFrame(np.hstack(spurs2['spurs1_data'][:,0]))\n",
    "df2"
   ]
  },
  {
   "cell_type": "markdown",
   "metadata": {},
   "source": [
    "Making a function to read in all the data..."
   ]
  },
  {
   "cell_type": "code",
   "execution_count": 6,
   "metadata": {
    "ExecuteTime": {
     "end_time": "2019-02-22T02:40:30.755824Z",
     "start_time": "2019-02-22T02:40:30.748101Z"
    }
   },
   "outputs": [],
   "source": [
    "def extract(col):\n",
    "    y = []\n",
    "    for i in range(0, 9133):\n",
    "        y.append(df[col][0][i][0])\n",
    "    return y"
   ]
  },
  {
   "cell_type": "code",
   "execution_count": 7,
   "metadata": {
    "ExecuteTime": {
     "end_time": "2019-02-22T02:40:38.155174Z",
     "start_time": "2019-02-22T02:40:38.139468Z"
    }
   },
   "outputs": [],
   "source": [
    "def extract2(col):\n",
    "    y = []\n",
    "    for i in range(0, 10459):\n",
    "        y.append(df2[col][0][i][0])\n",
    "    return y"
   ]
  },
  {
   "cell_type": "code",
   "execution_count": 8,
   "metadata": {
    "ExecuteTime": {
     "end_time": "2019-02-22T02:44:10.514536Z",
     "start_time": "2019-02-22T02:44:05.549811Z"
    }
   },
   "outputs": [],
   "source": [
    "## For Spurs1:\n",
    "time = extract('time')\n",
    "sst = extract('sst')\n",
    "sss = extract('sss')\n",
    "precip = extract('precip')\n",
    "wind_spd = extract('wind_spd')\n",
    "wind_dir = extract('wind_dir')\n",
    "cum_precip3 = extract('cum_precip3')\n",
    "cum_precip6 = extract('cum_precip6')\n",
    "\n",
    "## For Spurs2:\n",
    "time2 = extract2('time')\n",
    "sst2 = extract2('sst')\n",
    "sss2 = extract2('sss')\n",
    "precip2 = extract2('precip')\n",
    "wind_spd2 = extract2('wind_spd')\n",
    "wind_dir2 = extract2('wind_dir')\n",
    "cum_precip32 = extract2('cum_precip3')\n",
    "cum_precip62 = extract2('cum_precip6')"
   ]
  },
  {
   "cell_type": "code",
   "execution_count": 10,
   "metadata": {
    "ExecuteTime": {
     "end_time": "2019-02-22T02:47:49.363015Z",
     "start_time": "2019-02-22T02:47:47.887830Z"
    }
   },
   "outputs": [
    {
     "data": {
      "text/html": [
       "<div>\n",
       "<style scoped>\n",
       "    .dataframe tbody tr th:only-of-type {\n",
       "        vertical-align: middle;\n",
       "    }\n",
       "\n",
       "    .dataframe tbody tr th {\n",
       "        vertical-align: top;\n",
       "    }\n",
       "\n",
       "    .dataframe thead th {\n",
       "        text-align: right;\n",
       "    }\n",
       "</style>\n",
       "<table border=\"1\" class=\"dataframe\">\n",
       "  <thead>\n",
       "    <tr style=\"text-align: right;\">\n",
       "      <th></th>\n",
       "      <th>time</th>\n",
       "      <th>sss</th>\n",
       "      <th>sst</th>\n",
       "      <th>wind_spd</th>\n",
       "      <th>wind_dir</th>\n",
       "      <th>precip</th>\n",
       "      <th>cum_precip3</th>\n",
       "      <th>cum_precip6</th>\n",
       "    </tr>\n",
       "  </thead>\n",
       "  <tbody>\n",
       "    <tr>\n",
       "      <th>0</th>\n",
       "      <td>736566.104167</td>\n",
       "      <td>32.785813</td>\n",
       "      <td>29.972728</td>\n",
       "      <td>1.499305</td>\n",
       "      <td>-35.279577</td>\n",
       "      <td>0.0</td>\n",
       "      <td>NaN</td>\n",
       "      <td>NaN</td>\n",
       "    </tr>\n",
       "  </tbody>\n",
       "</table>\n",
       "</div>"
      ],
      "text/plain": [
       "            time        sss        sst  wind_spd   wind_dir  precip  \\\n",
       "0  736566.104167  32.785813  29.972728  1.499305 -35.279577     0.0   \n",
       "\n",
       "   cum_precip3  cum_precip6  \n",
       "0          NaN          NaN  "
      ]
     },
     "execution_count": 10,
     "metadata": {},
     "output_type": "execute_result"
    }
   ],
   "source": [
    "# Creating a dataframe for each set\n",
    "data = pd.DataFrame([time, sss, sst, wind_spd, wind_dir, precip, cum_precip3, cum_precip6])\n",
    "data2 = pd.DataFrame([time2, sss2, sst2, wind_spd2, wind_dir2, precip2,  cum_precip32, cum_precip62])\n",
    "\n",
    "# Putting it into the proper layout\n",
    "data = data.transpose()\n",
    "data2 = data2.transpose()\n",
    "\n",
    "# ... and finally naming the columns\n",
    "data.columns = (['time', 'sss', 'sst', 'wind_spd', 'wind_dir', 'precip', 'cum_precip3', 'cum_precip6'])\n",
    "data2.columns = (['time', 'sss', 'sst', 'wind_spd', 'wind_dir', 'precip', 'cum_precip3', 'cum_precip6'])\n",
    "\n",
    "data2.head(1)"
   ]
  },
  {
   "cell_type": "markdown",
   "metadata": {},
   "source": [
    "We were somewhat suspicious of the cumulative precipitations, so we decided to compute them ourselves as a rolling sum."
   ]
  },
  {
   "cell_type": "code",
   "execution_count": 14,
   "metadata": {
    "ExecuteTime": {
     "end_time": "2019-02-22T02:51:08.706481Z",
     "start_time": "2019-02-22T02:51:08.646339Z"
    }
   },
   "outputs": [
    {
     "data": {
      "text/html": [
       "<div>\n",
       "<style scoped>\n",
       "    .dataframe tbody tr th:only-of-type {\n",
       "        vertical-align: middle;\n",
       "    }\n",
       "\n",
       "    .dataframe tbody tr th {\n",
       "        vertical-align: top;\n",
       "    }\n",
       "\n",
       "    .dataframe thead th {\n",
       "        text-align: right;\n",
       "    }\n",
       "</style>\n",
       "<table border=\"1\" class=\"dataframe\">\n",
       "  <thead>\n",
       "    <tr style=\"text-align: right;\">\n",
       "      <th></th>\n",
       "      <th>time</th>\n",
       "      <th>sss</th>\n",
       "      <th>sst</th>\n",
       "      <th>wind_spd</th>\n",
       "      <th>wind_dir</th>\n",
       "      <th>precip</th>\n",
       "      <th>cum_precip3</th>\n",
       "      <th>cum_precip6</th>\n",
       "    </tr>\n",
       "  </thead>\n",
       "  <tbody>\n",
       "    <tr>\n",
       "      <th>count</th>\n",
       "      <td>10459.000000</td>\n",
       "      <td>10459.000000</td>\n",
       "      <td>10459.000000</td>\n",
       "      <td>10459.000000</td>\n",
       "      <td>10459.000000</td>\n",
       "      <td>10459.000000</td>\n",
       "      <td>1.045700e+04</td>\n",
       "      <td>1.045400e+04</td>\n",
       "    </tr>\n",
       "    <tr>\n",
       "      <th>mean</th>\n",
       "      <td>736783.979167</td>\n",
       "      <td>33.425595</td>\n",
       "      <td>27.863688</td>\n",
       "      <td>5.782318</td>\n",
       "      <td>-44.975005</td>\n",
       "      <td>0.375486</td>\n",
       "      <td>1.126673e+00</td>\n",
       "      <td>2.250715e+00</td>\n",
       "    </tr>\n",
       "    <tr>\n",
       "      <th>std</th>\n",
       "      <td>125.808232</td>\n",
       "      <td>0.673548</td>\n",
       "      <td>0.619148</td>\n",
       "      <td>2.235571</td>\n",
       "      <td>107.111796</td>\n",
       "      <td>1.927136</td>\n",
       "      <td>4.386714e+00</td>\n",
       "      <td>7.054332e+00</td>\n",
       "    </tr>\n",
       "    <tr>\n",
       "      <th>min</th>\n",
       "      <td>736566.104167</td>\n",
       "      <td>30.702347</td>\n",
       "      <td>26.630900</td>\n",
       "      <td>0.007352</td>\n",
       "      <td>-179.936301</td>\n",
       "      <td>0.000000</td>\n",
       "      <td>-7.993606e-15</td>\n",
       "      <td>-1.776357e-14</td>\n",
       "    </tr>\n",
       "    <tr>\n",
       "      <th>25%</th>\n",
       "      <td>736675.041667</td>\n",
       "      <td>32.915935</td>\n",
       "      <td>27.251241</td>\n",
       "      <td>4.235575</td>\n",
       "      <td>-138.433271</td>\n",
       "      <td>0.000000</td>\n",
       "      <td>0.000000e+00</td>\n",
       "      <td>-9.769963e-15</td>\n",
       "    </tr>\n",
       "    <tr>\n",
       "      <th>50%</th>\n",
       "      <td>736783.979167</td>\n",
       "      <td>33.369679</td>\n",
       "      <td>27.996272</td>\n",
       "      <td>6.136603</td>\n",
       "      <td>-108.354818</td>\n",
       "      <td>0.000000</td>\n",
       "      <td>1.776357e-15</td>\n",
       "      <td>2.708944e-14</td>\n",
       "    </tr>\n",
       "    <tr>\n",
       "      <th>75%</th>\n",
       "      <td>736892.916667</td>\n",
       "      <td>34.078227</td>\n",
       "      <td>28.324040</td>\n",
       "      <td>7.516339</td>\n",
       "      <td>56.066751</td>\n",
       "      <td>0.000000</td>\n",
       "      <td>6.622575e-02</td>\n",
       "      <td>5.398891e-01</td>\n",
       "    </tr>\n",
       "    <tr>\n",
       "      <th>max</th>\n",
       "      <td>737001.854167</td>\n",
       "      <td>34.398257</td>\n",
       "      <td>30.498667</td>\n",
       "      <td>12.201906</td>\n",
       "      <td>179.926803</td>\n",
       "      <td>45.403696</td>\n",
       "      <td>9.143455e+01</td>\n",
       "      <td>1.105281e+02</td>\n",
       "    </tr>\n",
       "  </tbody>\n",
       "</table>\n",
       "</div>"
      ],
      "text/plain": [
       "                time           sss           sst      wind_spd      wind_dir  \\\n",
       "count   10459.000000  10459.000000  10459.000000  10459.000000  10459.000000   \n",
       "mean   736783.979167     33.425595     27.863688      5.782318    -44.975005   \n",
       "std       125.808232      0.673548      0.619148      2.235571    107.111796   \n",
       "min    736566.104167     30.702347     26.630900      0.007352   -179.936301   \n",
       "25%    736675.041667     32.915935     27.251241      4.235575   -138.433271   \n",
       "50%    736783.979167     33.369679     27.996272      6.136603   -108.354818   \n",
       "75%    736892.916667     34.078227     28.324040      7.516339     56.066751   \n",
       "max    737001.854167     34.398257     30.498667     12.201906    179.926803   \n",
       "\n",
       "             precip   cum_precip3   cum_precip6  \n",
       "count  10459.000000  1.045700e+04  1.045400e+04  \n",
       "mean       0.375486  1.126673e+00  2.250715e+00  \n",
       "std        1.927136  4.386714e+00  7.054332e+00  \n",
       "min        0.000000 -7.993606e-15 -1.776357e-14  \n",
       "25%        0.000000  0.000000e+00 -9.769963e-15  \n",
       "50%        0.000000  1.776357e-15  2.708944e-14  \n",
       "75%        0.000000  6.622575e-02  5.398891e-01  \n",
       "max       45.403696  9.143455e+01  1.105281e+02  "
      ]
     },
     "execution_count": 14,
     "metadata": {},
     "output_type": "execute_result"
    }
   ],
   "source": [
    "data.drop(['cum_precip3', 'cum_precip6'], axis=1, inplace=True)\n",
    "data2.drop(['cum_precip3', 'cum_precip6'], axis=1, inplace=True)\n",
    "\n",
    "data['cum_precip3'] = data['precip'].rolling(3).sum()\n",
    "data['cum_precip6'] = data['precip'].rolling(6).sum()\n",
    "\n",
    "data2['cum_precip3'] = data2['precip'].rolling(3).sum()\n",
    "data2['cum_precip6'] = data2['precip'].rolling(6).sum()\n",
    "\n",
    "data2.describe()"
   ]
  },
  {
   "cell_type": "code",
   "execution_count": 15,
   "metadata": {
    "ExecuteTime": {
     "end_time": "2019-02-22T02:51:55.058676Z",
     "start_time": "2019-02-22T02:51:55.044438Z"
    }
   },
   "outputs": [],
   "source": [
    "data.fillna(0, inplace=True)\n",
    "data2.fillna(0, inplace=True)"
   ]
  },
  {
   "cell_type": "markdown",
   "metadata": {},
   "source": [
    "## Inspecting Our Data"
   ]
  },
  {
   "cell_type": "markdown",
   "metadata": {},
   "source": [
    "We were told that we classify a \"rain event\" as 2 mm or more over the course of 3 hours. How often do we see one?"
   ]
  },
  {
   "cell_type": "code",
   "execution_count": 16,
   "metadata": {
    "ExecuteTime": {
     "end_time": "2019-02-22T02:54:32.234553Z",
     "start_time": "2019-02-22T02:54:32.214315Z"
    }
   },
   "outputs": [
    {
     "name": "stdout",
     "output_type": "stream",
     "text": [
      "214.0\n",
      "1127.0\n"
     ]
    }
   ],
   "source": [
    "print(data[data['cum_precip3'] > 2].size/8)\n",
    "\n",
    "print(data2[data2['cum_precip3'] > 2].size/8)"
   ]
  },
  {
   "cell_type": "markdown",
   "metadata": {},
   "source": [
    "... so very rare. Only about 2.3% and 10.7% for each set, respectively."
   ]
  },
  {
   "cell_type": "markdown",
   "metadata": {},
   "source": [
    "# Feature Engineering"
   ]
  },
  {
   "cell_type": "markdown",
   "metadata": {},
   "source": [
    "We will definitely need more than just these variables. Some of the things we decided that we may need include temporal data, and the amount of change in our current variables per hour."
   ]
  },
  {
   "cell_type": "markdown",
   "metadata": {},
   "source": [
    "## Adding Time"
   ]
  },
  {
   "cell_type": "code",
   "execution_count": 17,
   "metadata": {
    "ExecuteTime": {
     "end_time": "2019-02-22T03:04:18.800196Z",
     "start_time": "2019-02-22T03:04:18.393210Z"
    }
   },
   "outputs": [],
   "source": [
    "# For Spurs1\n",
    "import datetime\n",
    "from matplotlib import dates as dates\n",
    "fix_time = pd.to_datetime(data['time']-719529, unit='D')\n",
    "fix_time.head()\n",
    "\n",
    "data['new_time'] = fix_time\n",
    "data['year'] = pd.DatetimeIndex(data['new_time']).year\n",
    "data['month'] = pd.DatetimeIndex(data['new_time']).month\n",
    "data['day'] = pd.DatetimeIndex(data['new_time']).day\n",
    "data['hour'] = pd.DatetimeIndex(data['new_time']).hour\n",
    "data = data.set_index('new_time')\n",
    "\n",
    "\n",
    "# For Spurs2\n",
    "import datetime\n",
    "from matplotlib import dates as dates\n",
    "fix_time2 = pd.to_datetime(data2['time']-719529, unit='D')\n",
    "fix_time2.head()\n",
    "\n",
    "data2['new_time'] = fix_time2\n",
    "data2['year'] = pd.DatetimeIndex(data2['new_time']).year\n",
    "data2['month'] = pd.DatetimeIndex(data2['new_time']).month\n",
    "data2['day'] = pd.DatetimeIndex(data2['new_time']).day\n",
    "data2['hour'] = pd.DatetimeIndex(data2['new_time']).hour\n",
    "data2 = data2.set_index('new_time')"
   ]
  },
  {
   "cell_type": "markdown",
   "metadata": {},
   "source": [
    "Now we add in our changes between hours. We decided to look at the percentage change from one hour to the next for now, though we may change this later. Of course, for our models we'll also need to scale everything."
   ]
  },
  {
   "cell_type": "markdown",
   "metadata": {},
   "source": [
    "## Adding Scaled Columns and Change"
   ]
  },
  {
   "cell_type": "code",
   "execution_count": 18,
   "metadata": {
    "ExecuteTime": {
     "end_time": "2019-02-22T03:08:40.739463Z",
     "start_time": "2019-02-22T03:08:39.674417Z"
    }
   },
   "outputs": [],
   "source": [
    "from sklearn.preprocessing import StandardScaler, scale\n",
    "sc = StandardScaler()\n",
    "# For Spurs1\n",
    "scaled_stuff = sc.fit_transform(data['sss'].values.reshape(-1,1))\n",
    "scaled_stuff2 = sc.fit_transform(data['sst'].values.reshape(-1,1))\n",
    "scaled_stuff3 = sc.fit_transform(data['wind_dir'].values.reshape(-1,1))\n",
    "scaled_stuff4 = sc.fit_transform(data['wind_spd'].values.reshape(-1,1))\n",
    "data['scaled_sss'] = scaled_stuff\n",
    "data['scaled_dir'] = scaled_stuff3\n",
    "data['scaled_spd'] = scaled_stuff4\n",
    "data['scaled_sst'] = scaled_stuff2\n",
    "data['pct_change'] = data['sss'].pct_change()\n",
    "scaled_stuff5 = sc.fit_transform(data['pct_change'].values.reshape(-1,1))\n",
    "data['pct_c_scaled'] = scaled_stuff5\n",
    "data['set'] = 'Spurs1'\n",
    "data['sst_pct_change'] = scale(data['sst'].pct_change())\n",
    "data['dir_pct_change'] = scale(data['wind_dir'].pct_change())\n",
    "data['spd_pct_change'] = scale(data['wind_spd'].pct_change())\n",
    "\n",
    "# For Spurs2\n",
    "scaled_stuff = sc.fit_transform(data2['sss'].values.reshape(-1,1))\n",
    "scaled_stuff2 = sc.fit_transform(data2['sst'].values.reshape(-1,1))\n",
    "scaled_stuff3 = sc.fit_transform(data2['wind_dir'].values.reshape(-1,1))\n",
    "scaled_stuff4 = sc.fit_transform(data2['wind_spd'].values.reshape(-1,1))\n",
    "data2['scaled_sss'] = scaled_stuff\n",
    "data2['scaled_dir'] = scaled_stuff3\n",
    "data2['scaled_spd'] = scaled_stuff4\n",
    "data2['scaled_sst'] = scaled_stuff2\n",
    "data2['pct_change'] = data2['sss'].pct_change()\n",
    "scaled_stuff5 = sc.fit_transform(data2['pct_change'].values.reshape(-1,1))\n",
    "data2['pct_c_scaled'] = scaled_stuff5\n",
    "data2['set'] = 'Spurs2'\n",
    "data2['sst_pct_change'] = scale(data2['sst'].pct_change())\n",
    "data2['dir_pct_change'] = scale(data2['wind_dir'].pct_change())\n",
    "data2['spd_pct_change'] = scale(data2['wind_spd'].pct_change())\n",
    "\n",
    "data.fillna(0, inplace=True)\n",
    "data2.fillna(0, inplace=True)"
   ]
  },
  {
   "cell_type": "markdown",
   "metadata": {},
   "source": [
    "# PCA and RFE"
   ]
  },
  {
   "cell_type": "markdown",
   "metadata": {},
   "source": [
    "The last thing we need to do before we begin running models is to find which variables matter the most. We do not simply want to throw everything into each model, as this will create far too much noise and worsen our results. Therefore, we decided to find out how few variables we need to explain the majority of the variance in our data."
   ]
  },
  {
   "cell_type": "markdown",
   "metadata": {},
   "source": [
    "## For Spurs1"
   ]
  },
  {
   "cell_type": "code",
   "execution_count": 20,
   "metadata": {
    "ExecuteTime": {
     "end_time": "2019-02-22T03:15:05.114761Z",
     "start_time": "2019-02-22T03:15:05.099146Z"
    }
   },
   "outputs": [],
   "source": [
    "#data.info()"
   ]
  },
  {
   "cell_type": "code",
   "execution_count": 24,
   "metadata": {
    "ExecuteTime": {
     "end_time": "2019-02-22T03:16:58.586425Z",
     "start_time": "2019-02-22T03:16:58.555206Z"
    }
   },
   "outputs": [
    {
     "data": {
      "text/plain": [
       "array([0, 0, 0, ..., 0, 0, 0])"
      ]
     },
     "execution_count": 24,
     "metadata": {},
     "output_type": "execute_result"
    }
   ],
   "source": [
    "X = data.loc[:, ['day','month','hour','scaled_dir','scaled_spd','scaled_sst','scaled_sss','pct_c_scaled']]\n",
    "y = np.array([1 if i>2.0 else 0 for i in data.iloc[:,5]])\n",
    "y"
   ]
  },
  {
   "cell_type": "code",
   "execution_count": 26,
   "metadata": {
    "ExecuteTime": {
     "end_time": "2019-02-22T03:17:48.048879Z",
     "start_time": "2019-02-22T03:17:48.017910Z"
    }
   },
   "outputs": [
    {
     "name": "stdout",
     "output_type": "stream",
     "text": [
      "5\n"
     ]
    },
    {
     "data": {
      "text/plain": [
       "array([0.54312222, 0.88269379, 0.97019278, 0.97789321, 0.9851118 ,\n",
       "       0.99183863, 0.99718151, 1.        ])"
      ]
     },
     "execution_count": 26,
     "metadata": {},
     "output_type": "execute_result"
    }
   ],
   "source": [
    "from sklearn.decomposition import PCA\n",
    "pca = PCA()\n",
    "pca.fit(X)\n",
    "csum=np.cumsum(pca.explained_variance_ratio_)\n",
    "d=np.argmax(csum>=.98)+1\n",
    "print(d)\n",
    "csum"
   ]
  },
  {
   "cell_type": "code",
   "execution_count": 37,
   "metadata": {
    "ExecuteTime": {
     "end_time": "2019-02-22T03:28:00.161015Z",
     "start_time": "2019-02-22T03:27:51.742830Z"
    }
   },
   "outputs": [
    {
     "name": "stdout",
     "output_type": "stream",
     "text": [
      "Best parameter (CV score=0.991):\n",
      "{'logistic__alpha': 0.005994842503189409, 'pca__n_components': 8}\n",
      "        day     month      hour  scaled_dir  scaled_spd  scaled_sst  \\\n",
      "0  0.999524  0.014559 -0.003999    0.009547   -0.019250    0.008071   \n",
      "1  0.004048  0.000374  0.999938   -0.008409    0.000417    0.005874   \n",
      "2  0.012455 -0.968194  0.001806    0.020094   -0.066621   -0.202176   \n",
      "3  0.000474  0.054347 -0.003577   -0.545587    0.136864   -0.043040   \n",
      "4 -0.016360  0.049679  0.006095    0.648954   -0.462589    0.003008   \n",
      "\n",
      "   scaled_sss  pct_c_scaled  \n",
      "0   -0.014003     -0.000126  \n",
      "1    0.000839      0.000645  \n",
      "2   -0.129319     -0.001418  \n",
      "3   -0.487601     -0.664100  \n",
      "4   -0.032398     -0.600865  \n"
     ]
    },
    {
     "data": {
      "text/plain": [
       "array([0.54312222, 0.33957157, 0.08749899, 0.00770043, 0.00721859])"
      ]
     },
     "execution_count": 37,
     "metadata": {},
     "output_type": "execute_result"
    }
   ],
   "source": [
    "from sklearn.model_selection import GridSearchCV\n",
    "from sklearn.linear_model import SGDClassifier\n",
    "from sklearn.pipeline import Pipeline\n",
    "logistic = SGDClassifier(loss='log', penalty='l2', early_stopping=True,\n",
    "                         max_iter=10000, tol=1e-5, random_state=0)\n",
    "pca = PCA(.98)\n",
    "pipe = Pipeline(steps=[('pca', pca), ('logistic', logistic)])\n",
    "\n",
    "# Parameters of pipelines can be set using ‘__’ separated parameter names:\n",
    "param_grid = {\n",
    "    'pca__n_components': [1,2,3,4,5,6,7,8],\n",
    "    'logistic__alpha': np.logspace(-4, 4, 10),\n",
    "}\n",
    "search = GridSearchCV(pipe, param_grid, iid=False, cv=5,\n",
    "                      return_train_score=False)\n",
    "search.fit(X, y.ravel())\n",
    "print(\"Best parameter (CV score=%0.3f):\" % search.best_score_)\n",
    "print(search.best_params_)\n",
    "pca.fit(X)\n",
    "print(pd.DataFrame(pca.components_,columns=X.columns))\n",
    "pca.explained_variance_ratio_"
   ]
  },
  {
   "cell_type": "markdown",
   "metadata": {},
   "source": [
    "So this suggests that wind direction, salinity change, and wind speed are the most important factors by a decent margin."
   ]
  },
  {
   "cell_type": "code",
   "execution_count": 40,
   "metadata": {
    "ExecuteTime": {
     "end_time": "2019-02-22T03:30:12.830140Z",
     "start_time": "2019-02-22T03:30:12.658280Z"
    }
   },
   "outputs": [
    {
     "name": "stdout",
     "output_type": "stream",
     "text": [
      "[False False False  True  True  True  True  True]\n",
      "[4 2 3 1 1 1 1 1]\n"
     ]
    },
    {
     "data": {
      "text/html": [
       "<div>\n",
       "<style scoped>\n",
       "    .dataframe tbody tr th:only-of-type {\n",
       "        vertical-align: middle;\n",
       "    }\n",
       "\n",
       "    .dataframe tbody tr th {\n",
       "        vertical-align: top;\n",
       "    }\n",
       "\n",
       "    .dataframe thead th {\n",
       "        text-align: right;\n",
       "    }\n",
       "</style>\n",
       "<table border=\"1\" class=\"dataframe\">\n",
       "  <thead>\n",
       "    <tr style=\"text-align: right;\">\n",
       "      <th></th>\n",
       "      <th>day</th>\n",
       "      <th>month</th>\n",
       "      <th>hour</th>\n",
       "      <th>scaled_dir</th>\n",
       "      <th>scaled_spd</th>\n",
       "      <th>scaled_sst</th>\n",
       "      <th>scaled_sss</th>\n",
       "      <th>pct_c_scaled</th>\n",
       "    </tr>\n",
       "    <tr>\n",
       "      <th>new_time</th>\n",
       "      <th></th>\n",
       "      <th></th>\n",
       "      <th></th>\n",
       "      <th></th>\n",
       "      <th></th>\n",
       "      <th></th>\n",
       "      <th></th>\n",
       "      <th></th>\n",
       "    </tr>\n",
       "  </thead>\n",
       "  <tbody>\n",
       "    <tr>\n",
       "      <th>2012-09-14 20:30:00.000028800</th>\n",
       "      <td>14</td>\n",
       "      <td>9</td>\n",
       "      <td>20</td>\n",
       "      <td>-0.223661</td>\n",
       "      <td>-1.120622</td>\n",
       "      <td>2.145583</td>\n",
       "      <td>2.845093</td>\n",
       "      <td>0.0</td>\n",
       "    </tr>\n",
       "  </tbody>\n",
       "</table>\n",
       "</div>"
      ],
      "text/plain": [
       "                               day  month  hour  scaled_dir  scaled_spd  \\\n",
       "new_time                                                                  \n",
       "2012-09-14 20:30:00.000028800   14      9    20   -0.223661   -1.120622   \n",
       "\n",
       "                               scaled_sst  scaled_sss  pct_c_scaled  \n",
       "new_time                                                             \n",
       "2012-09-14 20:30:00.000028800    2.145583    2.845093           0.0  "
      ]
     },
     "execution_count": 40,
     "metadata": {},
     "output_type": "execute_result"
    }
   ],
   "source": [
    "from sklearn.feature_selection import RFE\n",
    "from sklearn.linear_model import LogisticRegression\n",
    "model = LogisticRegression(solver='lbfgs')\n",
    "rfe = RFE(model, 5)\n",
    "rfe = rfe.fit(X, y.ravel())\n",
    "print(rfe.support_)\n",
    "print(rfe.ranking_)\n",
    "X.head(1)"
   ]
  },
  {
   "cell_type": "markdown",
   "metadata": {},
   "source": [
    "... and this confirms it. Temporal data is important but this suggests that the variables (and the interactions between them) have a more direct effect for now."
   ]
  },
  {
   "cell_type": "markdown",
   "metadata": {},
   "source": [
    "## Spurs2"
   ]
  },
  {
   "cell_type": "code",
   "execution_count": 44,
   "metadata": {
    "ExecuteTime": {
     "end_time": "2019-02-22T03:34:55.082992Z",
     "start_time": "2019-02-22T03:34:55.051724Z"
    }
   },
   "outputs": [
    {
     "data": {
      "text/plain": [
       "array([0, 0, 1, ..., 0, 0, 0])"
      ]
     },
     "execution_count": 44,
     "metadata": {},
     "output_type": "execute_result"
    }
   ],
   "source": [
    "X2 = data2.loc[:, ['day','month','hour','scaled_dir','scaled_spd','scaled_sst','scaled_sss','pct_c_scaled']]\n",
    "y2= np.array([1 if i>2.0 else 0 for i in data2.iloc[:,5]])\n",
    "y2"
   ]
  },
  {
   "cell_type": "code",
   "execution_count": 45,
   "metadata": {
    "ExecuteTime": {
     "end_time": "2019-02-22T03:34:56.690256Z",
     "start_time": "2019-02-22T03:34:56.659002Z"
    }
   },
   "outputs": [
    {
     "name": "stdout",
     "output_type": "stream",
     "text": [
      "4\n"
     ]
    },
    {
     "data": {
      "text/plain": [
       "array([0.55279943, 0.88725222, 0.97390722, 0.98218272, 0.98914158,\n",
       "       0.99420537, 0.99797221, 1.        ])"
      ]
     },
     "execution_count": 45,
     "metadata": {},
     "output_type": "execute_result"
    }
   ],
   "source": [
    "from sklearn.decomposition import PCA\n",
    "pca = PCA()\n",
    "pca.fit(X2)\n",
    "csum=np.cumsum(pca.explained_variance_ratio_)\n",
    "d=np.argmax(csum>=.98)+1\n",
    "print(d)\n",
    "csum"
   ]
  },
  {
   "cell_type": "markdown",
   "metadata": {},
   "source": [
    "So this suggests that we only need 4 variables to explain over 98% of our data"
   ]
  },
  {
   "cell_type": "code",
   "execution_count": 46,
   "metadata": {
    "ExecuteTime": {
     "end_time": "2019-02-22T03:36:45.368249Z",
     "start_time": "2019-02-22T03:36:35.416265Z"
    }
   },
   "outputs": [
    {
     "name": "stdout",
     "output_type": "stream",
     "text": [
      "Best parameter (CV score=0.954):\n",
      "{'logistic__alpha': 0.046415888336127774, 'pca__n_components': 8}\n",
      "        day     month      hour  scaled_dir  scaled_spd  scaled_sst  \\\n",
      "0  0.999971  0.004640  0.001888    0.003536   -0.004453   -0.000041   \n",
      "1 -0.001892 -0.000160  0.999992    0.002561    0.000995    0.002281   \n",
      "2  0.005627 -0.943286  0.000311   -0.146850    0.126067   -0.140096   \n",
      "3 -0.003010 -0.276909 -0.001781    0.409052   -0.597758    0.560356   \n",
      "\n",
      "   scaled_sss  pct_c_scaled  \n",
      "0   -0.000762     -0.000273  \n",
      "1    0.000515     -0.000515  \n",
      "2    0.230422     -0.000125  \n",
      "3   -0.205198     -0.206315  \n"
     ]
    },
    {
     "data": {
      "text/plain": [
       "array([0.55279943, 0.33445279, 0.086655  , 0.0082755 ])"
      ]
     },
     "execution_count": 46,
     "metadata": {},
     "output_type": "execute_result"
    }
   ],
   "source": [
    "from sklearn.model_selection import GridSearchCV\n",
    "from sklearn.linear_model import SGDClassifier\n",
    "from sklearn.pipeline import Pipeline\n",
    "logistic = SGDClassifier(loss='log', penalty='l2', early_stopping=True,\n",
    "                         max_iter=10000, tol=1e-5, random_state=0)\n",
    "pca = PCA(.98)\n",
    "pipe = Pipeline(steps=[('pca', pca), ('logistic', logistic)])\n",
    "\n",
    "# Parameters of pipelines can be set using ‘__’ separated parameter names:\n",
    "param_grid = {\n",
    "    'pca__n_components': [1,2,3,4,5,6,7,8],\n",
    "    'logistic__alpha': np.logspace(-4, 4, 10),\n",
    "}\n",
    "search = GridSearchCV(pipe, param_grid, iid=False, cv=5,\n",
    "                      return_train_score=False)\n",
    "search.fit(X2, y2.ravel())\n",
    "print(\"Best parameter (CV score=%0.3f):\" % search.best_score_)\n",
    "print(search.best_params_)\n",
    "pca.fit(X2)\n",
    "print(pd.DataFrame(pca.components_,columns=X2.columns))\n",
    "pca.explained_variance_ratio_"
   ]
  },
  {
   "cell_type": "markdown",
   "metadata": {},
   "source": [
    "So this appears to tell us that wind direction, wind speed, temperature, and month are the most important? Let's see what RFE tells us."
   ]
  },
  {
   "cell_type": "code",
   "execution_count": 47,
   "metadata": {
    "ExecuteTime": {
     "end_time": "2019-02-22T03:37:29.018986Z",
     "start_time": "2019-02-22T03:37:28.847093Z"
    }
   },
   "outputs": [
    {
     "name": "stdout",
     "output_type": "stream",
     "text": [
      "[False False False  True  True False  True  True]\n",
      "[5 3 4 1 1 2 1 1]\n"
     ]
    },
    {
     "data": {
      "text/html": [
       "<div>\n",
       "<style scoped>\n",
       "    .dataframe tbody tr th:only-of-type {\n",
       "        vertical-align: middle;\n",
       "    }\n",
       "\n",
       "    .dataframe tbody tr th {\n",
       "        vertical-align: top;\n",
       "    }\n",
       "\n",
       "    .dataframe thead th {\n",
       "        text-align: right;\n",
       "    }\n",
       "</style>\n",
       "<table border=\"1\" class=\"dataframe\">\n",
       "  <thead>\n",
       "    <tr style=\"text-align: right;\">\n",
       "      <th></th>\n",
       "      <th>day</th>\n",
       "      <th>month</th>\n",
       "      <th>hour</th>\n",
       "      <th>scaled_dir</th>\n",
       "      <th>scaled_spd</th>\n",
       "      <th>scaled_sst</th>\n",
       "      <th>scaled_sss</th>\n",
       "      <th>pct_c_scaled</th>\n",
       "    </tr>\n",
       "    <tr>\n",
       "      <th>new_time</th>\n",
       "      <th></th>\n",
       "      <th></th>\n",
       "      <th></th>\n",
       "      <th></th>\n",
       "      <th></th>\n",
       "      <th></th>\n",
       "      <th></th>\n",
       "      <th></th>\n",
       "    </tr>\n",
       "  </thead>\n",
       "  <tbody>\n",
       "    <tr>\n",
       "      <th>2016-08-24 02:30:00.000028800</th>\n",
       "      <td>24</td>\n",
       "      <td>8</td>\n",
       "      <td>2</td>\n",
       "      <td>0.090521</td>\n",
       "      <td>-1.915939</td>\n",
       "      <td>3.406521</td>\n",
       "      <td>-0.949913</td>\n",
       "      <td>0.0</td>\n",
       "    </tr>\n",
       "  </tbody>\n",
       "</table>\n",
       "</div>"
      ],
      "text/plain": [
       "                               day  month  hour  scaled_dir  scaled_spd  \\\n",
       "new_time                                                                  \n",
       "2016-08-24 02:30:00.000028800   24      8     2    0.090521   -1.915939   \n",
       "\n",
       "                               scaled_sst  scaled_sss  pct_c_scaled  \n",
       "new_time                                                             \n",
       "2016-08-24 02:30:00.000028800    3.406521   -0.949913           0.0  "
      ]
     },
     "execution_count": 47,
     "metadata": {},
     "output_type": "execute_result"
    }
   ],
   "source": [
    "from sklearn.feature_selection import RFE\n",
    "from sklearn.linear_model import LogisticRegression\n",
    "model = LogisticRegression(solver='lbfgs')\n",
    "rfe = RFE(model, 4)\n",
    "rfe = rfe.fit(X2, y2.ravel())\n",
    "print(rfe.support_)\n",
    "print(rfe.ranking_)\n",
    "X2.head(1)"
   ]
  },
  {
   "cell_type": "markdown",
   "metadata": {},
   "source": [
    "RFE, however, suggests to us that the wind direction and speed, as well as the salinity and its change are the most important."
   ]
  },
  {
   "cell_type": "markdown",
   "metadata": {},
   "source": [
    "__One thing to remember is that this data is clearly not linear; so, while PCA is useful, we should be wary of it. This is why we also look at RFE, which is a logistic method, and make judgements off of both.__"
   ]
  },
  {
   "cell_type": "code",
   "execution_count": 49,
   "metadata": {
    "ExecuteTime": {
     "end_time": "2019-02-22T04:01:08.280716Z",
     "start_time": "2019-02-22T04:01:07.987012Z"
    }
   },
   "outputs": [],
   "source": [
    "#data.to_csv('data.csv')\n",
    "#data2.to_csv('data2.csv')"
   ]
  }
 ],
 "metadata": {
  "kernelspec": {
   "display_name": "Python 3",
   "language": "python",
   "name": "python3"
  },
  "language_info": {
   "codemirror_mode": {
    "name": "ipython",
    "version": 3
   },
   "file_extension": ".py",
   "mimetype": "text/x-python",
   "name": "python",
   "nbconvert_exporter": "python",
   "pygments_lexer": "ipython3",
   "version": "3.6.8"
  },
  "toc": {
   "base_numbering": 1,
   "nav_menu": {},
   "number_sections": true,
   "sideBar": true,
   "skip_h1_title": false,
   "title_cell": "Table of Contents",
   "title_sidebar": "Contents",
   "toc_cell": false,
   "toc_position": {},
   "toc_section_display": true,
   "toc_window_display": true
  },
  "varInspector": {
   "cols": {
    "lenName": 16,
    "lenType": 16,
    "lenVar": 40
   },
   "kernels_config": {
    "python": {
     "delete_cmd_postfix": "",
     "delete_cmd_prefix": "del ",
     "library": "var_list.py",
     "varRefreshCmd": "print(var_dic_list())"
    },
    "r": {
     "delete_cmd_postfix": ") ",
     "delete_cmd_prefix": "rm(",
     "library": "var_list.r",
     "varRefreshCmd": "cat(var_dic_list()) "
    }
   },
   "types_to_exclude": [
    "module",
    "function",
    "builtin_function_or_method",
    "instance",
    "_Feature"
   ],
   "window_display": false
  }
 },
 "nbformat": 4,
 "nbformat_minor": 2
}
